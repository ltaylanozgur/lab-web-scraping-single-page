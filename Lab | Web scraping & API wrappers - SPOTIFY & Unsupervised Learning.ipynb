{
 "cells": [
  {
   "cell_type": "markdown",
   "id": "80d9c0b3",
   "metadata": {},
   "source": [
    "# Lab | Web Scraping Single Page"
   ]
  },
  {
   "cell_type": "code",
   "execution_count": null,
   "id": "7c086686",
   "metadata": {
    "id": "SyHqFC5dxt8W"
   },
   "outputs": [],
   "source": [
    "from bs4 import BeautifulSoup\n",
    "\n",
    "# access information on any webpage...\n",
    "\n",
    "from bs4 import BeautifulSoup\n",
    "import requests\n",
    "import pandas as pd\n",
    "\n",
    "pd.set_option('display.max_columns', 165)\n",
    "pd.set_option('display.max_rows', 165)"
   ]
  },
  {
   "cell_type": "code",
   "execution_count": null,
   "id": "b6704f9f",
   "metadata": {
    "id": "Lp3LA78aHb0g"
   },
   "outputs": [],
   "source": [
    "# 2. find url and store it in a variable\n",
    "# top 100 songs - 2015\n",
    "url = \"https://playback.fm/charts/top-100-songs/2015\""
   ]
  },
  {
   "cell_type": "code",
   "execution_count": null,
   "id": "52e7f68a",
   "metadata": {
    "colab": {
     "base_uri": "https://localhost:8080/"
    },
    "executionInfo": {
     "elapsed": 1255,
     "status": "ok",
     "timestamp": 1619377720353,
     "user": {
      "displayName": "David Henriques",
      "photoUrl": "",
      "userId": "14332050621134291491"
     },
     "user_tz": -60
    },
    "id": "T-EV-NNgHccg",
    "outputId": "f9b4bfcb-72e8-4e99-eb61-564f44ff4445"
   },
   "outputs": [],
   "source": [
    "# 3. download html with a get request\n",
    "response = requests.get(url)\n",
    "# response.status_code # 200 status code means OK!"
   ]
  },
  {
   "cell_type": "code",
   "execution_count": null,
   "id": "c1bb6d92",
   "metadata": {},
   "outputs": [],
   "source": [
    "response.status_code # 200 status code means OK!"
   ]
  },
  {
   "cell_type": "code",
   "execution_count": null,
   "id": "afead20c",
   "metadata": {},
   "outputs": [],
   "source": [
    "# response.content"
   ]
  },
  {
   "cell_type": "code",
   "execution_count": null,
   "id": "a712eb11",
   "metadata": {
    "id": "3Q5yRuGIHhVa"
   },
   "outputs": [],
   "source": [
    "# 4.1. parse html (create the 'soup')\n",
    "soup = BeautifulSoup(response.content, \"html.parser\")"
   ]
  },
  {
   "cell_type": "code",
   "execution_count": null,
   "id": "dd3dc184",
   "metadata": {
    "colab": {
     "base_uri": "https://localhost:8080/"
    },
    "executionInfo": {
     "elapsed": 2844,
     "status": "ok",
     "timestamp": 1619377727598,
     "user": {
      "displayName": "David Henriques",
      "photoUrl": "",
      "userId": "14332050621134291491"
     },
     "user_tz": -60
    },
    "id": "GZnNOYEuHlsa",
    "outputId": "82e15944-e955-4e14-efcd-f725efaf6297"
   },
   "outputs": [],
   "source": [
    "# 4.2. check that the html code looks like it should\n",
    "# soup"
   ]
  },
  {
   "cell_type": "code",
   "execution_count": null,
   "id": "f91c84e3",
   "metadata": {
    "id": "oh9yO80_IDRo",
    "scrolled": true
   },
   "outputs": [],
   "source": [
    "# 5. retrieve/extract the desired info (here, you'll paste the \"Selector\" you copied before to get the element that belongs to the top movie)\n",
    "# soup.select(\"td:nth-child(2)\")\n",
    "\n"
   ]
  },
  {
   "cell_type": "code",
   "execution_count": null,
   "id": "ebfde31f",
   "metadata": {},
   "outputs": [],
   "source": [
    "# print(soup.prettify())"
   ]
  },
  {
   "cell_type": "code",
   "execution_count": null,
   "id": "9ce76abb",
   "metadata": {
    "colab": {
     "base_uri": "https://localhost:8080/"
    },
    "executionInfo": {
     "elapsed": 715,
     "status": "ok",
     "timestamp": 1619377815949,
     "user": {
      "displayName": "David Henriques",
      "photoUrl": "",
      "userId": "14332050621134291491"
     },
     "user_tz": -60
    },
    "id": "AlrhnybSIFmh",
    "outputId": "f4bb4b57-4783-448d-ca54-62fbe045b9fd"
   },
   "outputs": [],
   "source": [
    "soup.select(\"td:nth-child(2) > a\")[0]"
   ]
  },
  {
   "cell_type": "code",
   "execution_count": null,
   "id": "08e83f70",
   "metadata": {},
   "outputs": [],
   "source": [
    "soup.select(\"td:nth-child(2) > a\")[99].get_text() # artist"
   ]
  },
  {
   "cell_type": "code",
   "execution_count": null,
   "id": "1b398d98",
   "metadata": {
    "scrolled": true
   },
   "outputs": [],
   "source": [
    "soup.select(\"td:nth-child(2)\")[0]"
   ]
  },
  {
   "cell_type": "code",
   "execution_count": null,
   "id": "37adbb79",
   "metadata": {},
   "outputs": [],
   "source": [
    "soup.select(\"td.mobile-hide > a > span.song\")[0].get_text() #song"
   ]
  },
  {
   "cell_type": "code",
   "execution_count": null,
   "id": "f7feda0c",
   "metadata": {
    "colab": {
     "base_uri": "https://localhost:8080/"
    },
    "executionInfo": {
     "elapsed": 9313,
     "status": "ok",
     "timestamp": 1619378299696,
     "user": {
      "displayName": "David Henriques",
      "photoUrl": "",
      "userId": "14332050621134291491"
     },
     "user_tz": -60
    },
    "id": "f3iTuAqCWOm0",
    "outputId": "2e65f639-a64d-4919-d307-ff9488ff752e"
   },
   "outputs": [],
   "source": [
    "#initialize empty lists\n",
    "artist = []\n",
    "song = []\n",
    "\n",
    "# define the number of iterations of our for loop\n",
    "# by checking how many elements are in the retrieved result set\n",
    "# (this is equivalent but more robust than just explicitly defining 250 iterations)\n",
    "num_iter = len(soup.select(\"td:nth-child(2) > a\"))\n",
    "\n",
    "tClist = soup.select(\"td:nth-child(2) > a\")\n",
    "spanlist = soup.select(\"td.mobile-hide > a > span.song\")\n",
    "# iterate through the result set and retrive all the data\n",
    "for i in range(num_iter):\n",
    "    artist.append(tClist[i].get_text())\n",
    "    song.append(spanlist[i].get_text())\n",
    "\n",
    "print(num_iter)\n",
    "print(artist)\n",
    "print(song)\n",
    "\n"
   ]
  },
  {
   "cell_type": "code",
   "execution_count": null,
   "id": "e755fded",
   "metadata": {},
   "outputs": [],
   "source": [
    "# each list becomes a column\n",
    "songs = pd.DataFrame({\"artist\":artist,\n",
    "                       \"song\":song, \n",
    "                      })"
   ]
  },
  {
   "cell_type": "code",
   "execution_count": null,
   "id": "852c073e",
   "metadata": {
    "scrolled": true
   },
   "outputs": [],
   "source": [
    "songs"
   ]
  },
  {
   "cell_type": "code",
   "execution_count": null,
   "id": "e30972c3",
   "metadata": {},
   "outputs": [],
   "source": [
    "songs['artist']=songs['artist'].str.replace('\\n', ' ')\n",
    "             "
   ]
  },
  {
   "cell_type": "code",
   "execution_count": null,
   "id": "e6d91dd6",
   "metadata": {
    "colab": {
     "base_uri": "https://localhost:8080/",
     "height": 204
    },
    "executionInfo": {
     "elapsed": 701,
     "status": "ok",
     "timestamp": 1619378305284,
     "user": {
      "displayName": "David Henriques",
      "photoUrl": "",
      "userId": "14332050621134291491"
     },
     "user_tz": -60
    },
    "id": "cFks_T4tWQ0F",
    "outputId": "062aba31-0609-4b42-f334-d039f937a895"
   },
   "outputs": [],
   "source": [
    "songs.head()"
   ]
  },
  {
   "cell_type": "code",
   "execution_count": null,
   "id": "05293fde",
   "metadata": {},
   "outputs": [],
   "source": []
  },
  {
   "cell_type": "code",
   "execution_count": null,
   "id": "70cf3ba8",
   "metadata": {},
   "outputs": [],
   "source": [
    "len(songs)"
   ]
  },
  {
   "cell_type": "code",
   "execution_count": null,
   "id": "f3b5b924",
   "metadata": {},
   "outputs": [],
   "source": [
    "import random\n",
    "\n",
    "\n",
    "secure_random = random.SystemRandom()\n",
    "print(secure_random.choice(song))"
   ]
  },
  {
   "cell_type": "code",
   "execution_count": null,
   "id": "e8c40f15",
   "metadata": {},
   "outputs": [],
   "source": [
    "# print(songs['song'].sample())"
   ]
  },
  {
   "cell_type": "code",
   "execution_count": null,
   "id": "52d8d399",
   "metadata": {},
   "outputs": [],
   "source": [
    "favorite_song = input('Please enter your song name: ')\n"
   ]
  },
  {
   "cell_type": "code",
   "execution_count": null,
   "id": "1d095913",
   "metadata": {
    "scrolled": false
   },
   "outputs": [],
   "source": [
    "print(favorite_song)"
   ]
  },
  {
   "cell_type": "code",
   "execution_count": null,
   "id": "db7fd06b",
   "metadata": {},
   "outputs": [],
   "source": [
    "# Recommend song\n",
    "\n",
    "if len(songs[(songs['song'].isin([favorite_song]))])>0:\n",
    "    print(\"Our song recommendation is: \", secure_random.choice(songs['song'])) \n",
    "else:\n",
    "    print(\"We are sorry that we do not have a song recommendation for you now.\")"
   ]
  },
  {
   "cell_type": "code",
   "execution_count": null,
   "id": "da78cd74",
   "metadata": {},
   "outputs": [],
   "source": [
    "songs_1=songs"
   ]
  },
  {
   "cell_type": "markdown",
   "id": "04ff06cb",
   "metadata": {
    "id": "ysQGKPUpxt8Q"
   },
   "source": [
    "# Lab | Web Scraping Multiple Page"
   ]
  },
  {
   "cell_type": "markdown",
   "id": "c633d5db",
   "metadata": {},
   "source": [
    "## Top-100-Songs"
   ]
  },
  {
   "cell_type": "code",
   "execution_count": null,
   "id": "62af26d5",
   "metadata": {
    "id": "Lp3LA78aHb0g"
   },
   "outputs": [],
   "source": [
    "# 2. find url and store it in a variable\n",
    "# Bilboard hot 100\n",
    "url = \"https://www.popvortex.com/music/charts/top-100-songs.php\""
   ]
  },
  {
   "cell_type": "code",
   "execution_count": null,
   "id": "7ae8b4df",
   "metadata": {
    "colab": {
     "base_uri": "https://localhost:8080/"
    },
    "executionInfo": {
     "elapsed": 1255,
     "status": "ok",
     "timestamp": 1619377720353,
     "user": {
      "displayName": "David Henriques",
      "photoUrl": "",
      "userId": "14332050621134291491"
     },
     "user_tz": -60
    },
    "id": "T-EV-NNgHccg",
    "outputId": "f9b4bfcb-72e8-4e99-eb61-564f44ff4445"
   },
   "outputs": [],
   "source": [
    "# 3. download html with a get request\n",
    "response = requests.get(url)\n",
    "# response.status_code # 200 status code means OK!"
   ]
  },
  {
   "cell_type": "code",
   "execution_count": null,
   "id": "a01b2f42",
   "metadata": {},
   "outputs": [],
   "source": [
    "response.status_code # 200 status code means OK!"
   ]
  },
  {
   "cell_type": "code",
   "execution_count": null,
   "id": "d17fc863",
   "metadata": {},
   "outputs": [],
   "source": [
    "# response.content"
   ]
  },
  {
   "cell_type": "code",
   "execution_count": null,
   "id": "4e05398e",
   "metadata": {
    "id": "3Q5yRuGIHhVa"
   },
   "outputs": [],
   "source": [
    "# 4.1. parse html (create the 'soup')\n",
    "soup = BeautifulSoup(response.content, \"html.parser\")"
   ]
  },
  {
   "cell_type": "code",
   "execution_count": null,
   "id": "f8080e4a",
   "metadata": {},
   "outputs": [],
   "source": [
    "# print(soup.prettify())"
   ]
  },
  {
   "cell_type": "code",
   "execution_count": null,
   "id": "426fb564",
   "metadata": {},
   "outputs": [],
   "source": [
    "soup.select(\"div.chart-content.col-xs-12.col-sm-8 > p > em\")[0].get_text() \n",
    "\n",
    "# artist"
   ]
  },
  {
   "cell_type": "code",
   "execution_count": null,
   "id": "9ebd05b0",
   "metadata": {},
   "outputs": [],
   "source": [
    "soup.select(\"div.chart-content.col-xs-12.col-sm-8 > p > cite\")[0].get_text() \n",
    "\n",
    "# song"
   ]
  },
  {
   "cell_type": "code",
   "execution_count": null,
   "id": "59ba8714",
   "metadata": {},
   "outputs": [],
   "source": [
    "#chart-position-1 > div.chart-content.col-xs-12.col-sm-8 > p > cite # song"
   ]
  },
  {
   "cell_type": "code",
   "execution_count": null,
   "id": "a75867f5",
   "metadata": {},
   "outputs": [],
   "source": [
    "#chart-position-1 > div.chart-content.col-xs-12.col-sm-8 > p > em # artist"
   ]
  },
  {
   "cell_type": "code",
   "execution_count": null,
   "id": "34d53b53",
   "metadata": {
    "colab": {
     "base_uri": "https://localhost:8080/"
    },
    "executionInfo": {
     "elapsed": 9313,
     "status": "ok",
     "timestamp": 1619378299696,
     "user": {
      "displayName": "David Henriques",
      "photoUrl": "",
      "userId": "14332050621134291491"
     },
     "user_tz": -60
    },
    "id": "f3iTuAqCWOm0",
    "outputId": "2e65f639-a64d-4919-d307-ff9488ff752e"
   },
   "outputs": [],
   "source": [
    "#initialize empty lists\n",
    "artist = []\n",
    "song = []\n",
    "\n",
    "# define the number of iterations of our for loop\n",
    "# by checking how many elements are in the retrieved result set\n",
    "# (this is equivalent but more robust than just explicitly defining 250 iterations)\n",
    "num_iter = len(soup.select(\"div.chart-content.col-xs-12.col-sm-8 > p > em\"))\n",
    "\n",
    "tClist = soup.select(\"div.chart-content.col-xs-12.col-sm-8 > p > em\")\n",
    "spanlist = soup.select(\"div.chart-content.col-xs-12.col-sm-8 > p > cite\")\n",
    "# iterate through the result set and retrive all the data\n",
    "for i in range(num_iter):\n",
    "    artist.append(tClist[i].get_text())\n",
    "    song.append(spanlist[i].get_text())\n",
    "\n",
    "print(num_iter)\n",
    "print(artist)\n",
    "print(song)\n",
    "\n"
   ]
  },
  {
   "cell_type": "code",
   "execution_count": null,
   "id": "22e79dcb",
   "metadata": {},
   "outputs": [],
   "source": [
    "# each list becomes a column\n",
    "songs = pd.DataFrame({\"artist\":artist,\n",
    "                       \"song\":song, \n",
    "                      })"
   ]
  },
  {
   "cell_type": "code",
   "execution_count": null,
   "id": "53b0a8a1",
   "metadata": {
    "scrolled": true
   },
   "outputs": [],
   "source": [
    "songs"
   ]
  },
  {
   "cell_type": "code",
   "execution_count": null,
   "id": "4df24e00",
   "metadata": {
    "colab": {
     "base_uri": "https://localhost:8080/",
     "height": 204
    },
    "executionInfo": {
     "elapsed": 701,
     "status": "ok",
     "timestamp": 1619378305284,
     "user": {
      "displayName": "David Henriques",
      "photoUrl": "",
      "userId": "14332050621134291491"
     },
     "user_tz": -60
    },
    "id": "cFks_T4tWQ0F",
    "outputId": "062aba31-0609-4b42-f334-d039f937a895",
    "scrolled": true
   },
   "outputs": [],
   "source": [
    "songs.head()"
   ]
  },
  {
   "cell_type": "code",
   "execution_count": null,
   "id": "c6e90ac1",
   "metadata": {},
   "outputs": [],
   "source": [
    "songs.dtypes"
   ]
  },
  {
   "cell_type": "code",
   "execution_count": null,
   "id": "edfa211a",
   "metadata": {},
   "outputs": [],
   "source": [
    "len(songs)"
   ]
  },
  {
   "cell_type": "code",
   "execution_count": null,
   "id": "c0f99189",
   "metadata": {
    "scrolled": true
   },
   "outputs": [],
   "source": [
    "secure_random = random.SystemRandom()\n",
    "print(secure_random.choice(songs['song']))"
   ]
  },
  {
   "cell_type": "code",
   "execution_count": null,
   "id": "27e30725",
   "metadata": {},
   "outputs": [],
   "source": [
    "# print(songs['song'].sample())"
   ]
  },
  {
   "cell_type": "code",
   "execution_count": null,
   "id": "4b2cf593",
   "metadata": {},
   "outputs": [],
   "source": [
    "favorite_song = input('Please enter your song name: ')\n"
   ]
  },
  {
   "cell_type": "code",
   "execution_count": null,
   "id": "8fd9a531",
   "metadata": {
    "scrolled": false
   },
   "outputs": [],
   "source": [
    "print(favorite_song)"
   ]
  },
  {
   "cell_type": "code",
   "execution_count": null,
   "id": "afd5fb7f",
   "metadata": {
    "scrolled": true
   },
   "outputs": [],
   "source": [
    "# if favorite_song in songs['song']:\n",
    "if len(songs[(songs['song'].isin([favorite_song]))])>0:\n",
    "    print(\"Our song recommendation is: \", secure_random.choice(songs['song'])) \n",
    "else:\n",
    "    print(\"We are sorry that we do not have a song recommendation for you now.\")"
   ]
  },
  {
   "cell_type": "code",
   "execution_count": null,
   "id": "ca4b64c8",
   "metadata": {},
   "outputs": [],
   "source": [
    "songs_2=songs"
   ]
  },
  {
   "cell_type": "code",
   "execution_count": null,
   "id": "cedd9113",
   "metadata": {},
   "outputs": [],
   "source": []
  },
  {
   "cell_type": "markdown",
   "id": "95d337fa",
   "metadata": {},
   "source": [
    "## Top-100-Songs 2016"
   ]
  },
  {
   "cell_type": "code",
   "execution_count": null,
   "id": "1c7a7f90",
   "metadata": {
    "id": "Lp3LA78aHb0g"
   },
   "outputs": [],
   "source": [
    "# 2. find url and store it in a variable\n",
    "# top 100 songs - 2015\n",
    "url = \"https://playback.fm/charts/top-100-songs/2016\""
   ]
  },
  {
   "cell_type": "code",
   "execution_count": null,
   "id": "f2385473",
   "metadata": {
    "colab": {
     "base_uri": "https://localhost:8080/"
    },
    "executionInfo": {
     "elapsed": 1255,
     "status": "ok",
     "timestamp": 1619377720353,
     "user": {
      "displayName": "David Henriques",
      "photoUrl": "",
      "userId": "14332050621134291491"
     },
     "user_tz": -60
    },
    "id": "T-EV-NNgHccg",
    "outputId": "f9b4bfcb-72e8-4e99-eb61-564f44ff4445"
   },
   "outputs": [],
   "source": [
    "# 3. download html with a get request\n",
    "response = requests.get(url)\n",
    "# response.status_code # 200 status code means OK!"
   ]
  },
  {
   "cell_type": "code",
   "execution_count": null,
   "id": "d3286055",
   "metadata": {},
   "outputs": [],
   "source": [
    "response.status_code # 200 status code means OK!"
   ]
  },
  {
   "cell_type": "code",
   "execution_count": null,
   "id": "577b7f69",
   "metadata": {},
   "outputs": [],
   "source": [
    "# response.content"
   ]
  },
  {
   "cell_type": "code",
   "execution_count": null,
   "id": "fa8fa10c",
   "metadata": {
    "id": "3Q5yRuGIHhVa"
   },
   "outputs": [],
   "source": [
    "# 4.1. parse html (create the 'soup')\n",
    "soup = BeautifulSoup(response.content, \"html.parser\")"
   ]
  },
  {
   "cell_type": "code",
   "execution_count": null,
   "id": "0f1bb77c",
   "metadata": {
    "colab": {
     "base_uri": "https://localhost:8080/"
    },
    "executionInfo": {
     "elapsed": 2844,
     "status": "ok",
     "timestamp": 1619377727598,
     "user": {
      "displayName": "David Henriques",
      "photoUrl": "",
      "userId": "14332050621134291491"
     },
     "user_tz": -60
    },
    "id": "GZnNOYEuHlsa",
    "outputId": "82e15944-e955-4e14-efcd-f725efaf6297"
   },
   "outputs": [],
   "source": [
    "# 4.2. check that the html code looks like it should\n",
    "# soup"
   ]
  },
  {
   "cell_type": "code",
   "execution_count": null,
   "id": "5e838ca0",
   "metadata": {
    "id": "oh9yO80_IDRo",
    "scrolled": true
   },
   "outputs": [],
   "source": [
    "# 5. retrieve/extract the desired info (here, you'll paste the \"Selector\" you copied before to get the element that belongs to the top movie)\n",
    "# soup.select(\"td:nth-child(2)\")\n",
    "\n"
   ]
  },
  {
   "cell_type": "code",
   "execution_count": null,
   "id": "6743f9f6",
   "metadata": {},
   "outputs": [],
   "source": [
    "# print(soup.prettify())"
   ]
  },
  {
   "cell_type": "code",
   "execution_count": null,
   "id": "b1781a9f",
   "metadata": {
    "colab": {
     "base_uri": "https://localhost:8080/"
    },
    "executionInfo": {
     "elapsed": 715,
     "status": "ok",
     "timestamp": 1619377815949,
     "user": {
      "displayName": "David Henriques",
      "photoUrl": "",
      "userId": "14332050621134291491"
     },
     "user_tz": -60
    },
    "id": "AlrhnybSIFmh",
    "outputId": "f4bb4b57-4783-448d-ca54-62fbe045b9fd"
   },
   "outputs": [],
   "source": [
    "soup.select(\"td:nth-child(2) > a\")[0]"
   ]
  },
  {
   "cell_type": "code",
   "execution_count": null,
   "id": "43e8e296",
   "metadata": {},
   "outputs": [],
   "source": [
    "soup.select(\"td:nth-child(2) > a\")[99].get_text() # artist"
   ]
  },
  {
   "cell_type": "code",
   "execution_count": null,
   "id": "29db30fd",
   "metadata": {
    "scrolled": true
   },
   "outputs": [],
   "source": [
    "soup.select(\"td:nth-child(2)\")[0]"
   ]
  },
  {
   "cell_type": "code",
   "execution_count": null,
   "id": "4b782366",
   "metadata": {},
   "outputs": [],
   "source": [
    "soup.select(\"td.mobile-hide > a > span.song\")[0].get_text() #song"
   ]
  },
  {
   "cell_type": "code",
   "execution_count": null,
   "id": "d332d3d7",
   "metadata": {
    "colab": {
     "base_uri": "https://localhost:8080/"
    },
    "executionInfo": {
     "elapsed": 9313,
     "status": "ok",
     "timestamp": 1619378299696,
     "user": {
      "displayName": "David Henriques",
      "photoUrl": "",
      "userId": "14332050621134291491"
     },
     "user_tz": -60
    },
    "id": "f3iTuAqCWOm0",
    "outputId": "2e65f639-a64d-4919-d307-ff9488ff752e"
   },
   "outputs": [],
   "source": [
    "#initialize empty lists\n",
    "artist = []\n",
    "song = []\n",
    "\n",
    "# define the number of iterations of our for loop\n",
    "# by checking how many elements are in the retrieved result set\n",
    "# (this is equivalent but more robust than just explicitly defining 250 iterations)\n",
    "num_iter = len(soup.select(\"td:nth-child(2) > a\"))\n",
    "\n",
    "tClist = soup.select(\"td:nth-child(2) > a\")\n",
    "spanlist = soup.select(\"td.mobile-hide > a > span.song\")\n",
    "# iterate through the result set and retrive all the data\n",
    "for i in range(num_iter):\n",
    "    artist.append(tClist[i].get_text())\n",
    "    song.append(spanlist[i].get_text())\n",
    "\n",
    "print(num_iter)\n",
    "print(artist)\n",
    "print(song)\n",
    "\n"
   ]
  },
  {
   "cell_type": "code",
   "execution_count": null,
   "id": "a3882819",
   "metadata": {},
   "outputs": [],
   "source": [
    "# each list becomes a column\n",
    "songs = pd.DataFrame({\"artist\":artist,\n",
    "                       \"song\":song, \n",
    "                      })"
   ]
  },
  {
   "cell_type": "code",
   "execution_count": null,
   "id": "555edb50",
   "metadata": {
    "scrolled": true
   },
   "outputs": [],
   "source": [
    "songs"
   ]
  },
  {
   "cell_type": "code",
   "execution_count": null,
   "id": "b0051ce0",
   "metadata": {},
   "outputs": [],
   "source": [
    "songs['artist']=songs['artist'].str.replace('\\n', ' ')\n",
    "             "
   ]
  },
  {
   "cell_type": "code",
   "execution_count": null,
   "id": "80e3fed6",
   "metadata": {
    "colab": {
     "base_uri": "https://localhost:8080/",
     "height": 204
    },
    "executionInfo": {
     "elapsed": 701,
     "status": "ok",
     "timestamp": 1619378305284,
     "user": {
      "displayName": "David Henriques",
      "photoUrl": "",
      "userId": "14332050621134291491"
     },
     "user_tz": -60
    },
    "id": "cFks_T4tWQ0F",
    "outputId": "062aba31-0609-4b42-f334-d039f937a895"
   },
   "outputs": [],
   "source": [
    "songs.head()"
   ]
  },
  {
   "cell_type": "code",
   "execution_count": null,
   "id": "ee35c1f9",
   "metadata": {},
   "outputs": [],
   "source": []
  },
  {
   "cell_type": "code",
   "execution_count": null,
   "id": "b4bdfd97",
   "metadata": {},
   "outputs": [],
   "source": [
    "len(songs)"
   ]
  },
  {
   "cell_type": "code",
   "execution_count": null,
   "id": "cc41b63f",
   "metadata": {},
   "outputs": [],
   "source": [
    "import random\n",
    "\n",
    "\n",
    "secure_random = random.SystemRandom()\n",
    "print(secure_random.choice(song))"
   ]
  },
  {
   "cell_type": "code",
   "execution_count": null,
   "id": "68af443c",
   "metadata": {},
   "outputs": [],
   "source": [
    "# print(songs['song'].sample())"
   ]
  },
  {
   "cell_type": "code",
   "execution_count": null,
   "id": "864151d2",
   "metadata": {},
   "outputs": [],
   "source": [
    "favorite_song = input('Please enter your song name: ')\n"
   ]
  },
  {
   "cell_type": "code",
   "execution_count": null,
   "id": "62f8fbd3",
   "metadata": {
    "scrolled": true
   },
   "outputs": [],
   "source": [
    "print(favorite_song)"
   ]
  },
  {
   "cell_type": "code",
   "execution_count": null,
   "id": "4005b446",
   "metadata": {},
   "outputs": [],
   "source": [
    "# Recommend song\n",
    "\n",
    "if len(songs[(songs['song'].isin([favorite_song]))])>0:\n",
    "    print(\"Our song recommendation is: \", secure_random.choice(songs['song'])) \n",
    "else:\n",
    "    print(\"We are sorry that we do not have a song recommendation for you now.\")"
   ]
  },
  {
   "cell_type": "code",
   "execution_count": null,
   "id": "5b8ecad8",
   "metadata": {},
   "outputs": [],
   "source": [
    "songs_3=songs"
   ]
  },
  {
   "cell_type": "markdown",
   "id": "129f6af1",
   "metadata": {},
   "source": [
    "# CONCAT Songs_1, Song_2, Songs_3"
   ]
  },
  {
   "cell_type": "code",
   "execution_count": null,
   "id": "26243ba8",
   "metadata": {},
   "outputs": [],
   "source": [
    "songs_df = pd.concat([songs_1, songs_2, songs_3], ignore_index = True)\n",
    "songs_df"
   ]
  },
  {
   "cell_type": "code",
   "execution_count": null,
   "id": "b0d84369",
   "metadata": {},
   "outputs": [],
   "source": [
    "songs_df.to_csv('songs_df.csv')"
   ]
  },
  {
   "cell_type": "code",
   "execution_count": null,
   "id": "75644518",
   "metadata": {},
   "outputs": [],
   "source": [
    "songs_df = pd.read_csv('songs_df.csv')"
   ]
  },
  {
   "cell_type": "code",
   "execution_count": null,
   "id": "3a8882e1",
   "metadata": {},
   "outputs": [],
   "source": [
    "import random\n",
    "\n",
    "\n",
    "secure_random = random.SystemRandom()\n",
    "print(secure_random.choice(songs_df['song']))"
   ]
  },
  {
   "cell_type": "code",
   "execution_count": null,
   "id": "4e67fd9f",
   "metadata": {},
   "outputs": [],
   "source": [
    "favorite_song = input('Please enter your song name: ')\n"
   ]
  },
  {
   "cell_type": "code",
   "execution_count": null,
   "id": "01624b26",
   "metadata": {
    "scrolled": false
   },
   "outputs": [],
   "source": [
    "print(favorite_song)"
   ]
  },
  {
   "cell_type": "code",
   "execution_count": null,
   "id": "53f226cc",
   "metadata": {
    "scrolled": true
   },
   "outputs": [],
   "source": [
    "# if favorite_song in songs['song']:\n",
    "if len(songs_df[(songs_df['song'].isin([favorite_song]))])>0:\n",
    "    print(\"Our song recommendation is: \", secure_random.choice(songs_df['song'])) \n",
    "else:\n",
    "    print(\"We are sorry that we do not have a song recommendation for you now.\")"
   ]
  },
  {
   "cell_type": "markdown",
   "id": "226205e6",
   "metadata": {},
   "source": [
    "# Lab | API wrappers - SPOTIFY "
   ]
  },
  {
   "cell_type": "code",
   "execution_count": null,
   "id": "64f4e3a8",
   "metadata": {},
   "outputs": [],
   "source": [
    "import pandas as pd\n",
    "\n",
    "from bs4 import BeautifulSoup\n",
    "\n",
    "# access information on any webpage...\n",
    "\n",
    "from bs4 import BeautifulSoup\n",
    "import requests"
   ]
  },
  {
   "cell_type": "markdown",
   "id": "4103e263",
   "metadata": {
    "id": "OhLA0o_5eJep"
   },
   "source": [
    "## Authentification"
   ]
  },
  {
   "cell_type": "code",
   "execution_count": null,
   "id": "d4fb7eb2",
   "metadata": {
    "id": "JuPP1QvSaGdp"
   },
   "outputs": [],
   "source": [
    "import spotipy\n",
    "from spotipy.oauth2 import SpotifyClientCredentials # to create a connection to spotify\n",
    "\n",
    "#Initialize SpotiPy with user credentials\n",
    "#sp = spotipy.Spotify(auth_manager=SpotifyClientCredentials(client_id='<your client id here>',\n",
    "#                                                           client_secret='<your client secret here>'))"
   ]
  },
  {
   "cell_type": "markdown",
   "id": "add3c5d1",
   "metadata": {
    "id": "4iW0BQKonLZq"
   },
   "source": [
    "## Storing secrets"
   ]
  },
  {
   "cell_type": "code",
   "execution_count": null,
   "id": "0f0dc3d6",
   "metadata": {
    "id": "P6Z1QB7eeJeq"
   },
   "outputs": [],
   "source": [
    "secrets_file = open(\"secrets.txt\",\"r\")"
   ]
  },
  {
   "cell_type": "code",
   "execution_count": null,
   "id": "753da44f",
   "metadata": {
    "id": "O_zvc84bnbh2"
   },
   "outputs": [],
   "source": [
    "string = secrets_file.read()"
   ]
  },
  {
   "cell_type": "code",
   "execution_count": null,
   "id": "b7fc024a",
   "metadata": {
    "id": "qE_-56J0ak4B",
    "scrolled": true
   },
   "outputs": [],
   "source": [
    "string"
   ]
  },
  {
   "cell_type": "code",
   "execution_count": null,
   "id": "8a0eef6e",
   "metadata": {
    "id": "kXwHdEdLndJZ",
    "scrolled": true
   },
   "outputs": [],
   "source": [
    "string.split('\\n')"
   ]
  },
  {
   "cell_type": "code",
   "execution_count": null,
   "id": "c933112e",
   "metadata": {
    "id": "gZmYnRSNngr7"
   },
   "outputs": [],
   "source": [
    "secrets_dict={}\n",
    "for line in string.split('\\n'):\n",
    "    if len(line) > 0:\n",
    "        print(line.split(': '))\n",
    "        secrets_dict[line.split(':')[0]]=line.split(':')[1].strip()"
   ]
  },
  {
   "cell_type": "code",
   "execution_count": null,
   "id": "bc4e37a0",
   "metadata": {
    "id": "5iV66R_RnhXR",
    "scrolled": true
   },
   "outputs": [],
   "source": [
    "secrets_dict"
   ]
  },
  {
   "cell_type": "markdown",
   "id": "23c392fc",
   "metadata": {
    "id": "oAQak0FunTy8"
   },
   "source": [
    "## Authentication with secrets"
   ]
  },
  {
   "cell_type": "code",
   "execution_count": null,
   "id": "9d08f853",
   "metadata": {
    "id": "HkTY3iTCnYdC"
   },
   "outputs": [],
   "source": [
    "import spotipy\n",
    "from spotipy.oauth2 import SpotifyClientCredentials\n",
    "\n",
    "#Initialize SpotiPy with user credentials\n",
    "sp = spotipy.Spotify(auth_manager=SpotifyClientCredentials(client_id=secrets_dict['cid'],\n",
    "                                                           client_secret=secrets_dict['csecret']))"
   ]
  },
  {
   "cell_type": "markdown",
   "id": "a0c6f2d5",
   "metadata": {},
   "source": [
    "## Web scraping - Spotify"
   ]
  },
  {
   "cell_type": "code",
   "execution_count": null,
   "id": "cd9b899d",
   "metadata": {},
   "outputs": [],
   "source": [
    "from random import randint\n",
    "from time import sleep\n",
    "\n",
    "def get_playlist_tracks(playlist_id):\n",
    "    results = sp.user_playlist_tracks(\"spotify\",playlist_id) # read first page\n",
    "    tracks = results['items'] # assign items to a list called tracks\n",
    "    while results['next']!=None: \n",
    "        results = sp.next(results) # read the next page\n",
    "        tracks = tracks + results['items']\n",
    "        sleep(randint(1,3000)/1000) # unit is second\n",
    "    return tracks\n",
    "\n",
    "# concat all items list on each page"
   ]
  },
  {
   "cell_type": "code",
   "execution_count": null,
   "id": "b48e8acb",
   "metadata": {},
   "outputs": [],
   "source": [
    "# this will take at least around num_songs_in_playlist * (avg_sleep_time + processing_time) = 53 * (2+0.1) = 110 seconds\n",
    "\n",
    "all_tracks_1 = get_playlist_tracks(\"4pbDDX7np7Q1H0ghL7U9o7\")\n",
    "len(all_tracks_1)"
   ]
  },
  {
   "cell_type": "code",
   "execution_count": null,
   "id": "c27f52fb",
   "metadata": {
    "scrolled": true
   },
   "outputs": [],
   "source": [
    "all_tracks_2 = get_playlist_tracks(\"532F1h299qKD894BlPfJJF\")\n",
    "len(all_tracks_2)"
   ]
  },
  {
   "cell_type": "code",
   "execution_count": null,
   "id": "719f116f",
   "metadata": {},
   "outputs": [],
   "source": [
    "def playlist_df_creator(owner, playlist_id):\n",
    "    \n",
    "    # Create empty dataframe\n",
    "    playlist_features_list = [\"artist\",\"album\",\"track_name\", \"track_id\",\"danceability\",\"energy\",\"key\",\"loudness\",\"mode\", \"speechiness\",\"acousticness\",\"instrumentalness\",\"liveness\",\"valence\",\"tempo\",\"type\",\"id\",\"uri\",\"track_href\",\"analysis_url\", \"duration_ms\",\"time_signature\"]\n",
    "    \n",
    "    playlist_df = pd.DataFrame(columns = playlist_features_list)\n",
    "    \n",
    "    all_tracks = get_playlist_tracks(playlist_id)\n",
    "    # Explore every track in the playlist, extract features and append the features to the playlist_df\n",
    "#     playlist = sp.user_playlist_tracks(owner, playlist_id)\n",
    "#     tracks = playlist['items']\n",
    "    \n",
    "    for track in all_tracks:\n",
    "        \n",
    "        # Create empty dictionary\n",
    "        playlist_features = {}\n",
    "        \n",
    "        # Get metadata\n",
    "        playlist_features[\"artist\"] = track[\"track\"][\"album\"][\"artists\"][0][\"name\"]\n",
    "        playlist_features[\"album\"] = track[\"track\"][\"album\"][\"name\"]\n",
    "        playlist_features[\"track_name\"] = track[\"track\"][\"name\"]\n",
    "        playlist_features[\"track_id\"] = track[\"track\"][\"id\"]\n",
    "        \n",
    "        # Get audio features\n",
    "        audio_features = sp.audio_features(playlist_features[\"track_id\"])[0]\n",
    "        for feature in playlist_features_list[4:]:\n",
    "            playlist_features[feature] = audio_features[feature]\n",
    "        \n",
    "        # Concat the dfs\n",
    "        track_df = pd.DataFrame(playlist_features, index = [0])\n",
    "        playlist_df = pd.concat([playlist_df, track_df], ignore_index = True)\n",
    "        \n",
    "    return playlist_df"
   ]
  },
  {
   "cell_type": "code",
   "execution_count": null,
   "id": "68f58e3f",
   "metadata": {},
   "outputs": [],
   "source": [
    "playlist_df_1 = playlist_df_creator(\"spotify\", \"4pbDDX7np7Q1H0ghL7U9o7\")\n"
   ]
  },
  {
   "cell_type": "code",
   "execution_count": null,
   "id": "3ba0bcd4",
   "metadata": {},
   "outputs": [],
   "source": [
    "playlist_df_2 = playlist_df_creator(\"spotify\", \"532F1h299qKD894BlPfJJF\")\n"
   ]
  },
  {
   "cell_type": "code",
   "execution_count": null,
   "id": "184ee88e",
   "metadata": {},
   "outputs": [],
   "source": [
    "playlist_df_all = pd.concat([playlist_df_1, playlist_df_2], ignore_index = True)"
   ]
  },
  {
   "cell_type": "code",
   "execution_count": null,
   "id": "4529c8ca",
   "metadata": {},
   "outputs": [],
   "source": [
    "playlist_df_all.shape"
   ]
  },
  {
   "cell_type": "code",
   "execution_count": null,
   "id": "d520740d",
   "metadata": {},
   "outputs": [],
   "source": [
    "playlist_df_all.to_csv('playlist_df_all.csv')"
   ]
  },
  {
   "cell_type": "code",
   "execution_count": null,
   "id": "5c905619",
   "metadata": {
    "scrolled": false
   },
   "outputs": [],
   "source": [
    "playlist_df_all"
   ]
  },
  {
   "cell_type": "code",
   "execution_count": null,
   "id": "8c429f92",
   "metadata": {},
   "outputs": [],
   "source": [
    "import random\n",
    "\n",
    "\n",
    "secure_random = random.SystemRandom()\n",
    "print(secure_random.choice(playlist_df_all['track_name']))"
   ]
  },
  {
   "cell_type": "code",
   "execution_count": null,
   "id": "b8159e30",
   "metadata": {},
   "outputs": [],
   "source": [
    "favorite_song = input('Please enter your song name: ')\n"
   ]
  },
  {
   "cell_type": "code",
   "execution_count": null,
   "id": "8368a353",
   "metadata": {
    "scrolled": false
   },
   "outputs": [],
   "source": [
    "print(favorite_song)"
   ]
  },
  {
   "cell_type": "code",
   "execution_count": null,
   "id": "b8152883",
   "metadata": {
    "scrolled": true
   },
   "outputs": [],
   "source": [
    "# if favorite_song in songs['song']:\n",
    "if len(playlist_df_all[(playlist_df_all['track_name'].isin([favorite_song]))])>0:\n",
    "    print(\"Our song recommendation is: \", secure_random.choice(playlist_df_all['track_name'])) \n",
    "else:\n",
    "    print(\"We are sorry that we do not have a song recommendation for you now.\")"
   ]
  },
  {
   "cell_type": "markdown",
   "id": "42dc4e21",
   "metadata": {},
   "source": [
    "# Lab | Unsupervised learning intro"
   ]
  },
  {
   "cell_type": "markdown",
   "id": "399a541d",
   "metadata": {},
   "source": [
    "It's the moment to perform clustering on the songs you collected. Remember that the ultimate goal of this little project is to improve the recommendations of artists. Clustering the songs will allow the recommendation system to limit the scope of the recommendations to only songs that belong to the same cluster - songs with similar audio features.\n",
    "\n",
    "The experiments you did with the Spotify API and the Billboard web scraping will allow you to create a pipeline such that when the user enters a song, you:\n",
    "\n",
    "Check whether or not the song is in the Billboard Hot 200.\n",
    "Collect the audio features from the Spotify API.\n",
    "After that, you want to send the Spotify audio features of the submitted song to the clustering model, which should return a cluster number.\n",
    "\n",
    "We want to have as many songs as possible to create the clustering model, so we will add the songs you collected to a bigger dataset available on Kaggle containing 160 thousand songs."
   ]
  },
  {
   "cell_type": "code",
   "execution_count": null,
   "id": "ddd5af52",
   "metadata": {},
   "outputs": [],
   "source": [
    "import pandas as pd\n",
    "import numpy as np\n",
    "\n",
    "import matplotlib.pyplot as plt\n",
    "\n",
    "from sklearn import cluster, datasets\n",
    "from sklearn.preprocessing import StandardScaler\n",
    "\n",
    "from matplotlib.lines import Line2D\n",
    "import matplotlib.pyplot as plt\n",
    "\n",
    "from bs4 import BeautifulSoup\n",
    "\n",
    "import requests\n",
    "\n",
    "import spotipy\n",
    "from spotipy.oauth2 import SpotifyClientCredentials\n",
    "\n",
    "from sklearn.cluster import KMeans\n",
    "\n",
    "import random\n",
    "\n",
    "pd.set_option('display.max_columns', 165)\n",
    "pd.set_option('display.max_rows', 165)"
   ]
  },
  {
   "cell_type": "code",
   "execution_count": null,
   "id": "d8022dbd",
   "metadata": {
    "id": "P6Z1QB7eeJeq"
   },
   "outputs": [],
   "source": [
    "secrets_file = open(\"secrets.txt\",\"r\")"
   ]
  },
  {
   "cell_type": "code",
   "execution_count": null,
   "id": "8ab6fb79",
   "metadata": {
    "id": "O_zvc84bnbh2"
   },
   "outputs": [],
   "source": [
    "string = secrets_file.read()"
   ]
  },
  {
   "cell_type": "code",
   "execution_count": null,
   "id": "cd23182c",
   "metadata": {
    "id": "qE_-56J0ak4B",
    "scrolled": true
   },
   "outputs": [],
   "source": [
    "string"
   ]
  },
  {
   "cell_type": "code",
   "execution_count": null,
   "id": "c3772406",
   "metadata": {
    "id": "kXwHdEdLndJZ",
    "scrolled": true
   },
   "outputs": [],
   "source": [
    "string.split('\\n')"
   ]
  },
  {
   "cell_type": "code",
   "execution_count": null,
   "id": "9131be57",
   "metadata": {
    "id": "gZmYnRSNngr7"
   },
   "outputs": [],
   "source": [
    "secrets_dict={}\n",
    "for line in string.split('\\n'):\n",
    "    if len(line) > 0:\n",
    "        print(line.split(': '))\n",
    "        secrets_dict[line.split(':')[0]]=line.split(':')[1].strip()"
   ]
  },
  {
   "cell_type": "code",
   "execution_count": null,
   "id": "092c9147",
   "metadata": {
    "id": "5iV66R_RnhXR",
    "scrolled": true
   },
   "outputs": [],
   "source": [
    "secrets_dict"
   ]
  },
  {
   "cell_type": "code",
   "execution_count": null,
   "id": "b0026da9",
   "metadata": {
    "id": "HkTY3iTCnYdC"
   },
   "outputs": [],
   "source": [
    "import spotipy\n",
    "from spotipy.oauth2 import SpotifyClientCredentials\n",
    "\n",
    "#Initialize SpotiPy with user credentials\n",
    "sp = spotipy.Spotify(auth_manager=SpotifyClientCredentials(client_id=secrets_dict['cid'],\n",
    "                                                           client_secret=secrets_dict['csecret']))"
   ]
  },
  {
   "cell_type": "markdown",
   "id": "c95f6cbe",
   "metadata": {},
   "source": [
    "songs_df and playlist_df_all were previously created in API Wrappers Lab. Then, csv files were produced. In this lab, the csv files are read."
   ]
  },
  {
   "cell_type": "code",
   "execution_count": null,
   "id": "5d13d392",
   "metadata": {
    "scrolled": true
   },
   "outputs": [],
   "source": [
    "songs_df = pd.read_csv('songs_df.csv')\n",
    "songs_df"
   ]
  },
  {
   "cell_type": "code",
   "execution_count": null,
   "id": "f7bf6118",
   "metadata": {
    "scrolled": true
   },
   "outputs": [],
   "source": [
    "songs_df = songs_df.drop(['Unnamed: 0'], axis=1)\n",
    "songs_df"
   ]
  },
  {
   "cell_type": "code",
   "execution_count": null,
   "id": "81f123bc",
   "metadata": {},
   "outputs": [],
   "source": [
    "playlist_df_all = pd.read_csv('playlist_df_all.csv')\n",
    "playlist_df_all"
   ]
  },
  {
   "cell_type": "code",
   "execution_count": null,
   "id": "a9da3bc3",
   "metadata": {
    "scrolled": true
   },
   "outputs": [],
   "source": [
    "playlist_df_all = playlist_df_all.drop(['Unnamed: 0'], axis=1)\n",
    "playlist_df_all"
   ]
  },
  {
   "cell_type": "code",
   "execution_count": null,
   "id": "24662c7e",
   "metadata": {
    "scrolled": false
   },
   "outputs": [],
   "source": [
    "playlist_df_all.columns"
   ]
  },
  {
   "cell_type": "code",
   "execution_count": null,
   "id": "db928ed3",
   "metadata": {},
   "outputs": [],
   "source": [
    "playlist_df_all.shape"
   ]
  },
  {
   "cell_type": "code",
   "execution_count": null,
   "id": "01a102a1",
   "metadata": {},
   "outputs": [],
   "source": [
    "playlist_df_all.info()"
   ]
  },
  {
   "cell_type": "code",
   "execution_count": null,
   "id": "f77aa65b",
   "metadata": {},
   "outputs": [],
   "source": [
    "# statistical distribution of the data\n",
    "playlist_df_all.describe()"
   ]
  },
  {
   "cell_type": "code",
   "execution_count": null,
   "id": "8f233bdb",
   "metadata": {},
   "outputs": [],
   "source": [
    "X = playlist_df_all[['danceability', 'energy',\n",
    "       'key', 'loudness', 'mode', 'speechiness', 'acousticness',\n",
    "       'instrumentalness', 'liveness', 'valence', 'tempo','duration_ms', 'time_signature']]"
   ]
  },
  {
   "cell_type": "code",
   "execution_count": null,
   "id": "a700c0a1",
   "metadata": {},
   "outputs": [],
   "source": [
    "print(X.shape)\n",
    "X.head()\n"
   ]
  },
  {
   "cell_type": "code",
   "execution_count": null,
   "id": "53305365",
   "metadata": {},
   "outputs": [],
   "source": [
    "X.dtypes"
   ]
  },
  {
   "cell_type": "code",
   "execution_count": null,
   "id": "9c5f55a1",
   "metadata": {},
   "outputs": [],
   "source": [
    "transformer = StandardScaler().fit(X)\n",
    "X_normalized = transformer.transform(X)\n",
    "X_norm = pd.DataFrame(X_normalized, columns=X.columns)\n",
    "X_norm.head()"
   ]
  },
  {
   "cell_type": "code",
   "execution_count": null,
   "id": "8ac08dd4",
   "metadata": {
    "scrolled": true
   },
   "outputs": [],
   "source": [
    "K = range(2, 20) # up to 19 clusters\n",
    "inertia = []\n",
    "\n",
    "for k in K:\n",
    "    kmeans = KMeans(n_clusters=k,\n",
    "                    random_state=1234) # build model with k as my number of clusters.\n",
    "    kmeans.fit(X_norm) # fit model with data X_norm. # group data based on similarity of features\n",
    "    inertia.append(kmeans.inertia_) # evaluate the clusters after clustering is the way to evaluate clustering strategy.\n",
    "\n",
    "import matplotlib.pyplot as plt\n",
    "%matplotlib inline\n",
    "\n",
    "plt.figure(figsize=(16,8))\n",
    "plt.plot(K, inertia, 'bx-')\n",
    "plt.xlabel('k')\n",
    "plt.ylabel('inertia')\n",
    "plt.xticks(np.arange(min(K), max(K)+1, 1.0))\n",
    "plt.title('Elbow Method showing the optimal k')"
   ]
  },
  {
   "cell_type": "code",
   "execution_count": null,
   "id": "4bbee8e1",
   "metadata": {
    "scrolled": true
   },
   "outputs": [],
   "source": [
    "from sklearn.metrics import silhouette_score\n",
    "K = range(2, 20)\n",
    "silhouette = []\n",
    "\n",
    "for k in K:\n",
    "    kmeans = KMeans(n_clusters=k,\n",
    "                    random_state=1234)\n",
    "    kmeans.fit(X_norm)\n",
    "    silhouette.append(silhouette_score(X_norm, kmeans.predict(X_norm)))\n",
    "\n",
    "\n",
    "plt.figure(figsize=(16,8))\n",
    "plt.plot(K, silhouette, 'bx-')\n",
    "plt.xlabel('k')\n",
    "plt.ylabel('silhouette score')\n",
    "plt.xticks(np.arange(min(K), max(K)+1, 1.0))\n",
    "plt.title('Slhouette score showing the optimal k')\n",
    "\n",
    "# highest value of silhouette score is optimum number of clusters."
   ]
  },
  {
   "cell_type": "code",
   "execution_count": null,
   "id": "f6aaf38a",
   "metadata": {},
   "outputs": [],
   "source": [
    "kmeans = KMeans(n_clusters=8, random_state=1234) # define kmeans model. there are 8 clusters.\n",
    "kmeans.fit(X_norm)"
   ]
  },
  {
   "cell_type": "code",
   "execution_count": null,
   "id": "744b6d48",
   "metadata": {},
   "outputs": [],
   "source": [
    "# Predicting / assigning the clusters:\n",
    "clusters = kmeans.predict(X_norm) # predict the clusters\n",
    "\n",
    "# Check the size of the clusters\n",
    "pd.Series(clusters).value_counts().sort_index()"
   ]
  },
  {
   "cell_type": "code",
   "execution_count": null,
   "id": "522b0638",
   "metadata": {},
   "outputs": [],
   "source": [
    "clusters"
   ]
  },
  {
   "cell_type": "code",
   "execution_count": null,
   "id": "f1449441",
   "metadata": {
    "scrolled": true
   },
   "outputs": [],
   "source": [
    "kmeans.inertia_ # inertia of that model"
   ]
  },
  {
   "cell_type": "code",
   "execution_count": null,
   "id": "6e74d205",
   "metadata": {},
   "outputs": [],
   "source": [
    "# converting predictions into a df\n",
    "cluster_no = pd.DataFrame(data=clusters, dtype=int)\n",
    "cluster_no.columns = ['k_cluster']\n",
    "\n",
    "# predictions as a df\n",
    "print(cluster_no.shape)\n",
    "cluster_no.head()"
   ]
  },
  {
   "cell_type": "code",
   "execution_count": null,
   "id": "5e43f676",
   "metadata": {},
   "outputs": [],
   "source": [
    "# concatenating the cluster column to the dataframe\n",
    "playlist_df_all = pd.concat([playlist_df_all, cluster_no], axis=1)\n",
    "\n",
    "# checking the dataframe\n",
    "print(playlist_df_all.shape)\n",
    "playlist_df_all.head()"
   ]
  },
  {
   "cell_type": "code",
   "execution_count": null,
   "id": "f3504cee",
   "metadata": {},
   "outputs": [],
   "source": [
    "# checking for null\n",
    "playlist_df_all.isnull().sum().sum()"
   ]
  },
  {
   "cell_type": "code",
   "execution_count": null,
   "id": "6a5f62d0",
   "metadata": {
    "scrolled": true
   },
   "outputs": [],
   "source": [
    "# checking number of songs in each cluster\n",
    "playlist_df_all['k_cluster'].value_counts()"
   ]
  },
  {
   "cell_type": "code",
   "execution_count": null,
   "id": "cc4aa759",
   "metadata": {
    "scrolled": true
   },
   "outputs": [],
   "source": [
    "# checking the songs in the cluster\n",
    "playlist_df_all.loc[playlist_df_all['k_cluster'] == 4][:5]"
   ]
  },
  {
   "cell_type": "code",
   "execution_count": null,
   "id": "024a2251",
   "metadata": {},
   "outputs": [],
   "source": [
    "favorite_song = input('Please enter your favorite song: ')"
   ]
  },
  {
   "cell_type": "code",
   "execution_count": null,
   "id": "aa3ac02a",
   "metadata": {},
   "outputs": [],
   "source": [
    "# Function to obtain an uri from a song name\n",
    "def song_uri(favorite_song):\n",
    "    try:\n",
    "        # Creating the spotipy element for the playlist URI\n",
    "        querry = 'track:'+str(favorite_song)\n",
    "        track = sp.search(q=favorite_song, limit=1)\n",
    "        return track['tracks']['items'][0]['uri'].split('spotify:track:')[1]                 \n",
    "    except:\n",
    "        return 'Null'"
   ]
  },
  {
   "cell_type": "code",
   "execution_count": null,
   "id": "dd75711e",
   "metadata": {},
   "outputs": [],
   "source": [
    "song_uri(favorite_song)"
   ]
  },
  {
   "cell_type": "code",
   "execution_count": null,
   "id": "d66bf976",
   "metadata": {},
   "outputs": [],
   "source": [
    "def collect_song_features(uri):\n",
    "    \n",
    "    # Create empty dataframe\n",
    "    playlist_features_list = [\"danceability\",\"energy\",\"key\",\"loudness\",\"mode\", \"speechiness\",\"acousticness\",\n",
    "                              \"instrumentalness\",\"liveness\",\"valence\",\"tempo\",\"duration_ms\",\"time_signature\"]\n",
    "\n",
    "    playlist_df = pd.DataFrame(columns = playlist_features_list)\n",
    "        \n",
    "    # Get audio features\n",
    "    audio_features = sp.audio_features(uri)[0]\n",
    "    playlist_df.loc[len(playlist_df)] = [audio_features[feature] for feature in playlist_features_list]\n",
    "        \n",
    "    return playlist_df"
   ]
  },
  {
   "cell_type": "code",
   "execution_count": null,
   "id": "953a1eb9",
   "metadata": {},
   "outputs": [],
   "source": [
    "collect_song_features('32OlwWuMpZ6b0aN2RZOeMS')"
   ]
  },
  {
   "cell_type": "code",
   "execution_count": null,
   "id": "eb756e99",
   "metadata": {
    "scrolled": true
   },
   "outputs": [],
   "source": [
    "collect_song_features(song_uri(favorite_song))"
   ]
  },
  {
   "cell_type": "code",
   "execution_count": null,
   "id": "f0c494b7",
   "metadata": {},
   "outputs": [],
   "source": [
    "secure_random = random.SystemRandom()\n",
    "print(secure_random.choice(songs_df['song']))"
   ]
  },
  {
   "cell_type": "code",
   "execution_count": null,
   "id": "5e236345",
   "metadata": {},
   "outputs": [],
   "source": [
    "def song_recommender():\n",
    "    favorite_song = input('Please enter your favorite song: ')\n",
    "    if len(songs_df[(songs_df['song'].isin([favorite_song]))])>0:\n",
    "        random_song = secure_random.choice(songs_df['song'])\n",
    "        artist = songs_df.loc[songs_df['song'] == random_song, 'artist'].item()\n",
    "        print(\"Our song recommendation is: \", random_song,'by', artist)\n",
    "    else:\n",
    "        try:\n",
    "            df = collect_song_features(song_uri(favorite_song))\n",
    "            cluster = kmeans.predict(pd.DataFrame(transformer.transform(df), columns=df.columns))\n",
    "            choose_song = playlist_df_all[playlist_df_all['k_cluster'] == cluster[0]]\n",
    "            random_song = choose_song['track_name'].sample().item()\n",
    "            artist = choose_song.loc[choose_song['track_name'] == random_song, 'artist'].item()\n",
    "            print(\"Our song recommendation is: \", random_song, 'by', artist)\n",
    "        except:\n",
    "            print('Please enter a valid song name')"
   ]
  },
  {
   "cell_type": "code",
   "execution_count": null,
   "id": "b499583f",
   "metadata": {
    "scrolled": true
   },
   "outputs": [],
   "source": [
    "song_recommender()"
   ]
  }
 ],
 "metadata": {
  "kernelspec": {
   "display_name": "Python 3 (ipykernel)",
   "language": "python",
   "name": "python3"
  },
  "language_info": {
   "codemirror_mode": {
    "name": "ipython",
    "version": 3
   },
   "file_extension": ".py",
   "mimetype": "text/x-python",
   "name": "python",
   "nbconvert_exporter": "python",
   "pygments_lexer": "ipython3",
   "version": "3.9.12"
  },
  "toc": {
   "base_numbering": 1,
   "nav_menu": {},
   "number_sections": true,
   "sideBar": true,
   "skip_h1_title": false,
   "title_cell": "Table of Contents",
   "title_sidebar": "Contents",
   "toc_cell": false,
   "toc_position": {
    "height": "calc(100% - 180px)",
    "left": "10px",
    "top": "150px",
    "width": "256px"
   },
   "toc_section_display": true,
   "toc_window_display": true
  }
 },
 "nbformat": 4,
 "nbformat_minor": 5
}
