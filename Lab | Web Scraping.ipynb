{
 "cells": [
  {
   "cell_type": "markdown",
   "id": "0fcdff95",
   "metadata": {},
   "source": [
    "# Lab | Web Scraping Single Page"
   ]
  },
  {
   "cell_type": "code",
   "execution_count": 5,
   "id": "7c086686",
   "metadata": {
    "id": "SyHqFC5dxt8W"
   },
   "outputs": [],
   "source": [
    "from bs4 import BeautifulSoup\n",
    "\n",
    "# access information on any webpage...\n",
    "\n",
    "from bs4 import BeautifulSoup\n",
    "import requests\n",
    "import pandas as pd\n",
    "\n",
    "pd.set_option('display.max_columns', 165)\n",
    "pd.set_option('display.max_rows', 165)"
   ]
  },
  {
   "cell_type": "code",
   "execution_count": 168,
   "id": "b6704f9f",
   "metadata": {
    "id": "Lp3LA78aHb0g"
   },
   "outputs": [],
   "source": [
    "# 2. find url and store it in a variable\n",
    "# top 100 songs - 2015\n",
    "url = \"https://playback.fm/charts/top-100-songs/2015\""
   ]
  },
  {
   "cell_type": "code",
   "execution_count": 169,
   "id": "52e7f68a",
   "metadata": {
    "colab": {
     "base_uri": "https://localhost:8080/"
    },
    "executionInfo": {
     "elapsed": 1255,
     "status": "ok",
     "timestamp": 1619377720353,
     "user": {
      "displayName": "David Henriques",
      "photoUrl": "",
      "userId": "14332050621134291491"
     },
     "user_tz": -60
    },
    "id": "T-EV-NNgHccg",
    "outputId": "f9b4bfcb-72e8-4e99-eb61-564f44ff4445"
   },
   "outputs": [],
   "source": [
    "# 3. download html with a get request\n",
    "response = requests.get(url)\n",
    "# response.status_code # 200 status code means OK!"
   ]
  },
  {
   "cell_type": "code",
   "execution_count": 170,
   "id": "c1bb6d92",
   "metadata": {},
   "outputs": [
    {
     "data": {
      "text/plain": [
       "200"
      ]
     },
     "execution_count": 170,
     "metadata": {},
     "output_type": "execute_result"
    }
   ],
   "source": [
    "response.status_code # 200 status code means OK!"
   ]
  },
  {
   "cell_type": "code",
   "execution_count": 171,
   "id": "afead20c",
   "metadata": {},
   "outputs": [],
   "source": [
    "# response.content"
   ]
  },
  {
   "cell_type": "code",
   "execution_count": 172,
   "id": "a712eb11",
   "metadata": {
    "id": "3Q5yRuGIHhVa"
   },
   "outputs": [],
   "source": [
    "# 4.1. parse html (create the 'soup')\n",
    "soup = BeautifulSoup(response.content, \"html.parser\")"
   ]
  },
  {
   "cell_type": "code",
   "execution_count": 173,
   "id": "dd3dc184",
   "metadata": {
    "colab": {
     "base_uri": "https://localhost:8080/"
    },
    "executionInfo": {
     "elapsed": 2844,
     "status": "ok",
     "timestamp": 1619377727598,
     "user": {
      "displayName": "David Henriques",
      "photoUrl": "",
      "userId": "14332050621134291491"
     },
     "user_tz": -60
    },
    "id": "GZnNOYEuHlsa",
    "outputId": "82e15944-e955-4e14-efcd-f725efaf6297"
   },
   "outputs": [],
   "source": [
    "# 4.2. check that the html code looks like it should\n",
    "# soup"
   ]
  },
  {
   "cell_type": "code",
   "execution_count": 174,
   "id": "f91c84e3",
   "metadata": {
    "id": "oh9yO80_IDRo",
    "scrolled": true
   },
   "outputs": [],
   "source": [
    "# 5. retrieve/extract the desired info (here, you'll paste the \"Selector\" you copied before to get the element that belongs to the top movie)\n",
    "# soup.select(\"td:nth-child(2)\")\n",
    "\n"
   ]
  },
  {
   "cell_type": "code",
   "execution_count": 175,
   "id": "ebfde31f",
   "metadata": {},
   "outputs": [],
   "source": [
    "# print(soup.prettify())"
   ]
  },
  {
   "cell_type": "code",
   "execution_count": 176,
   "id": "9ce76abb",
   "metadata": {
    "colab": {
     "base_uri": "https://localhost:8080/"
    },
    "executionInfo": {
     "elapsed": 715,
     "status": "ok",
     "timestamp": 1619377815949,
     "user": {
      "displayName": "David Henriques",
      "photoUrl": "",
      "userId": "14332050621134291491"
     },
     "user_tz": -60
    },
    "id": "AlrhnybSIFmh",
    "outputId": "f4bb4b57-4783-448d-ca54-62fbe045b9fd"
   },
   "outputs": [
    {
     "data": {
      "text/plain": [
       "<a class=\"artist\" href=\"/artist/mark-ronson-top-songs\" itemprop=\"byArtist\">\n",
       "Mark Ronson featuring Bruno Mars\n",
       "</a>"
      ]
     },
     "execution_count": 176,
     "metadata": {},
     "output_type": "execute_result"
    }
   ],
   "source": [
    "soup.select(\"td:nth-child(2) > a\")[0]"
   ]
  },
  {
   "cell_type": "code",
   "execution_count": 177,
   "id": "08e83f70",
   "metadata": {},
   "outputs": [
    {
     "data": {
      "text/plain": [
       "'\\nCalvin Harris and Disciples\\n'"
      ]
     },
     "execution_count": 177,
     "metadata": {},
     "output_type": "execute_result"
    }
   ],
   "source": [
    "soup.select(\"td:nth-child(2) > a\")[99].get_text() # artist"
   ]
  },
  {
   "cell_type": "code",
   "execution_count": 178,
   "id": "1b398d98",
   "metadata": {
    "scrolled": true
   },
   "outputs": [
    {
     "data": {
      "text/plain": [
       "<td>\n",
       "<span class=\"mobile-only song\">\n",
       "<a href=\"/charts/top-100-songs/video/2015/Mark-Ronson-featuring-Bruno-Mars-Uptown-Funk\" itemprop=\"name\">\n",
       "Uptown Funk\n",
       "</a>\n",
       "</span>\n",
       "<a class=\"artist\" href=\"/artist/mark-ronson-top-songs\" itemprop=\"byArtist\">\n",
       "Mark Ronson featuring Bruno Mars\n",
       "</a>\n",
       "<meta content=\"/artist/mark-ronson-top-songs\" itemprop=\"url\">\n",
       "</meta></td>"
      ]
     },
     "execution_count": 178,
     "metadata": {},
     "output_type": "execute_result"
    }
   ],
   "source": [
    "soup.select(\"td:nth-child(2)\")[0]"
   ]
  },
  {
   "cell_type": "code",
   "execution_count": 179,
   "id": "37adbb79",
   "metadata": {},
   "outputs": [
    {
     "data": {
      "text/plain": [
       "'Uptown Funk'"
      ]
     },
     "execution_count": 179,
     "metadata": {},
     "output_type": "execute_result"
    }
   ],
   "source": [
    "soup.select(\"td.mobile-hide > a > span.song\")[0].get_text() #song"
   ]
  },
  {
   "cell_type": "code",
   "execution_count": 180,
   "id": "f7feda0c",
   "metadata": {
    "colab": {
     "base_uri": "https://localhost:8080/"
    },
    "executionInfo": {
     "elapsed": 9313,
     "status": "ok",
     "timestamp": 1619378299696,
     "user": {
      "displayName": "David Henriques",
      "photoUrl": "",
      "userId": "14332050621134291491"
     },
     "user_tz": -60
    },
    "id": "f3iTuAqCWOm0",
    "outputId": "2e65f639-a64d-4919-d307-ff9488ff752e"
   },
   "outputs": [
    {
     "name": "stdout",
     "output_type": "stream",
     "text": [
      "100\n",
      "['\\nMark Ronson featuring Bruno Mars\\n', '\\nEd Sheeran\\n', '\\nWiz Khalifa featuring Charlie Puth\\n', '\\nFetty Wap\\n', '\\nMaroon 5\\n', '\\nWalk the Moon\\n', '\\nTaylor Swift\\n', '\\nSilentó\\n', '\\nThe Weeknd\\n', '\\nThe Weeknd\\n', '\\nOMI\\n', '\\nThe Weeknd\\n', '\\nEllie Goulding\\n', '\\nHozier\\n', '\\nTaylor Swift featuring Kendrick Lamar\\n', '\\nMajor Lazer and DJ Snake featuring MØ\\n', '\\nJason Derulo\\n', '\\nTaylor Swift\\n', '\\nSkrillex and Diplo featuring Justin Bieber\\n', '\\nRachel Platten\\n', '\\nFetty Wap featuring Remy Boyz\\n', '\\nMeghan Trainor\\n', '\\nFifth Harmony featuring Kid Ink\\n', '\\nOmarion featuring Chris Brown and Jhené Aiko\\n', '\\nAndy Grammer\\n', '\\nSam Smith\\n', '\\nSelena Gomez featuring A$AP Rocky\\n', '\\nMeghan Trainor\\n', '\\nTaylor Swift\\n', '\\nDrake\\n', '\\nDavid Guetta featuring Nicki Minaj, Bebe Rexha, and Afrojack\\n', '\\nFlo Rida featuring Sage the Gemini and Lookas\\n', '\\nJustin Bieber\\n', '\\nEd Sheeran\\n', '\\nAdele\\n', '\\nShawn Mendes\\n', '\\nTove Lo\\n', '\\nNick Jonas\\n', '\\nPitbull and Ne-Yo\\n', '\\nR. City featuring Adam Levine\\n', '\\nNatalie La Rose featuring Jeremih\\n', '\\nRihanna, Kanye West, and Paul McCartney\\n', '\\nFall Out Boy\\n', '\\nFetty Wap featuring Monty\\n', '\\nSam Hunt\\n', '\\nMaroon 5\\n', '\\nBig Sean featuring E-40\\n', '\\nRihanna\\n', '\\nRich Homie Quan\\n', '\\nT-Wayne\\n', '\\nNicki Minaj featuring Drake, Lil Wayne, and Chris Brown\\n', '\\nSia\\n', '\\nDemi Lovato\\n', '\\nX Ambassadors\\n', '\\nUsher featuring Juicy J\\n', '\\nAriana Grande and The Weeknd\\n', '\\nTaylor Swift\\n', '\\nSam Smith\\n', '\\nDJ Snake and AlunaGeorge\\n', '\\nFall Out Boy\\n', '\\nBeyoncé\\n', '\\nSelena Gomez\\n', '\\nLittle Big Town\\n', '\\nTrey Songz\\n', '\\nOne Direction\\n', '\\nNicki Minaj featuring Drake and Lil Wayne\\n', '\\nAriana Grande\\n', '\\nNick Jonas\\n', '\\nMeek Mill featuring Chris Brown and Nicki Minaj\\n', '\\nRae Sremmurd\\n', '\\nVance Joy\\n', '\\nJidenna featuring Roman GianArthur\\n', '\\nElle King\\n', '\\nMeghan Trainor\\n', '\\nCharlie Puth featuring Meghan Trainor\\n', '\\nMeghan Trainor featuring John Legend\\n', '\\nTove Lo\\n', '\\nJames Newton Howard featuring Jennifer Lawrence\\n', '\\nO.T. Genasis\\n', '\\nJessie J, Ariana Grande, and Nicki Minaj\\n', '\\nSam Smith\\n', '\\nILoveMakonnen featuring Drake\\n', '\\niLoveMemphis\\n', '\\nMacklemore and Ryan Lewis featuring Eric Nally, Melle Mel, Kool Moe Dee, and Grandmaster Caz\\n', '\\nSam Hunt\\n', '\\nChris Brown and Tyga\\n', '\\nLuke Bryan\\n', '\\nBig Sean featuring Drake\\n', '\\nGeorge Ezra\\n', '\\nSia\\n', '\\nKelly Clarkson\\n', '\\nEd Sheeran\\n', '\\nElla Henderson\\n', '\\nAlessia Cara\\n', '\\nMr Probz\\n', '\\nNicky Jam and Enrique Iglesias\\n', '\\nNe-Yo featuring Juicy J\\n', '\\nOne Direction\\n', '\\nDrake\\n', '\\nCalvin Harris and Disciples\\n']\n",
      "['Uptown Funk', 'Thinking Out Loud', 'See You Again', 'Trap Queen', 'Sugar', 'Shut Up and Dance', 'Blank Space', 'Watch Me', 'Earned It', 'The Hills', 'Cheerleader', \"Can't Feel My Face\", 'Love Me Like You Do', 'Take Me to Church', 'Bad Blood', 'Lean On', 'Want to Want Me', 'Shake It Off', 'Where Are Ü Now', 'Fight Song', '679', 'Lips Are Movin', 'Worth It', 'Post to Be', \"Honey, I'm Good.\", \"I'm Not the Only One\", 'Good for You', 'All About That Bass', 'Style', 'Hotline Bling', 'Hey Mama', 'G.D.F.R.', 'What Do You Mean?', 'Photograph', 'Hello', 'Stitches', 'Talking Body', 'Jealous', 'Time of Our Lives', 'Locked Away', 'Somebody', 'FourFiveSeconds', 'Centuries', 'My Way', 'Take Your Time', 'Animals', \"I Don't Fuck with You\", 'Bi**h Better Have My Money', 'Flex (Ooh, Ooh, Ooh)', 'Nasty Freestyle', 'Only', 'Elastic Heart', 'Cool for the Summer', 'Renegades', \"I Don't Mind\", 'Love Me Harder', 'Wildest Dreams', 'Stay with Me', 'You Know You Like It', 'Uma Thurman', '7/11/2016', 'The Heart Wants What It Wants', 'Girl Crush', 'Slow Motion', 'Drag Me Down', 'Truffle Butter', 'One Last Time', 'Chains', 'All Eyes on You', 'No Type', 'Riptide', 'Classic Man', \"Ex's & Oh's\", 'Dear Future Husband', 'Marvin Gaye', \"Like I'm Gonna Lose You\", 'Habits (Stay High)', 'The Hanging Tree', 'CoCo', 'Bang Bang', 'Lay Me Down', 'Tuesday', 'Hit the Quan', 'Downtown', 'House Party', 'Ayo', 'Kick the Dust Up', 'Blessings', 'Budapest', 'Chandelier', 'Heartbeat Song', \"Don't\", 'Ghost', 'Here', 'Waves', 'El Perdón', 'She Knows', 'Night Changes', 'Back to Back', 'How Deep Is Your Love']\n"
     ]
    }
   ],
   "source": [
    "#initialize empty lists\n",
    "artist = []\n",
    "song = []\n",
    "\n",
    "# define the number of iterations of our for loop\n",
    "# by checking how many elements are in the retrieved result set\n",
    "# (this is equivalent but more robust than just explicitly defining 250 iterations)\n",
    "num_iter = len(soup.select(\"td:nth-child(2) > a\"))\n",
    "\n",
    "tClist = soup.select(\"td:nth-child(2) > a\")\n",
    "spanlist = soup.select(\"td.mobile-hide > a > span.song\")\n",
    "# iterate through the result set and retrive all the data\n",
    "for i in range(num_iter):\n",
    "    artist.append(tClist[i].get_text())\n",
    "    song.append(spanlist[i].get_text())\n",
    "\n",
    "print(num_iter)\n",
    "print(artist)\n",
    "print(song)\n",
    "\n"
   ]
  },
  {
   "cell_type": "code",
   "execution_count": 181,
   "id": "e755fded",
   "metadata": {},
   "outputs": [],
   "source": [
    "# each list becomes a column\n",
    "songs = pd.DataFrame({\"artist\":artist,\n",
    "                       \"song\":song, \n",
    "                      })"
   ]
  },
  {
   "cell_type": "code",
   "execution_count": 182,
   "id": "852c073e",
   "metadata": {
    "scrolled": true
   },
   "outputs": [
    {
     "data": {
      "text/html": [
       "<div>\n",
       "<style scoped>\n",
       "    .dataframe tbody tr th:only-of-type {\n",
       "        vertical-align: middle;\n",
       "    }\n",
       "\n",
       "    .dataframe tbody tr th {\n",
       "        vertical-align: top;\n",
       "    }\n",
       "\n",
       "    .dataframe thead th {\n",
       "        text-align: right;\n",
       "    }\n",
       "</style>\n",
       "<table border=\"1\" class=\"dataframe\">\n",
       "  <thead>\n",
       "    <tr style=\"text-align: right;\">\n",
       "      <th></th>\n",
       "      <th>artist</th>\n",
       "      <th>song</th>\n",
       "    </tr>\n",
       "  </thead>\n",
       "  <tbody>\n",
       "    <tr>\n",
       "      <th>0</th>\n",
       "      <td>\\nMark Ronson featuring Bruno Mars\\n</td>\n",
       "      <td>Uptown Funk</td>\n",
       "    </tr>\n",
       "    <tr>\n",
       "      <th>1</th>\n",
       "      <td>\\nEd Sheeran\\n</td>\n",
       "      <td>Thinking Out Loud</td>\n",
       "    </tr>\n",
       "    <tr>\n",
       "      <th>2</th>\n",
       "      <td>\\nWiz Khalifa featuring Charlie Puth\\n</td>\n",
       "      <td>See You Again</td>\n",
       "    </tr>\n",
       "    <tr>\n",
       "      <th>3</th>\n",
       "      <td>\\nFetty Wap\\n</td>\n",
       "      <td>Trap Queen</td>\n",
       "    </tr>\n",
       "    <tr>\n",
       "      <th>4</th>\n",
       "      <td>\\nMaroon 5\\n</td>\n",
       "      <td>Sugar</td>\n",
       "    </tr>\n",
       "    <tr>\n",
       "      <th>5</th>\n",
       "      <td>\\nWalk the Moon\\n</td>\n",
       "      <td>Shut Up and Dance</td>\n",
       "    </tr>\n",
       "    <tr>\n",
       "      <th>6</th>\n",
       "      <td>\\nTaylor Swift\\n</td>\n",
       "      <td>Blank Space</td>\n",
       "    </tr>\n",
       "    <tr>\n",
       "      <th>7</th>\n",
       "      <td>\\nSilentó\\n</td>\n",
       "      <td>Watch Me</td>\n",
       "    </tr>\n",
       "    <tr>\n",
       "      <th>8</th>\n",
       "      <td>\\nThe Weeknd\\n</td>\n",
       "      <td>Earned It</td>\n",
       "    </tr>\n",
       "    <tr>\n",
       "      <th>9</th>\n",
       "      <td>\\nThe Weeknd\\n</td>\n",
       "      <td>The Hills</td>\n",
       "    </tr>\n",
       "    <tr>\n",
       "      <th>10</th>\n",
       "      <td>\\nOMI\\n</td>\n",
       "      <td>Cheerleader</td>\n",
       "    </tr>\n",
       "    <tr>\n",
       "      <th>11</th>\n",
       "      <td>\\nThe Weeknd\\n</td>\n",
       "      <td>Can't Feel My Face</td>\n",
       "    </tr>\n",
       "    <tr>\n",
       "      <th>12</th>\n",
       "      <td>\\nEllie Goulding\\n</td>\n",
       "      <td>Love Me Like You Do</td>\n",
       "    </tr>\n",
       "    <tr>\n",
       "      <th>13</th>\n",
       "      <td>\\nHozier\\n</td>\n",
       "      <td>Take Me to Church</td>\n",
       "    </tr>\n",
       "    <tr>\n",
       "      <th>14</th>\n",
       "      <td>\\nTaylor Swift featuring Kendrick Lamar\\n</td>\n",
       "      <td>Bad Blood</td>\n",
       "    </tr>\n",
       "    <tr>\n",
       "      <th>15</th>\n",
       "      <td>\\nMajor Lazer and DJ Snake featuring MØ\\n</td>\n",
       "      <td>Lean On</td>\n",
       "    </tr>\n",
       "    <tr>\n",
       "      <th>16</th>\n",
       "      <td>\\nJason Derulo\\n</td>\n",
       "      <td>Want to Want Me</td>\n",
       "    </tr>\n",
       "    <tr>\n",
       "      <th>17</th>\n",
       "      <td>\\nTaylor Swift\\n</td>\n",
       "      <td>Shake It Off</td>\n",
       "    </tr>\n",
       "    <tr>\n",
       "      <th>18</th>\n",
       "      <td>\\nSkrillex and Diplo featuring Justin Bieber\\n</td>\n",
       "      <td>Where Are Ü Now</td>\n",
       "    </tr>\n",
       "    <tr>\n",
       "      <th>19</th>\n",
       "      <td>\\nRachel Platten\\n</td>\n",
       "      <td>Fight Song</td>\n",
       "    </tr>\n",
       "    <tr>\n",
       "      <th>20</th>\n",
       "      <td>\\nFetty Wap featuring Remy Boyz\\n</td>\n",
       "      <td>679</td>\n",
       "    </tr>\n",
       "    <tr>\n",
       "      <th>21</th>\n",
       "      <td>\\nMeghan Trainor\\n</td>\n",
       "      <td>Lips Are Movin</td>\n",
       "    </tr>\n",
       "    <tr>\n",
       "      <th>22</th>\n",
       "      <td>\\nFifth Harmony featuring Kid Ink\\n</td>\n",
       "      <td>Worth It</td>\n",
       "    </tr>\n",
       "    <tr>\n",
       "      <th>23</th>\n",
       "      <td>\\nOmarion featuring Chris Brown and Jhené Aiko\\n</td>\n",
       "      <td>Post to Be</td>\n",
       "    </tr>\n",
       "    <tr>\n",
       "      <th>24</th>\n",
       "      <td>\\nAndy Grammer\\n</td>\n",
       "      <td>Honey, I'm Good.</td>\n",
       "    </tr>\n",
       "    <tr>\n",
       "      <th>25</th>\n",
       "      <td>\\nSam Smith\\n</td>\n",
       "      <td>I'm Not the Only One</td>\n",
       "    </tr>\n",
       "    <tr>\n",
       "      <th>26</th>\n",
       "      <td>\\nSelena Gomez featuring A$AP Rocky\\n</td>\n",
       "      <td>Good for You</td>\n",
       "    </tr>\n",
       "    <tr>\n",
       "      <th>27</th>\n",
       "      <td>\\nMeghan Trainor\\n</td>\n",
       "      <td>All About That Bass</td>\n",
       "    </tr>\n",
       "    <tr>\n",
       "      <th>28</th>\n",
       "      <td>\\nTaylor Swift\\n</td>\n",
       "      <td>Style</td>\n",
       "    </tr>\n",
       "    <tr>\n",
       "      <th>29</th>\n",
       "      <td>\\nDrake\\n</td>\n",
       "      <td>Hotline Bling</td>\n",
       "    </tr>\n",
       "    <tr>\n",
       "      <th>30</th>\n",
       "      <td>\\nDavid Guetta featuring Nicki Minaj, Bebe Rex...</td>\n",
       "      <td>Hey Mama</td>\n",
       "    </tr>\n",
       "    <tr>\n",
       "      <th>31</th>\n",
       "      <td>\\nFlo Rida featuring Sage the Gemini and Lookas\\n</td>\n",
       "      <td>G.D.F.R.</td>\n",
       "    </tr>\n",
       "    <tr>\n",
       "      <th>32</th>\n",
       "      <td>\\nJustin Bieber\\n</td>\n",
       "      <td>What Do You Mean?</td>\n",
       "    </tr>\n",
       "    <tr>\n",
       "      <th>33</th>\n",
       "      <td>\\nEd Sheeran\\n</td>\n",
       "      <td>Photograph</td>\n",
       "    </tr>\n",
       "    <tr>\n",
       "      <th>34</th>\n",
       "      <td>\\nAdele\\n</td>\n",
       "      <td>Hello</td>\n",
       "    </tr>\n",
       "    <tr>\n",
       "      <th>35</th>\n",
       "      <td>\\nShawn Mendes\\n</td>\n",
       "      <td>Stitches</td>\n",
       "    </tr>\n",
       "    <tr>\n",
       "      <th>36</th>\n",
       "      <td>\\nTove Lo\\n</td>\n",
       "      <td>Talking Body</td>\n",
       "    </tr>\n",
       "    <tr>\n",
       "      <th>37</th>\n",
       "      <td>\\nNick Jonas\\n</td>\n",
       "      <td>Jealous</td>\n",
       "    </tr>\n",
       "    <tr>\n",
       "      <th>38</th>\n",
       "      <td>\\nPitbull and Ne-Yo\\n</td>\n",
       "      <td>Time of Our Lives</td>\n",
       "    </tr>\n",
       "    <tr>\n",
       "      <th>39</th>\n",
       "      <td>\\nR. City featuring Adam Levine\\n</td>\n",
       "      <td>Locked Away</td>\n",
       "    </tr>\n",
       "    <tr>\n",
       "      <th>40</th>\n",
       "      <td>\\nNatalie La Rose featuring Jeremih\\n</td>\n",
       "      <td>Somebody</td>\n",
       "    </tr>\n",
       "    <tr>\n",
       "      <th>41</th>\n",
       "      <td>\\nRihanna, Kanye West, and Paul McCartney\\n</td>\n",
       "      <td>FourFiveSeconds</td>\n",
       "    </tr>\n",
       "    <tr>\n",
       "      <th>42</th>\n",
       "      <td>\\nFall Out Boy\\n</td>\n",
       "      <td>Centuries</td>\n",
       "    </tr>\n",
       "    <tr>\n",
       "      <th>43</th>\n",
       "      <td>\\nFetty Wap featuring Monty\\n</td>\n",
       "      <td>My Way</td>\n",
       "    </tr>\n",
       "    <tr>\n",
       "      <th>44</th>\n",
       "      <td>\\nSam Hunt\\n</td>\n",
       "      <td>Take Your Time</td>\n",
       "    </tr>\n",
       "    <tr>\n",
       "      <th>45</th>\n",
       "      <td>\\nMaroon 5\\n</td>\n",
       "      <td>Animals</td>\n",
       "    </tr>\n",
       "    <tr>\n",
       "      <th>46</th>\n",
       "      <td>\\nBig Sean featuring E-40\\n</td>\n",
       "      <td>I Don't Fuck with You</td>\n",
       "    </tr>\n",
       "    <tr>\n",
       "      <th>47</th>\n",
       "      <td>\\nRihanna\\n</td>\n",
       "      <td>Bi**h Better Have My Money</td>\n",
       "    </tr>\n",
       "    <tr>\n",
       "      <th>48</th>\n",
       "      <td>\\nRich Homie Quan\\n</td>\n",
       "      <td>Flex (Ooh, Ooh, Ooh)</td>\n",
       "    </tr>\n",
       "    <tr>\n",
       "      <th>49</th>\n",
       "      <td>\\nT-Wayne\\n</td>\n",
       "      <td>Nasty Freestyle</td>\n",
       "    </tr>\n",
       "    <tr>\n",
       "      <th>50</th>\n",
       "      <td>\\nNicki Minaj featuring Drake, Lil Wayne, and ...</td>\n",
       "      <td>Only</td>\n",
       "    </tr>\n",
       "    <tr>\n",
       "      <th>51</th>\n",
       "      <td>\\nSia\\n</td>\n",
       "      <td>Elastic Heart</td>\n",
       "    </tr>\n",
       "    <tr>\n",
       "      <th>52</th>\n",
       "      <td>\\nDemi Lovato\\n</td>\n",
       "      <td>Cool for the Summer</td>\n",
       "    </tr>\n",
       "    <tr>\n",
       "      <th>53</th>\n",
       "      <td>\\nX Ambassadors\\n</td>\n",
       "      <td>Renegades</td>\n",
       "    </tr>\n",
       "    <tr>\n",
       "      <th>54</th>\n",
       "      <td>\\nUsher featuring Juicy J\\n</td>\n",
       "      <td>I Don't Mind</td>\n",
       "    </tr>\n",
       "    <tr>\n",
       "      <th>55</th>\n",
       "      <td>\\nAriana Grande and The Weeknd\\n</td>\n",
       "      <td>Love Me Harder</td>\n",
       "    </tr>\n",
       "    <tr>\n",
       "      <th>56</th>\n",
       "      <td>\\nTaylor Swift\\n</td>\n",
       "      <td>Wildest Dreams</td>\n",
       "    </tr>\n",
       "    <tr>\n",
       "      <th>57</th>\n",
       "      <td>\\nSam Smith\\n</td>\n",
       "      <td>Stay with Me</td>\n",
       "    </tr>\n",
       "    <tr>\n",
       "      <th>58</th>\n",
       "      <td>\\nDJ Snake and AlunaGeorge\\n</td>\n",
       "      <td>You Know You Like It</td>\n",
       "    </tr>\n",
       "    <tr>\n",
       "      <th>59</th>\n",
       "      <td>\\nFall Out Boy\\n</td>\n",
       "      <td>Uma Thurman</td>\n",
       "    </tr>\n",
       "    <tr>\n",
       "      <th>60</th>\n",
       "      <td>\\nBeyoncé\\n</td>\n",
       "      <td>7/11/2016</td>\n",
       "    </tr>\n",
       "    <tr>\n",
       "      <th>61</th>\n",
       "      <td>\\nSelena Gomez\\n</td>\n",
       "      <td>The Heart Wants What It Wants</td>\n",
       "    </tr>\n",
       "    <tr>\n",
       "      <th>62</th>\n",
       "      <td>\\nLittle Big Town\\n</td>\n",
       "      <td>Girl Crush</td>\n",
       "    </tr>\n",
       "    <tr>\n",
       "      <th>63</th>\n",
       "      <td>\\nTrey Songz\\n</td>\n",
       "      <td>Slow Motion</td>\n",
       "    </tr>\n",
       "    <tr>\n",
       "      <th>64</th>\n",
       "      <td>\\nOne Direction\\n</td>\n",
       "      <td>Drag Me Down</td>\n",
       "    </tr>\n",
       "    <tr>\n",
       "      <th>65</th>\n",
       "      <td>\\nNicki Minaj featuring Drake and Lil Wayne\\n</td>\n",
       "      <td>Truffle Butter</td>\n",
       "    </tr>\n",
       "    <tr>\n",
       "      <th>66</th>\n",
       "      <td>\\nAriana Grande\\n</td>\n",
       "      <td>One Last Time</td>\n",
       "    </tr>\n",
       "    <tr>\n",
       "      <th>67</th>\n",
       "      <td>\\nNick Jonas\\n</td>\n",
       "      <td>Chains</td>\n",
       "    </tr>\n",
       "    <tr>\n",
       "      <th>68</th>\n",
       "      <td>\\nMeek Mill featuring Chris Brown and Nicki Mi...</td>\n",
       "      <td>All Eyes on You</td>\n",
       "    </tr>\n",
       "    <tr>\n",
       "      <th>69</th>\n",
       "      <td>\\nRae Sremmurd\\n</td>\n",
       "      <td>No Type</td>\n",
       "    </tr>\n",
       "    <tr>\n",
       "      <th>70</th>\n",
       "      <td>\\nVance Joy\\n</td>\n",
       "      <td>Riptide</td>\n",
       "    </tr>\n",
       "    <tr>\n",
       "      <th>71</th>\n",
       "      <td>\\nJidenna featuring Roman GianArthur\\n</td>\n",
       "      <td>Classic Man</td>\n",
       "    </tr>\n",
       "    <tr>\n",
       "      <th>72</th>\n",
       "      <td>\\nElle King\\n</td>\n",
       "      <td>Ex's &amp; Oh's</td>\n",
       "    </tr>\n",
       "    <tr>\n",
       "      <th>73</th>\n",
       "      <td>\\nMeghan Trainor\\n</td>\n",
       "      <td>Dear Future Husband</td>\n",
       "    </tr>\n",
       "    <tr>\n",
       "      <th>74</th>\n",
       "      <td>\\nCharlie Puth featuring Meghan Trainor\\n</td>\n",
       "      <td>Marvin Gaye</td>\n",
       "    </tr>\n",
       "    <tr>\n",
       "      <th>75</th>\n",
       "      <td>\\nMeghan Trainor featuring John Legend\\n</td>\n",
       "      <td>Like I'm Gonna Lose You</td>\n",
       "    </tr>\n",
       "    <tr>\n",
       "      <th>76</th>\n",
       "      <td>\\nTove Lo\\n</td>\n",
       "      <td>Habits (Stay High)</td>\n",
       "    </tr>\n",
       "    <tr>\n",
       "      <th>77</th>\n",
       "      <td>\\nJames Newton Howard featuring Jennifer Lawre...</td>\n",
       "      <td>The Hanging Tree</td>\n",
       "    </tr>\n",
       "    <tr>\n",
       "      <th>78</th>\n",
       "      <td>\\nO.T. Genasis\\n</td>\n",
       "      <td>CoCo</td>\n",
       "    </tr>\n",
       "    <tr>\n",
       "      <th>79</th>\n",
       "      <td>\\nJessie J, Ariana Grande, and Nicki Minaj\\n</td>\n",
       "      <td>Bang Bang</td>\n",
       "    </tr>\n",
       "    <tr>\n",
       "      <th>80</th>\n",
       "      <td>\\nSam Smith\\n</td>\n",
       "      <td>Lay Me Down</td>\n",
       "    </tr>\n",
       "    <tr>\n",
       "      <th>81</th>\n",
       "      <td>\\nILoveMakonnen featuring Drake\\n</td>\n",
       "      <td>Tuesday</td>\n",
       "    </tr>\n",
       "    <tr>\n",
       "      <th>82</th>\n",
       "      <td>\\niLoveMemphis\\n</td>\n",
       "      <td>Hit the Quan</td>\n",
       "    </tr>\n",
       "    <tr>\n",
       "      <th>83</th>\n",
       "      <td>\\nMacklemore and Ryan Lewis featuring Eric Nal...</td>\n",
       "      <td>Downtown</td>\n",
       "    </tr>\n",
       "    <tr>\n",
       "      <th>84</th>\n",
       "      <td>\\nSam Hunt\\n</td>\n",
       "      <td>House Party</td>\n",
       "    </tr>\n",
       "    <tr>\n",
       "      <th>85</th>\n",
       "      <td>\\nChris Brown and Tyga\\n</td>\n",
       "      <td>Ayo</td>\n",
       "    </tr>\n",
       "    <tr>\n",
       "      <th>86</th>\n",
       "      <td>\\nLuke Bryan\\n</td>\n",
       "      <td>Kick the Dust Up</td>\n",
       "    </tr>\n",
       "    <tr>\n",
       "      <th>87</th>\n",
       "      <td>\\nBig Sean featuring Drake\\n</td>\n",
       "      <td>Blessings</td>\n",
       "    </tr>\n",
       "    <tr>\n",
       "      <th>88</th>\n",
       "      <td>\\nGeorge Ezra\\n</td>\n",
       "      <td>Budapest</td>\n",
       "    </tr>\n",
       "    <tr>\n",
       "      <th>89</th>\n",
       "      <td>\\nSia\\n</td>\n",
       "      <td>Chandelier</td>\n",
       "    </tr>\n",
       "    <tr>\n",
       "      <th>90</th>\n",
       "      <td>\\nKelly Clarkson\\n</td>\n",
       "      <td>Heartbeat Song</td>\n",
       "    </tr>\n",
       "    <tr>\n",
       "      <th>91</th>\n",
       "      <td>\\nEd Sheeran\\n</td>\n",
       "      <td>Don't</td>\n",
       "    </tr>\n",
       "    <tr>\n",
       "      <th>92</th>\n",
       "      <td>\\nElla Henderson\\n</td>\n",
       "      <td>Ghost</td>\n",
       "    </tr>\n",
       "    <tr>\n",
       "      <th>93</th>\n",
       "      <td>\\nAlessia Cara\\n</td>\n",
       "      <td>Here</td>\n",
       "    </tr>\n",
       "    <tr>\n",
       "      <th>94</th>\n",
       "      <td>\\nMr Probz\\n</td>\n",
       "      <td>Waves</td>\n",
       "    </tr>\n",
       "    <tr>\n",
       "      <th>95</th>\n",
       "      <td>\\nNicky Jam and Enrique Iglesias\\n</td>\n",
       "      <td>El Perdón</td>\n",
       "    </tr>\n",
       "    <tr>\n",
       "      <th>96</th>\n",
       "      <td>\\nNe-Yo featuring Juicy J\\n</td>\n",
       "      <td>She Knows</td>\n",
       "    </tr>\n",
       "    <tr>\n",
       "      <th>97</th>\n",
       "      <td>\\nOne Direction\\n</td>\n",
       "      <td>Night Changes</td>\n",
       "    </tr>\n",
       "    <tr>\n",
       "      <th>98</th>\n",
       "      <td>\\nDrake\\n</td>\n",
       "      <td>Back to Back</td>\n",
       "    </tr>\n",
       "    <tr>\n",
       "      <th>99</th>\n",
       "      <td>\\nCalvin Harris and Disciples\\n</td>\n",
       "      <td>How Deep Is Your Love</td>\n",
       "    </tr>\n",
       "  </tbody>\n",
       "</table>\n",
       "</div>"
      ],
      "text/plain": [
       "                                               artist  \\\n",
       "0                \\nMark Ronson featuring Bruno Mars\\n   \n",
       "1                                      \\nEd Sheeran\\n   \n",
       "2              \\nWiz Khalifa featuring Charlie Puth\\n   \n",
       "3                                       \\nFetty Wap\\n   \n",
       "4                                        \\nMaroon 5\\n   \n",
       "5                                   \\nWalk the Moon\\n   \n",
       "6                                    \\nTaylor Swift\\n   \n",
       "7                                         \\nSilentó\\n   \n",
       "8                                      \\nThe Weeknd\\n   \n",
       "9                                      \\nThe Weeknd\\n   \n",
       "10                                            \\nOMI\\n   \n",
       "11                                     \\nThe Weeknd\\n   \n",
       "12                                 \\nEllie Goulding\\n   \n",
       "13                                         \\nHozier\\n   \n",
       "14          \\nTaylor Swift featuring Kendrick Lamar\\n   \n",
       "15          \\nMajor Lazer and DJ Snake featuring MØ\\n   \n",
       "16                                   \\nJason Derulo\\n   \n",
       "17                                   \\nTaylor Swift\\n   \n",
       "18     \\nSkrillex and Diplo featuring Justin Bieber\\n   \n",
       "19                                 \\nRachel Platten\\n   \n",
       "20                  \\nFetty Wap featuring Remy Boyz\\n   \n",
       "21                                 \\nMeghan Trainor\\n   \n",
       "22                \\nFifth Harmony featuring Kid Ink\\n   \n",
       "23   \\nOmarion featuring Chris Brown and Jhené Aiko\\n   \n",
       "24                                   \\nAndy Grammer\\n   \n",
       "25                                      \\nSam Smith\\n   \n",
       "26              \\nSelena Gomez featuring A$AP Rocky\\n   \n",
       "27                                 \\nMeghan Trainor\\n   \n",
       "28                                   \\nTaylor Swift\\n   \n",
       "29                                          \\nDrake\\n   \n",
       "30  \\nDavid Guetta featuring Nicki Minaj, Bebe Rex...   \n",
       "31  \\nFlo Rida featuring Sage the Gemini and Lookas\\n   \n",
       "32                                  \\nJustin Bieber\\n   \n",
       "33                                     \\nEd Sheeran\\n   \n",
       "34                                          \\nAdele\\n   \n",
       "35                                   \\nShawn Mendes\\n   \n",
       "36                                        \\nTove Lo\\n   \n",
       "37                                     \\nNick Jonas\\n   \n",
       "38                              \\nPitbull and Ne-Yo\\n   \n",
       "39                  \\nR. City featuring Adam Levine\\n   \n",
       "40              \\nNatalie La Rose featuring Jeremih\\n   \n",
       "41        \\nRihanna, Kanye West, and Paul McCartney\\n   \n",
       "42                                   \\nFall Out Boy\\n   \n",
       "43                      \\nFetty Wap featuring Monty\\n   \n",
       "44                                       \\nSam Hunt\\n   \n",
       "45                                       \\nMaroon 5\\n   \n",
       "46                        \\nBig Sean featuring E-40\\n   \n",
       "47                                        \\nRihanna\\n   \n",
       "48                                \\nRich Homie Quan\\n   \n",
       "49                                        \\nT-Wayne\\n   \n",
       "50  \\nNicki Minaj featuring Drake, Lil Wayne, and ...   \n",
       "51                                            \\nSia\\n   \n",
       "52                                    \\nDemi Lovato\\n   \n",
       "53                                  \\nX Ambassadors\\n   \n",
       "54                        \\nUsher featuring Juicy J\\n   \n",
       "55                   \\nAriana Grande and The Weeknd\\n   \n",
       "56                                   \\nTaylor Swift\\n   \n",
       "57                                      \\nSam Smith\\n   \n",
       "58                       \\nDJ Snake and AlunaGeorge\\n   \n",
       "59                                   \\nFall Out Boy\\n   \n",
       "60                                        \\nBeyoncé\\n   \n",
       "61                                   \\nSelena Gomez\\n   \n",
       "62                                \\nLittle Big Town\\n   \n",
       "63                                     \\nTrey Songz\\n   \n",
       "64                                  \\nOne Direction\\n   \n",
       "65      \\nNicki Minaj featuring Drake and Lil Wayne\\n   \n",
       "66                                  \\nAriana Grande\\n   \n",
       "67                                     \\nNick Jonas\\n   \n",
       "68  \\nMeek Mill featuring Chris Brown and Nicki Mi...   \n",
       "69                                   \\nRae Sremmurd\\n   \n",
       "70                                      \\nVance Joy\\n   \n",
       "71             \\nJidenna featuring Roman GianArthur\\n   \n",
       "72                                      \\nElle King\\n   \n",
       "73                                 \\nMeghan Trainor\\n   \n",
       "74          \\nCharlie Puth featuring Meghan Trainor\\n   \n",
       "75           \\nMeghan Trainor featuring John Legend\\n   \n",
       "76                                        \\nTove Lo\\n   \n",
       "77  \\nJames Newton Howard featuring Jennifer Lawre...   \n",
       "78                                   \\nO.T. Genasis\\n   \n",
       "79       \\nJessie J, Ariana Grande, and Nicki Minaj\\n   \n",
       "80                                      \\nSam Smith\\n   \n",
       "81                  \\nILoveMakonnen featuring Drake\\n   \n",
       "82                                   \\niLoveMemphis\\n   \n",
       "83  \\nMacklemore and Ryan Lewis featuring Eric Nal...   \n",
       "84                                       \\nSam Hunt\\n   \n",
       "85                           \\nChris Brown and Tyga\\n   \n",
       "86                                     \\nLuke Bryan\\n   \n",
       "87                       \\nBig Sean featuring Drake\\n   \n",
       "88                                    \\nGeorge Ezra\\n   \n",
       "89                                            \\nSia\\n   \n",
       "90                                 \\nKelly Clarkson\\n   \n",
       "91                                     \\nEd Sheeran\\n   \n",
       "92                                 \\nElla Henderson\\n   \n",
       "93                                   \\nAlessia Cara\\n   \n",
       "94                                       \\nMr Probz\\n   \n",
       "95                 \\nNicky Jam and Enrique Iglesias\\n   \n",
       "96                        \\nNe-Yo featuring Juicy J\\n   \n",
       "97                                  \\nOne Direction\\n   \n",
       "98                                          \\nDrake\\n   \n",
       "99                    \\nCalvin Harris and Disciples\\n   \n",
       "\n",
       "                             song  \n",
       "0                     Uptown Funk  \n",
       "1               Thinking Out Loud  \n",
       "2                   See You Again  \n",
       "3                      Trap Queen  \n",
       "4                           Sugar  \n",
       "5               Shut Up and Dance  \n",
       "6                     Blank Space  \n",
       "7                        Watch Me  \n",
       "8                       Earned It  \n",
       "9                       The Hills  \n",
       "10                    Cheerleader  \n",
       "11             Can't Feel My Face  \n",
       "12            Love Me Like You Do  \n",
       "13              Take Me to Church  \n",
       "14                      Bad Blood  \n",
       "15                        Lean On  \n",
       "16                Want to Want Me  \n",
       "17                   Shake It Off  \n",
       "18                Where Are Ü Now  \n",
       "19                     Fight Song  \n",
       "20                            679  \n",
       "21                 Lips Are Movin  \n",
       "22                       Worth It  \n",
       "23                     Post to Be  \n",
       "24               Honey, I'm Good.  \n",
       "25           I'm Not the Only One  \n",
       "26                   Good for You  \n",
       "27            All About That Bass  \n",
       "28                          Style  \n",
       "29                  Hotline Bling  \n",
       "30                       Hey Mama  \n",
       "31                       G.D.F.R.  \n",
       "32              What Do You Mean?  \n",
       "33                     Photograph  \n",
       "34                          Hello  \n",
       "35                       Stitches  \n",
       "36                   Talking Body  \n",
       "37                        Jealous  \n",
       "38              Time of Our Lives  \n",
       "39                    Locked Away  \n",
       "40                       Somebody  \n",
       "41                FourFiveSeconds  \n",
       "42                      Centuries  \n",
       "43                         My Way  \n",
       "44                 Take Your Time  \n",
       "45                        Animals  \n",
       "46          I Don't Fuck with You  \n",
       "47     Bi**h Better Have My Money  \n",
       "48           Flex (Ooh, Ooh, Ooh)  \n",
       "49                Nasty Freestyle  \n",
       "50                           Only  \n",
       "51                  Elastic Heart  \n",
       "52            Cool for the Summer  \n",
       "53                      Renegades  \n",
       "54                   I Don't Mind  \n",
       "55                 Love Me Harder  \n",
       "56                 Wildest Dreams  \n",
       "57                   Stay with Me  \n",
       "58           You Know You Like It  \n",
       "59                    Uma Thurman  \n",
       "60                      7/11/2016  \n",
       "61  The Heart Wants What It Wants  \n",
       "62                     Girl Crush  \n",
       "63                    Slow Motion  \n",
       "64                   Drag Me Down  \n",
       "65                 Truffle Butter  \n",
       "66                  One Last Time  \n",
       "67                         Chains  \n",
       "68                All Eyes on You  \n",
       "69                        No Type  \n",
       "70                        Riptide  \n",
       "71                    Classic Man  \n",
       "72                    Ex's & Oh's  \n",
       "73            Dear Future Husband  \n",
       "74                    Marvin Gaye  \n",
       "75        Like I'm Gonna Lose You  \n",
       "76             Habits (Stay High)  \n",
       "77               The Hanging Tree  \n",
       "78                           CoCo  \n",
       "79                      Bang Bang  \n",
       "80                    Lay Me Down  \n",
       "81                        Tuesday  \n",
       "82                   Hit the Quan  \n",
       "83                       Downtown  \n",
       "84                    House Party  \n",
       "85                            Ayo  \n",
       "86               Kick the Dust Up  \n",
       "87                      Blessings  \n",
       "88                       Budapest  \n",
       "89                     Chandelier  \n",
       "90                 Heartbeat Song  \n",
       "91                          Don't  \n",
       "92                          Ghost  \n",
       "93                           Here  \n",
       "94                          Waves  \n",
       "95                      El Perdón  \n",
       "96                      She Knows  \n",
       "97                  Night Changes  \n",
       "98                   Back to Back  \n",
       "99          How Deep Is Your Love  "
      ]
     },
     "execution_count": 182,
     "metadata": {},
     "output_type": "execute_result"
    }
   ],
   "source": [
    "songs"
   ]
  },
  {
   "cell_type": "code",
   "execution_count": 183,
   "id": "e30972c3",
   "metadata": {},
   "outputs": [],
   "source": [
    "songs['artist']=songs['artist'].str.replace('\\n', ' ')\n",
    "             "
   ]
  },
  {
   "cell_type": "code",
   "execution_count": 184,
   "id": "e6d91dd6",
   "metadata": {
    "colab": {
     "base_uri": "https://localhost:8080/",
     "height": 204
    },
    "executionInfo": {
     "elapsed": 701,
     "status": "ok",
     "timestamp": 1619378305284,
     "user": {
      "displayName": "David Henriques",
      "photoUrl": "",
      "userId": "14332050621134291491"
     },
     "user_tz": -60
    },
    "id": "cFks_T4tWQ0F",
    "outputId": "062aba31-0609-4b42-f334-d039f937a895"
   },
   "outputs": [
    {
     "data": {
      "text/html": [
       "<div>\n",
       "<style scoped>\n",
       "    .dataframe tbody tr th:only-of-type {\n",
       "        vertical-align: middle;\n",
       "    }\n",
       "\n",
       "    .dataframe tbody tr th {\n",
       "        vertical-align: top;\n",
       "    }\n",
       "\n",
       "    .dataframe thead th {\n",
       "        text-align: right;\n",
       "    }\n",
       "</style>\n",
       "<table border=\"1\" class=\"dataframe\">\n",
       "  <thead>\n",
       "    <tr style=\"text-align: right;\">\n",
       "      <th></th>\n",
       "      <th>artist</th>\n",
       "      <th>song</th>\n",
       "    </tr>\n",
       "  </thead>\n",
       "  <tbody>\n",
       "    <tr>\n",
       "      <th>0</th>\n",
       "      <td>Mark Ronson featuring Bruno Mars</td>\n",
       "      <td>Uptown Funk</td>\n",
       "    </tr>\n",
       "    <tr>\n",
       "      <th>1</th>\n",
       "      <td>Ed Sheeran</td>\n",
       "      <td>Thinking Out Loud</td>\n",
       "    </tr>\n",
       "    <tr>\n",
       "      <th>2</th>\n",
       "      <td>Wiz Khalifa featuring Charlie Puth</td>\n",
       "      <td>See You Again</td>\n",
       "    </tr>\n",
       "    <tr>\n",
       "      <th>3</th>\n",
       "      <td>Fetty Wap</td>\n",
       "      <td>Trap Queen</td>\n",
       "    </tr>\n",
       "    <tr>\n",
       "      <th>4</th>\n",
       "      <td>Maroon 5</td>\n",
       "      <td>Sugar</td>\n",
       "    </tr>\n",
       "  </tbody>\n",
       "</table>\n",
       "</div>"
      ],
      "text/plain": [
       "                                 artist               song\n",
       "0     Mark Ronson featuring Bruno Mars         Uptown Funk\n",
       "1                           Ed Sheeran   Thinking Out Loud\n",
       "2   Wiz Khalifa featuring Charlie Puth       See You Again\n",
       "3                            Fetty Wap          Trap Queen\n",
       "4                             Maroon 5               Sugar"
      ]
     },
     "execution_count": 184,
     "metadata": {},
     "output_type": "execute_result"
    }
   ],
   "source": [
    "songs.head()"
   ]
  },
  {
   "cell_type": "code",
   "execution_count": null,
   "id": "05293fde",
   "metadata": {},
   "outputs": [],
   "source": []
  },
  {
   "cell_type": "code",
   "execution_count": 185,
   "id": "70cf3ba8",
   "metadata": {},
   "outputs": [
    {
     "data": {
      "text/plain": [
       "100"
      ]
     },
     "execution_count": 185,
     "metadata": {},
     "output_type": "execute_result"
    }
   ],
   "source": [
    "len(songs)"
   ]
  },
  {
   "cell_type": "code",
   "execution_count": 186,
   "id": "f3b5b924",
   "metadata": {},
   "outputs": [
    {
     "name": "stdout",
     "output_type": "stream",
     "text": [
      "Take Me to Church\n"
     ]
    }
   ],
   "source": [
    "import random\n",
    "\n",
    "\n",
    "secure_random = random.SystemRandom()\n",
    "print(secure_random.choice(song))"
   ]
  },
  {
   "cell_type": "code",
   "execution_count": 187,
   "id": "e8c40f15",
   "metadata": {},
   "outputs": [],
   "source": [
    "# print(songs['song'].sample())"
   ]
  },
  {
   "cell_type": "code",
   "execution_count": 188,
   "id": "52d8d399",
   "metadata": {},
   "outputs": [
    {
     "name": "stdout",
     "output_type": "stream",
     "text": [
      "Please enter your song name: Uptown Funk\n"
     ]
    }
   ],
   "source": [
    "favorite_song = input('Please enter your song name: ')\n"
   ]
  },
  {
   "cell_type": "code",
   "execution_count": 189,
   "id": "1d095913",
   "metadata": {
    "scrolled": false
   },
   "outputs": [
    {
     "name": "stdout",
     "output_type": "stream",
     "text": [
      "Uptown Funk\n"
     ]
    }
   ],
   "source": [
    "print(favorite_song)"
   ]
  },
  {
   "cell_type": "code",
   "execution_count": 190,
   "id": "db7fd06b",
   "metadata": {},
   "outputs": [
    {
     "name": "stdout",
     "output_type": "stream",
     "text": [
      "Our song recommendation is:  Lay Me Down\n"
     ]
    }
   ],
   "source": [
    "# Recommend song\n",
    "\n",
    "if len(songs[(songs['song'].isin([favorite_song]))])>0:\n",
    "    print(\"Our song recommendation is: \", secure_random.choice(songs['song'])) \n",
    "else:\n",
    "    print(\"We are sorry that we do not have a song recommendation for you now.\")"
   ]
  },
  {
   "cell_type": "code",
   "execution_count": 191,
   "id": "da78cd74",
   "metadata": {},
   "outputs": [],
   "source": [
    "songs_1=songs"
   ]
  },
  {
   "cell_type": "markdown",
   "id": "04ff06cb",
   "metadata": {
    "id": "ysQGKPUpxt8Q"
   },
   "source": [
    "# Lab | Web Scraping Multiple Page"
   ]
  },
  {
   "cell_type": "markdown",
   "id": "e6d2ada7",
   "metadata": {},
   "source": [
    "## Top-100-Songs"
   ]
  },
  {
   "cell_type": "code",
   "execution_count": 192,
   "id": "62af26d5",
   "metadata": {
    "id": "Lp3LA78aHb0g"
   },
   "outputs": [],
   "source": [
    "# 2. find url and store it in a variable\n",
    "# Bilboard hot 100\n",
    "url = \"https://www.popvortex.com/music/charts/top-100-songs.php\""
   ]
  },
  {
   "cell_type": "code",
   "execution_count": 193,
   "id": "7ae8b4df",
   "metadata": {
    "colab": {
     "base_uri": "https://localhost:8080/"
    },
    "executionInfo": {
     "elapsed": 1255,
     "status": "ok",
     "timestamp": 1619377720353,
     "user": {
      "displayName": "David Henriques",
      "photoUrl": "",
      "userId": "14332050621134291491"
     },
     "user_tz": -60
    },
    "id": "T-EV-NNgHccg",
    "outputId": "f9b4bfcb-72e8-4e99-eb61-564f44ff4445"
   },
   "outputs": [],
   "source": [
    "# 3. download html with a get request\n",
    "response = requests.get(url)\n",
    "# response.status_code # 200 status code means OK!"
   ]
  },
  {
   "cell_type": "code",
   "execution_count": 194,
   "id": "a01b2f42",
   "metadata": {},
   "outputs": [
    {
     "data": {
      "text/plain": [
       "200"
      ]
     },
     "execution_count": 194,
     "metadata": {},
     "output_type": "execute_result"
    }
   ],
   "source": [
    "response.status_code # 200 status code means OK!"
   ]
  },
  {
   "cell_type": "code",
   "execution_count": 195,
   "id": "d17fc863",
   "metadata": {},
   "outputs": [],
   "source": [
    "# response.content"
   ]
  },
  {
   "cell_type": "code",
   "execution_count": 196,
   "id": "4e05398e",
   "metadata": {
    "id": "3Q5yRuGIHhVa"
   },
   "outputs": [],
   "source": [
    "# 4.1. parse html (create the 'soup')\n",
    "soup = BeautifulSoup(response.content, \"html.parser\")"
   ]
  },
  {
   "cell_type": "code",
   "execution_count": 197,
   "id": "f8080e4a",
   "metadata": {},
   "outputs": [],
   "source": [
    "# print(soup.prettify())"
   ]
  },
  {
   "cell_type": "code",
   "execution_count": 198,
   "id": "426fb564",
   "metadata": {},
   "outputs": [
    {
     "data": {
      "text/plain": [
       "'Sam Smith & Kim Petras'"
      ]
     },
     "execution_count": 198,
     "metadata": {},
     "output_type": "execute_result"
    }
   ],
   "source": [
    "soup.select(\"div.chart-content.col-xs-12.col-sm-8 > p > em\")[0].get_text() \n",
    "\n",
    "# artist"
   ]
  },
  {
   "cell_type": "code",
   "execution_count": 199,
   "id": "9ebd05b0",
   "metadata": {},
   "outputs": [
    {
     "data": {
      "text/plain": [
       "'Unholy'"
      ]
     },
     "execution_count": 199,
     "metadata": {},
     "output_type": "execute_result"
    }
   ],
   "source": [
    "soup.select(\"div.chart-content.col-xs-12.col-sm-8 > p > cite\")[0].get_text() \n",
    "\n",
    "# song"
   ]
  },
  {
   "cell_type": "code",
   "execution_count": 200,
   "id": "59ba8714",
   "metadata": {},
   "outputs": [],
   "source": [
    "#chart-position-1 > div.chart-content.col-xs-12.col-sm-8 > p > cite # song"
   ]
  },
  {
   "cell_type": "code",
   "execution_count": 201,
   "id": "a75867f5",
   "metadata": {},
   "outputs": [],
   "source": [
    "#chart-position-1 > div.chart-content.col-xs-12.col-sm-8 > p > em # artist"
   ]
  },
  {
   "cell_type": "code",
   "execution_count": 202,
   "id": "34d53b53",
   "metadata": {
    "colab": {
     "base_uri": "https://localhost:8080/"
    },
    "executionInfo": {
     "elapsed": 9313,
     "status": "ok",
     "timestamp": 1619378299696,
     "user": {
      "displayName": "David Henriques",
      "photoUrl": "",
      "userId": "14332050621134291491"
     },
     "user_tz": -60
    },
    "id": "f3iTuAqCWOm0",
    "outputId": "2e65f639-a64d-4919-d307-ff9488ff752e"
   },
   "outputs": [
    {
     "name": "stdout",
     "output_type": "stream",
     "text": [
      "100\n",
      "['Sam Smith & Kim Petras', 'David Guetta & Bebe Rexha', 'Kane Brown & Katelyn Brown', 'Fleetwood Mac', 'HARDY & Lainey Wilson', 'Christina Perri', 'Jelly Roll', 'Morgan Wallen', 'Sia', 'Charlie Puth & Jung Kook', 'OneRepublic', 'Beyoncé', 'Chris Brown', 'Morgan Wallen', 'Cole Swindell', 'Bailey Zimmerman', 'Ed Sheeran', 'Luke Combs', 'Harry Styles', 'Eminem', 'Rascal Flatts', 'Lady Gaga & Bradley Cooper', 'Nicki Minaj', 'Queen', 'Nicky Youre & Dazy', 'Ed Sheeran', 'Bread', 'Lizzo', 'Ellie Goulding', 'Post Malone', 'Jax', 'Kenshi Yonezu', 'Elton John & Britney Spears', 'Zach Bryan', 'Lauren Spencer Smith', 'The Weeknd', 'Lee Brice', 'HARDY', 'Transformation Worship', 'Bruno Mars', 'Bailey Zimmerman', 'Dean Lewis', 'Jordan Davis', 'HARDY', 'Phil Collins', 'Lil Yachty', 'Jazmine Sullivan', 'Steve Lacy', 'Megan Moroney', 'Lady Gaga', 'Doja Cat', 'Jordan Davis', 'Zach Bryan', 'Lil Nas X', 'The Citizens of Halloween', 'Marshmello & Khalid', 'Lizzo', \"Israel Kamakawiwo'ole\", 'Drake, Kanye West, Lil Wayne & Eminem', 'Tyler Childers', 'Bailey Zimmerman', 'Don Louis', 'HARDY', 'Kate Bush', 'Imagine Dragons', 'Lewis Capaldi', 'Colton Dixon', 'Elton John & Dua Lipa', 'Chris Stapleton', 'Jackson Dean', 'Bad Bunny', 'Coolio', 'Chris Stapleton', 'Harry Styles', 'blink-182', 'Grupo Frontera', 'Tyler Hubbard', 'David Guetta & Bebe Rexha', 'AJR', 'CAIN', 'Cody Johnson', 'MAMAMOO', 'Green Day', 'Bobby \"Boris\" Pickett & The Crypt-Kickers', 'Blake Shelton', 'Russell Dickerson & Jake Scott', 'Thomas Rhett', 'Beyoncé', 'JVKE', 'charlieonnafriday', 'Jimmie Allen', 'GloRilla & Cardi B', 'Rachael Lampa', 'Bread', \"Auli'i Cravalho\", 'Bad Bunny & Chencho Corleone', 'Zach Bryan', 'Yung Gravy', 'Charli XCX', 'Lady Gaga']\n",
      "['Unholy', \"I'm Good (Blue)\", 'Thank God', 'Everywhere', 'wait in the truck', 'A Thousand Years', 'Son Of A Sinner', 'You Proof', 'Unstoppable', 'Left and Right', \"I Ain't Worried\", 'CUFF IT', 'Under the Influence', 'Wasted On You', 'She Had Me At Heads Carolina', 'Fall In Love', 'Shivers', 'The Kind of Love We Make', 'As It Was', 'Lose Yourself', 'Life Is a Highway', 'Shallow', 'Super Freaky Girl', 'Face It Alone', 'Sunroof', 'Celestial', 'Make It With You', 'About Damn Time', 'Love Me Like You Do', 'I Like You (A Happier Song) [feat. Doja Cat]', 'Victoria’s Secret', 'KICK BACK', 'Hold Me Closer', \"Something in the Orange (Z&E's Version)\", 'Fingers Crossed', 'Earned It', 'Soul', 'the mockingbird & THE CROW', 'Eagle (feat. KB)', 'It Will Rain', 'Rock and a Hard Place', 'How Do I Say Goodbye', 'What My World Spins Around', 'TRUCK BED', \"You'll Be In My Heart\", 'Poland', 'Bust Your Windows', 'Bad Habit', 'Tennessee Orange', 'Always Remember Us This Way', 'Vegas (From the Original Motion Picture Soundtrack ELVIS)', 'Next Thing You Know', 'Something in the Orange', \"STAR WALKIN' (League of Legends Worlds Anthem)\", 'This Is Halloween', 'Numb', '2 Be Loved (Am I Ready)', 'Somewhere Over the Rainbow', 'Forever', 'Way of the Triune God (Hallelujah Version)', 'Never Leave', 'Neon You', 'here lies country music', 'Running Up That Hill (A Deal with God)', 'Bones', 'Forget Me', 'Build a Boat', 'Cold Heart (PNAU Remix)', 'Tennessee Whiskey', 'Don’t Come Lookin’', 'Tití Me Preguntó', \"Gangsta's Paradise (feat. L.V.)\", 'Joy of My Life', 'Late Night Talking', 'All the Small Things', 'No Se Va (En Vivo)', '5 Foot 9', \"I'm Good (Blue)\", \"World's Smallest Violin\", \"I'm So Blessed (Best Day Remix)\", \"'Til You Can't\", '1,2,3 Eoi!', 'Boulevard of Broken Dreams (feat. John Gallagher Jr., Rebecca Naomi Jones, Stark Sands & Company)', 'Monster Mash', 'No Body', 'She Likes It (feat. Jake Scott)', 'Half Of Me (feat. Riley Green)', 'CUFF IT', 'golden hour', 'Enough', 'down home', 'Tomorrow 2', 'Perfectly Loved (feat. TobyMac)', 'Everything I Own', \"How Far I'll Go\", 'Me Porto Bonito', 'Starved', 'Betty (Get Money)', 'Boom Clap', 'Hold My Hand']\n"
     ]
    }
   ],
   "source": [
    "#initialize empty lists\n",
    "artist = []\n",
    "song = []\n",
    "\n",
    "# define the number of iterations of our for loop\n",
    "# by checking how many elements are in the retrieved result set\n",
    "# (this is equivalent but more robust than just explicitly defining 250 iterations)\n",
    "num_iter = len(soup.select(\"div.chart-content.col-xs-12.col-sm-8 > p > em\"))\n",
    "\n",
    "tClist = soup.select(\"div.chart-content.col-xs-12.col-sm-8 > p > em\")\n",
    "spanlist = soup.select(\"div.chart-content.col-xs-12.col-sm-8 > p > cite\")\n",
    "# iterate through the result set and retrive all the data\n",
    "for i in range(num_iter):\n",
    "    artist.append(tClist[i].get_text())\n",
    "    song.append(spanlist[i].get_text())\n",
    "\n",
    "print(num_iter)\n",
    "print(artist)\n",
    "print(song)\n",
    "\n"
   ]
  },
  {
   "cell_type": "code",
   "execution_count": 203,
   "id": "22e79dcb",
   "metadata": {},
   "outputs": [],
   "source": [
    "# each list becomes a column\n",
    "songs = pd.DataFrame({\"artist\":artist,\n",
    "                       \"song\":song, \n",
    "                      })"
   ]
  },
  {
   "cell_type": "code",
   "execution_count": 204,
   "id": "53b0a8a1",
   "metadata": {
    "scrolled": true
   },
   "outputs": [
    {
     "data": {
      "text/html": [
       "<div>\n",
       "<style scoped>\n",
       "    .dataframe tbody tr th:only-of-type {\n",
       "        vertical-align: middle;\n",
       "    }\n",
       "\n",
       "    .dataframe tbody tr th {\n",
       "        vertical-align: top;\n",
       "    }\n",
       "\n",
       "    .dataframe thead th {\n",
       "        text-align: right;\n",
       "    }\n",
       "</style>\n",
       "<table border=\"1\" class=\"dataframe\">\n",
       "  <thead>\n",
       "    <tr style=\"text-align: right;\">\n",
       "      <th></th>\n",
       "      <th>artist</th>\n",
       "      <th>song</th>\n",
       "    </tr>\n",
       "  </thead>\n",
       "  <tbody>\n",
       "    <tr>\n",
       "      <th>0</th>\n",
       "      <td>Sam Smith &amp; Kim Petras</td>\n",
       "      <td>Unholy</td>\n",
       "    </tr>\n",
       "    <tr>\n",
       "      <th>1</th>\n",
       "      <td>David Guetta &amp; Bebe Rexha</td>\n",
       "      <td>I'm Good (Blue)</td>\n",
       "    </tr>\n",
       "    <tr>\n",
       "      <th>2</th>\n",
       "      <td>Kane Brown &amp; Katelyn Brown</td>\n",
       "      <td>Thank God</td>\n",
       "    </tr>\n",
       "    <tr>\n",
       "      <th>3</th>\n",
       "      <td>Fleetwood Mac</td>\n",
       "      <td>Everywhere</td>\n",
       "    </tr>\n",
       "    <tr>\n",
       "      <th>4</th>\n",
       "      <td>HARDY &amp; Lainey Wilson</td>\n",
       "      <td>wait in the truck</td>\n",
       "    </tr>\n",
       "    <tr>\n",
       "      <th>5</th>\n",
       "      <td>Christina Perri</td>\n",
       "      <td>A Thousand Years</td>\n",
       "    </tr>\n",
       "    <tr>\n",
       "      <th>6</th>\n",
       "      <td>Jelly Roll</td>\n",
       "      <td>Son Of A Sinner</td>\n",
       "    </tr>\n",
       "    <tr>\n",
       "      <th>7</th>\n",
       "      <td>Morgan Wallen</td>\n",
       "      <td>You Proof</td>\n",
       "    </tr>\n",
       "    <tr>\n",
       "      <th>8</th>\n",
       "      <td>Sia</td>\n",
       "      <td>Unstoppable</td>\n",
       "    </tr>\n",
       "    <tr>\n",
       "      <th>9</th>\n",
       "      <td>Charlie Puth &amp; Jung Kook</td>\n",
       "      <td>Left and Right</td>\n",
       "    </tr>\n",
       "    <tr>\n",
       "      <th>10</th>\n",
       "      <td>OneRepublic</td>\n",
       "      <td>I Ain't Worried</td>\n",
       "    </tr>\n",
       "    <tr>\n",
       "      <th>11</th>\n",
       "      <td>Beyoncé</td>\n",
       "      <td>CUFF IT</td>\n",
       "    </tr>\n",
       "    <tr>\n",
       "      <th>12</th>\n",
       "      <td>Chris Brown</td>\n",
       "      <td>Under the Influence</td>\n",
       "    </tr>\n",
       "    <tr>\n",
       "      <th>13</th>\n",
       "      <td>Morgan Wallen</td>\n",
       "      <td>Wasted On You</td>\n",
       "    </tr>\n",
       "    <tr>\n",
       "      <th>14</th>\n",
       "      <td>Cole Swindell</td>\n",
       "      <td>She Had Me At Heads Carolina</td>\n",
       "    </tr>\n",
       "    <tr>\n",
       "      <th>15</th>\n",
       "      <td>Bailey Zimmerman</td>\n",
       "      <td>Fall In Love</td>\n",
       "    </tr>\n",
       "    <tr>\n",
       "      <th>16</th>\n",
       "      <td>Ed Sheeran</td>\n",
       "      <td>Shivers</td>\n",
       "    </tr>\n",
       "    <tr>\n",
       "      <th>17</th>\n",
       "      <td>Luke Combs</td>\n",
       "      <td>The Kind of Love We Make</td>\n",
       "    </tr>\n",
       "    <tr>\n",
       "      <th>18</th>\n",
       "      <td>Harry Styles</td>\n",
       "      <td>As It Was</td>\n",
       "    </tr>\n",
       "    <tr>\n",
       "      <th>19</th>\n",
       "      <td>Eminem</td>\n",
       "      <td>Lose Yourself</td>\n",
       "    </tr>\n",
       "    <tr>\n",
       "      <th>20</th>\n",
       "      <td>Rascal Flatts</td>\n",
       "      <td>Life Is a Highway</td>\n",
       "    </tr>\n",
       "    <tr>\n",
       "      <th>21</th>\n",
       "      <td>Lady Gaga &amp; Bradley Cooper</td>\n",
       "      <td>Shallow</td>\n",
       "    </tr>\n",
       "    <tr>\n",
       "      <th>22</th>\n",
       "      <td>Nicki Minaj</td>\n",
       "      <td>Super Freaky Girl</td>\n",
       "    </tr>\n",
       "    <tr>\n",
       "      <th>23</th>\n",
       "      <td>Queen</td>\n",
       "      <td>Face It Alone</td>\n",
       "    </tr>\n",
       "    <tr>\n",
       "      <th>24</th>\n",
       "      <td>Nicky Youre &amp; Dazy</td>\n",
       "      <td>Sunroof</td>\n",
       "    </tr>\n",
       "    <tr>\n",
       "      <th>25</th>\n",
       "      <td>Ed Sheeran</td>\n",
       "      <td>Celestial</td>\n",
       "    </tr>\n",
       "    <tr>\n",
       "      <th>26</th>\n",
       "      <td>Bread</td>\n",
       "      <td>Make It With You</td>\n",
       "    </tr>\n",
       "    <tr>\n",
       "      <th>27</th>\n",
       "      <td>Lizzo</td>\n",
       "      <td>About Damn Time</td>\n",
       "    </tr>\n",
       "    <tr>\n",
       "      <th>28</th>\n",
       "      <td>Ellie Goulding</td>\n",
       "      <td>Love Me Like You Do</td>\n",
       "    </tr>\n",
       "    <tr>\n",
       "      <th>29</th>\n",
       "      <td>Post Malone</td>\n",
       "      <td>I Like You (A Happier Song) [feat. Doja Cat]</td>\n",
       "    </tr>\n",
       "    <tr>\n",
       "      <th>30</th>\n",
       "      <td>Jax</td>\n",
       "      <td>Victoria’s Secret</td>\n",
       "    </tr>\n",
       "    <tr>\n",
       "      <th>31</th>\n",
       "      <td>Kenshi Yonezu</td>\n",
       "      <td>KICK BACK</td>\n",
       "    </tr>\n",
       "    <tr>\n",
       "      <th>32</th>\n",
       "      <td>Elton John &amp; Britney Spears</td>\n",
       "      <td>Hold Me Closer</td>\n",
       "    </tr>\n",
       "    <tr>\n",
       "      <th>33</th>\n",
       "      <td>Zach Bryan</td>\n",
       "      <td>Something in the Orange (Z&amp;E's Version)</td>\n",
       "    </tr>\n",
       "    <tr>\n",
       "      <th>34</th>\n",
       "      <td>Lauren Spencer Smith</td>\n",
       "      <td>Fingers Crossed</td>\n",
       "    </tr>\n",
       "    <tr>\n",
       "      <th>35</th>\n",
       "      <td>The Weeknd</td>\n",
       "      <td>Earned It</td>\n",
       "    </tr>\n",
       "    <tr>\n",
       "      <th>36</th>\n",
       "      <td>Lee Brice</td>\n",
       "      <td>Soul</td>\n",
       "    </tr>\n",
       "    <tr>\n",
       "      <th>37</th>\n",
       "      <td>HARDY</td>\n",
       "      <td>the mockingbird &amp; THE CROW</td>\n",
       "    </tr>\n",
       "    <tr>\n",
       "      <th>38</th>\n",
       "      <td>Transformation Worship</td>\n",
       "      <td>Eagle (feat. KB)</td>\n",
       "    </tr>\n",
       "    <tr>\n",
       "      <th>39</th>\n",
       "      <td>Bruno Mars</td>\n",
       "      <td>It Will Rain</td>\n",
       "    </tr>\n",
       "    <tr>\n",
       "      <th>40</th>\n",
       "      <td>Bailey Zimmerman</td>\n",
       "      <td>Rock and a Hard Place</td>\n",
       "    </tr>\n",
       "    <tr>\n",
       "      <th>41</th>\n",
       "      <td>Dean Lewis</td>\n",
       "      <td>How Do I Say Goodbye</td>\n",
       "    </tr>\n",
       "    <tr>\n",
       "      <th>42</th>\n",
       "      <td>Jordan Davis</td>\n",
       "      <td>What My World Spins Around</td>\n",
       "    </tr>\n",
       "    <tr>\n",
       "      <th>43</th>\n",
       "      <td>HARDY</td>\n",
       "      <td>TRUCK BED</td>\n",
       "    </tr>\n",
       "    <tr>\n",
       "      <th>44</th>\n",
       "      <td>Phil Collins</td>\n",
       "      <td>You'll Be In My Heart</td>\n",
       "    </tr>\n",
       "    <tr>\n",
       "      <th>45</th>\n",
       "      <td>Lil Yachty</td>\n",
       "      <td>Poland</td>\n",
       "    </tr>\n",
       "    <tr>\n",
       "      <th>46</th>\n",
       "      <td>Jazmine Sullivan</td>\n",
       "      <td>Bust Your Windows</td>\n",
       "    </tr>\n",
       "    <tr>\n",
       "      <th>47</th>\n",
       "      <td>Steve Lacy</td>\n",
       "      <td>Bad Habit</td>\n",
       "    </tr>\n",
       "    <tr>\n",
       "      <th>48</th>\n",
       "      <td>Megan Moroney</td>\n",
       "      <td>Tennessee Orange</td>\n",
       "    </tr>\n",
       "    <tr>\n",
       "      <th>49</th>\n",
       "      <td>Lady Gaga</td>\n",
       "      <td>Always Remember Us This Way</td>\n",
       "    </tr>\n",
       "    <tr>\n",
       "      <th>50</th>\n",
       "      <td>Doja Cat</td>\n",
       "      <td>Vegas (From the Original Motion Picture Soundt...</td>\n",
       "    </tr>\n",
       "    <tr>\n",
       "      <th>51</th>\n",
       "      <td>Jordan Davis</td>\n",
       "      <td>Next Thing You Know</td>\n",
       "    </tr>\n",
       "    <tr>\n",
       "      <th>52</th>\n",
       "      <td>Zach Bryan</td>\n",
       "      <td>Something in the Orange</td>\n",
       "    </tr>\n",
       "    <tr>\n",
       "      <th>53</th>\n",
       "      <td>Lil Nas X</td>\n",
       "      <td>STAR WALKIN' (League of Legends Worlds Anthem)</td>\n",
       "    </tr>\n",
       "    <tr>\n",
       "      <th>54</th>\n",
       "      <td>The Citizens of Halloween</td>\n",
       "      <td>This Is Halloween</td>\n",
       "    </tr>\n",
       "    <tr>\n",
       "      <th>55</th>\n",
       "      <td>Marshmello &amp; Khalid</td>\n",
       "      <td>Numb</td>\n",
       "    </tr>\n",
       "    <tr>\n",
       "      <th>56</th>\n",
       "      <td>Lizzo</td>\n",
       "      <td>2 Be Loved (Am I Ready)</td>\n",
       "    </tr>\n",
       "    <tr>\n",
       "      <th>57</th>\n",
       "      <td>Israel Kamakawiwo'ole</td>\n",
       "      <td>Somewhere Over the Rainbow</td>\n",
       "    </tr>\n",
       "    <tr>\n",
       "      <th>58</th>\n",
       "      <td>Drake, Kanye West, Lil Wayne &amp; Eminem</td>\n",
       "      <td>Forever</td>\n",
       "    </tr>\n",
       "    <tr>\n",
       "      <th>59</th>\n",
       "      <td>Tyler Childers</td>\n",
       "      <td>Way of the Triune God (Hallelujah Version)</td>\n",
       "    </tr>\n",
       "    <tr>\n",
       "      <th>60</th>\n",
       "      <td>Bailey Zimmerman</td>\n",
       "      <td>Never Leave</td>\n",
       "    </tr>\n",
       "    <tr>\n",
       "      <th>61</th>\n",
       "      <td>Don Louis</td>\n",
       "      <td>Neon You</td>\n",
       "    </tr>\n",
       "    <tr>\n",
       "      <th>62</th>\n",
       "      <td>HARDY</td>\n",
       "      <td>here lies country music</td>\n",
       "    </tr>\n",
       "    <tr>\n",
       "      <th>63</th>\n",
       "      <td>Kate Bush</td>\n",
       "      <td>Running Up That Hill (A Deal with God)</td>\n",
       "    </tr>\n",
       "    <tr>\n",
       "      <th>64</th>\n",
       "      <td>Imagine Dragons</td>\n",
       "      <td>Bones</td>\n",
       "    </tr>\n",
       "    <tr>\n",
       "      <th>65</th>\n",
       "      <td>Lewis Capaldi</td>\n",
       "      <td>Forget Me</td>\n",
       "    </tr>\n",
       "    <tr>\n",
       "      <th>66</th>\n",
       "      <td>Colton Dixon</td>\n",
       "      <td>Build a Boat</td>\n",
       "    </tr>\n",
       "    <tr>\n",
       "      <th>67</th>\n",
       "      <td>Elton John &amp; Dua Lipa</td>\n",
       "      <td>Cold Heart (PNAU Remix)</td>\n",
       "    </tr>\n",
       "    <tr>\n",
       "      <th>68</th>\n",
       "      <td>Chris Stapleton</td>\n",
       "      <td>Tennessee Whiskey</td>\n",
       "    </tr>\n",
       "    <tr>\n",
       "      <th>69</th>\n",
       "      <td>Jackson Dean</td>\n",
       "      <td>Don’t Come Lookin’</td>\n",
       "    </tr>\n",
       "    <tr>\n",
       "      <th>70</th>\n",
       "      <td>Bad Bunny</td>\n",
       "      <td>Tití Me Preguntó</td>\n",
       "    </tr>\n",
       "    <tr>\n",
       "      <th>71</th>\n",
       "      <td>Coolio</td>\n",
       "      <td>Gangsta's Paradise (feat. L.V.)</td>\n",
       "    </tr>\n",
       "    <tr>\n",
       "      <th>72</th>\n",
       "      <td>Chris Stapleton</td>\n",
       "      <td>Joy of My Life</td>\n",
       "    </tr>\n",
       "    <tr>\n",
       "      <th>73</th>\n",
       "      <td>Harry Styles</td>\n",
       "      <td>Late Night Talking</td>\n",
       "    </tr>\n",
       "    <tr>\n",
       "      <th>74</th>\n",
       "      <td>blink-182</td>\n",
       "      <td>All the Small Things</td>\n",
       "    </tr>\n",
       "    <tr>\n",
       "      <th>75</th>\n",
       "      <td>Grupo Frontera</td>\n",
       "      <td>No Se Va (En Vivo)</td>\n",
       "    </tr>\n",
       "    <tr>\n",
       "      <th>76</th>\n",
       "      <td>Tyler Hubbard</td>\n",
       "      <td>5 Foot 9</td>\n",
       "    </tr>\n",
       "    <tr>\n",
       "      <th>77</th>\n",
       "      <td>David Guetta &amp; Bebe Rexha</td>\n",
       "      <td>I'm Good (Blue)</td>\n",
       "    </tr>\n",
       "    <tr>\n",
       "      <th>78</th>\n",
       "      <td>AJR</td>\n",
       "      <td>World's Smallest Violin</td>\n",
       "    </tr>\n",
       "    <tr>\n",
       "      <th>79</th>\n",
       "      <td>CAIN</td>\n",
       "      <td>I'm So Blessed (Best Day Remix)</td>\n",
       "    </tr>\n",
       "    <tr>\n",
       "      <th>80</th>\n",
       "      <td>Cody Johnson</td>\n",
       "      <td>'Til You Can't</td>\n",
       "    </tr>\n",
       "    <tr>\n",
       "      <th>81</th>\n",
       "      <td>MAMAMOO</td>\n",
       "      <td>1,2,3 Eoi!</td>\n",
       "    </tr>\n",
       "    <tr>\n",
       "      <th>82</th>\n",
       "      <td>Green Day</td>\n",
       "      <td>Boulevard of Broken Dreams (feat. John Gallagh...</td>\n",
       "    </tr>\n",
       "    <tr>\n",
       "      <th>83</th>\n",
       "      <td>Bobby \"Boris\" Pickett &amp; The Crypt-Kickers</td>\n",
       "      <td>Monster Mash</td>\n",
       "    </tr>\n",
       "    <tr>\n",
       "      <th>84</th>\n",
       "      <td>Blake Shelton</td>\n",
       "      <td>No Body</td>\n",
       "    </tr>\n",
       "    <tr>\n",
       "      <th>85</th>\n",
       "      <td>Russell Dickerson &amp; Jake Scott</td>\n",
       "      <td>She Likes It (feat. Jake Scott)</td>\n",
       "    </tr>\n",
       "    <tr>\n",
       "      <th>86</th>\n",
       "      <td>Thomas Rhett</td>\n",
       "      <td>Half Of Me (feat. Riley Green)</td>\n",
       "    </tr>\n",
       "    <tr>\n",
       "      <th>87</th>\n",
       "      <td>Beyoncé</td>\n",
       "      <td>CUFF IT</td>\n",
       "    </tr>\n",
       "    <tr>\n",
       "      <th>88</th>\n",
       "      <td>JVKE</td>\n",
       "      <td>golden hour</td>\n",
       "    </tr>\n",
       "    <tr>\n",
       "      <th>89</th>\n",
       "      <td>charlieonnafriday</td>\n",
       "      <td>Enough</td>\n",
       "    </tr>\n",
       "    <tr>\n",
       "      <th>90</th>\n",
       "      <td>Jimmie Allen</td>\n",
       "      <td>down home</td>\n",
       "    </tr>\n",
       "    <tr>\n",
       "      <th>91</th>\n",
       "      <td>GloRilla &amp; Cardi B</td>\n",
       "      <td>Tomorrow 2</td>\n",
       "    </tr>\n",
       "    <tr>\n",
       "      <th>92</th>\n",
       "      <td>Rachael Lampa</td>\n",
       "      <td>Perfectly Loved (feat. TobyMac)</td>\n",
       "    </tr>\n",
       "    <tr>\n",
       "      <th>93</th>\n",
       "      <td>Bread</td>\n",
       "      <td>Everything I Own</td>\n",
       "    </tr>\n",
       "    <tr>\n",
       "      <th>94</th>\n",
       "      <td>Auli'i Cravalho</td>\n",
       "      <td>How Far I'll Go</td>\n",
       "    </tr>\n",
       "    <tr>\n",
       "      <th>95</th>\n",
       "      <td>Bad Bunny &amp; Chencho Corleone</td>\n",
       "      <td>Me Porto Bonito</td>\n",
       "    </tr>\n",
       "    <tr>\n",
       "      <th>96</th>\n",
       "      <td>Zach Bryan</td>\n",
       "      <td>Starved</td>\n",
       "    </tr>\n",
       "    <tr>\n",
       "      <th>97</th>\n",
       "      <td>Yung Gravy</td>\n",
       "      <td>Betty (Get Money)</td>\n",
       "    </tr>\n",
       "    <tr>\n",
       "      <th>98</th>\n",
       "      <td>Charli XCX</td>\n",
       "      <td>Boom Clap</td>\n",
       "    </tr>\n",
       "    <tr>\n",
       "      <th>99</th>\n",
       "      <td>Lady Gaga</td>\n",
       "      <td>Hold My Hand</td>\n",
       "    </tr>\n",
       "  </tbody>\n",
       "</table>\n",
       "</div>"
      ],
      "text/plain": [
       "                                       artist  \\\n",
       "0                      Sam Smith & Kim Petras   \n",
       "1                   David Guetta & Bebe Rexha   \n",
       "2                  Kane Brown & Katelyn Brown   \n",
       "3                               Fleetwood Mac   \n",
       "4                       HARDY & Lainey Wilson   \n",
       "5                             Christina Perri   \n",
       "6                                  Jelly Roll   \n",
       "7                               Morgan Wallen   \n",
       "8                                         Sia   \n",
       "9                    Charlie Puth & Jung Kook   \n",
       "10                                OneRepublic   \n",
       "11                                    Beyoncé   \n",
       "12                                Chris Brown   \n",
       "13                              Morgan Wallen   \n",
       "14                              Cole Swindell   \n",
       "15                           Bailey Zimmerman   \n",
       "16                                 Ed Sheeran   \n",
       "17                                 Luke Combs   \n",
       "18                               Harry Styles   \n",
       "19                                     Eminem   \n",
       "20                              Rascal Flatts   \n",
       "21                 Lady Gaga & Bradley Cooper   \n",
       "22                                Nicki Minaj   \n",
       "23                                      Queen   \n",
       "24                         Nicky Youre & Dazy   \n",
       "25                                 Ed Sheeran   \n",
       "26                                      Bread   \n",
       "27                                      Lizzo   \n",
       "28                             Ellie Goulding   \n",
       "29                                Post Malone   \n",
       "30                                        Jax   \n",
       "31                              Kenshi Yonezu   \n",
       "32                Elton John & Britney Spears   \n",
       "33                                 Zach Bryan   \n",
       "34                       Lauren Spencer Smith   \n",
       "35                                 The Weeknd   \n",
       "36                                  Lee Brice   \n",
       "37                                      HARDY   \n",
       "38                     Transformation Worship   \n",
       "39                                 Bruno Mars   \n",
       "40                           Bailey Zimmerman   \n",
       "41                                 Dean Lewis   \n",
       "42                               Jordan Davis   \n",
       "43                                      HARDY   \n",
       "44                               Phil Collins   \n",
       "45                                 Lil Yachty   \n",
       "46                           Jazmine Sullivan   \n",
       "47                                 Steve Lacy   \n",
       "48                              Megan Moroney   \n",
       "49                                  Lady Gaga   \n",
       "50                                   Doja Cat   \n",
       "51                               Jordan Davis   \n",
       "52                                 Zach Bryan   \n",
       "53                                  Lil Nas X   \n",
       "54                  The Citizens of Halloween   \n",
       "55                        Marshmello & Khalid   \n",
       "56                                      Lizzo   \n",
       "57                      Israel Kamakawiwo'ole   \n",
       "58      Drake, Kanye West, Lil Wayne & Eminem   \n",
       "59                             Tyler Childers   \n",
       "60                           Bailey Zimmerman   \n",
       "61                                  Don Louis   \n",
       "62                                      HARDY   \n",
       "63                                  Kate Bush   \n",
       "64                            Imagine Dragons   \n",
       "65                              Lewis Capaldi   \n",
       "66                               Colton Dixon   \n",
       "67                      Elton John & Dua Lipa   \n",
       "68                            Chris Stapleton   \n",
       "69                               Jackson Dean   \n",
       "70                                  Bad Bunny   \n",
       "71                                     Coolio   \n",
       "72                            Chris Stapleton   \n",
       "73                               Harry Styles   \n",
       "74                                  blink-182   \n",
       "75                             Grupo Frontera   \n",
       "76                              Tyler Hubbard   \n",
       "77                  David Guetta & Bebe Rexha   \n",
       "78                                        AJR   \n",
       "79                                       CAIN   \n",
       "80                               Cody Johnson   \n",
       "81                                    MAMAMOO   \n",
       "82                                  Green Day   \n",
       "83  Bobby \"Boris\" Pickett & The Crypt-Kickers   \n",
       "84                              Blake Shelton   \n",
       "85             Russell Dickerson & Jake Scott   \n",
       "86                               Thomas Rhett   \n",
       "87                                    Beyoncé   \n",
       "88                                       JVKE   \n",
       "89                          charlieonnafriday   \n",
       "90                               Jimmie Allen   \n",
       "91                         GloRilla & Cardi B   \n",
       "92                              Rachael Lampa   \n",
       "93                                      Bread   \n",
       "94                            Auli'i Cravalho   \n",
       "95               Bad Bunny & Chencho Corleone   \n",
       "96                                 Zach Bryan   \n",
       "97                                 Yung Gravy   \n",
       "98                                 Charli XCX   \n",
       "99                                  Lady Gaga   \n",
       "\n",
       "                                                 song  \n",
       "0                                              Unholy  \n",
       "1                                     I'm Good (Blue)  \n",
       "2                                           Thank God  \n",
       "3                                          Everywhere  \n",
       "4                                   wait in the truck  \n",
       "5                                    A Thousand Years  \n",
       "6                                     Son Of A Sinner  \n",
       "7                                           You Proof  \n",
       "8                                         Unstoppable  \n",
       "9                                      Left and Right  \n",
       "10                                    I Ain't Worried  \n",
       "11                                            CUFF IT  \n",
       "12                                Under the Influence  \n",
       "13                                      Wasted On You  \n",
       "14                       She Had Me At Heads Carolina  \n",
       "15                                       Fall In Love  \n",
       "16                                            Shivers  \n",
       "17                           The Kind of Love We Make  \n",
       "18                                          As It Was  \n",
       "19                                      Lose Yourself  \n",
       "20                                  Life Is a Highway  \n",
       "21                                            Shallow  \n",
       "22                                  Super Freaky Girl  \n",
       "23                                      Face It Alone  \n",
       "24                                            Sunroof  \n",
       "25                                          Celestial  \n",
       "26                                   Make It With You  \n",
       "27                                    About Damn Time  \n",
       "28                                Love Me Like You Do  \n",
       "29       I Like You (A Happier Song) [feat. Doja Cat]  \n",
       "30                                  Victoria’s Secret  \n",
       "31                                          KICK BACK  \n",
       "32                                     Hold Me Closer  \n",
       "33            Something in the Orange (Z&E's Version)  \n",
       "34                                    Fingers Crossed  \n",
       "35                                          Earned It  \n",
       "36                                               Soul  \n",
       "37                         the mockingbird & THE CROW  \n",
       "38                                   Eagle (feat. KB)  \n",
       "39                                       It Will Rain  \n",
       "40                              Rock and a Hard Place  \n",
       "41                               How Do I Say Goodbye  \n",
       "42                         What My World Spins Around  \n",
       "43                                          TRUCK BED  \n",
       "44                              You'll Be In My Heart  \n",
       "45                                             Poland  \n",
       "46                                  Bust Your Windows  \n",
       "47                                          Bad Habit  \n",
       "48                                   Tennessee Orange  \n",
       "49                        Always Remember Us This Way  \n",
       "50  Vegas (From the Original Motion Picture Soundt...  \n",
       "51                                Next Thing You Know  \n",
       "52                            Something in the Orange  \n",
       "53     STAR WALKIN' (League of Legends Worlds Anthem)  \n",
       "54                                  This Is Halloween  \n",
       "55                                               Numb  \n",
       "56                            2 Be Loved (Am I Ready)  \n",
       "57                         Somewhere Over the Rainbow  \n",
       "58                                            Forever  \n",
       "59         Way of the Triune God (Hallelujah Version)  \n",
       "60                                        Never Leave  \n",
       "61                                           Neon You  \n",
       "62                            here lies country music  \n",
       "63             Running Up That Hill (A Deal with God)  \n",
       "64                                              Bones  \n",
       "65                                          Forget Me  \n",
       "66                                       Build a Boat  \n",
       "67                            Cold Heart (PNAU Remix)  \n",
       "68                                  Tennessee Whiskey  \n",
       "69                                 Don’t Come Lookin’  \n",
       "70                                   Tití Me Preguntó  \n",
       "71                    Gangsta's Paradise (feat. L.V.)  \n",
       "72                                     Joy of My Life  \n",
       "73                                 Late Night Talking  \n",
       "74                               All the Small Things  \n",
       "75                                 No Se Va (En Vivo)  \n",
       "76                                           5 Foot 9  \n",
       "77                                    I'm Good (Blue)  \n",
       "78                            World's Smallest Violin  \n",
       "79                    I'm So Blessed (Best Day Remix)  \n",
       "80                                     'Til You Can't  \n",
       "81                                         1,2,3 Eoi!  \n",
       "82  Boulevard of Broken Dreams (feat. John Gallagh...  \n",
       "83                                       Monster Mash  \n",
       "84                                            No Body  \n",
       "85                    She Likes It (feat. Jake Scott)  \n",
       "86                     Half Of Me (feat. Riley Green)  \n",
       "87                                            CUFF IT  \n",
       "88                                        golden hour  \n",
       "89                                             Enough  \n",
       "90                                          down home  \n",
       "91                                         Tomorrow 2  \n",
       "92                    Perfectly Loved (feat. TobyMac)  \n",
       "93                                   Everything I Own  \n",
       "94                                    How Far I'll Go  \n",
       "95                                    Me Porto Bonito  \n",
       "96                                            Starved  \n",
       "97                                  Betty (Get Money)  \n",
       "98                                          Boom Clap  \n",
       "99                                       Hold My Hand  "
      ]
     },
     "execution_count": 204,
     "metadata": {},
     "output_type": "execute_result"
    }
   ],
   "source": [
    "songs"
   ]
  },
  {
   "cell_type": "code",
   "execution_count": 205,
   "id": "4df24e00",
   "metadata": {
    "colab": {
     "base_uri": "https://localhost:8080/",
     "height": 204
    },
    "executionInfo": {
     "elapsed": 701,
     "status": "ok",
     "timestamp": 1619378305284,
     "user": {
      "displayName": "David Henriques",
      "photoUrl": "",
      "userId": "14332050621134291491"
     },
     "user_tz": -60
    },
    "id": "cFks_T4tWQ0F",
    "outputId": "062aba31-0609-4b42-f334-d039f937a895",
    "scrolled": true
   },
   "outputs": [
    {
     "data": {
      "text/html": [
       "<div>\n",
       "<style scoped>\n",
       "    .dataframe tbody tr th:only-of-type {\n",
       "        vertical-align: middle;\n",
       "    }\n",
       "\n",
       "    .dataframe tbody tr th {\n",
       "        vertical-align: top;\n",
       "    }\n",
       "\n",
       "    .dataframe thead th {\n",
       "        text-align: right;\n",
       "    }\n",
       "</style>\n",
       "<table border=\"1\" class=\"dataframe\">\n",
       "  <thead>\n",
       "    <tr style=\"text-align: right;\">\n",
       "      <th></th>\n",
       "      <th>artist</th>\n",
       "      <th>song</th>\n",
       "    </tr>\n",
       "  </thead>\n",
       "  <tbody>\n",
       "    <tr>\n",
       "      <th>0</th>\n",
       "      <td>Sam Smith &amp; Kim Petras</td>\n",
       "      <td>Unholy</td>\n",
       "    </tr>\n",
       "    <tr>\n",
       "      <th>1</th>\n",
       "      <td>David Guetta &amp; Bebe Rexha</td>\n",
       "      <td>I'm Good (Blue)</td>\n",
       "    </tr>\n",
       "    <tr>\n",
       "      <th>2</th>\n",
       "      <td>Kane Brown &amp; Katelyn Brown</td>\n",
       "      <td>Thank God</td>\n",
       "    </tr>\n",
       "    <tr>\n",
       "      <th>3</th>\n",
       "      <td>Fleetwood Mac</td>\n",
       "      <td>Everywhere</td>\n",
       "    </tr>\n",
       "    <tr>\n",
       "      <th>4</th>\n",
       "      <td>HARDY &amp; Lainey Wilson</td>\n",
       "      <td>wait in the truck</td>\n",
       "    </tr>\n",
       "  </tbody>\n",
       "</table>\n",
       "</div>"
      ],
      "text/plain": [
       "                       artist               song\n",
       "0      Sam Smith & Kim Petras             Unholy\n",
       "1   David Guetta & Bebe Rexha    I'm Good (Blue)\n",
       "2  Kane Brown & Katelyn Brown          Thank God\n",
       "3               Fleetwood Mac         Everywhere\n",
       "4       HARDY & Lainey Wilson  wait in the truck"
      ]
     },
     "execution_count": 205,
     "metadata": {},
     "output_type": "execute_result"
    }
   ],
   "source": [
    "songs.head()"
   ]
  },
  {
   "cell_type": "code",
   "execution_count": 206,
   "id": "c6e90ac1",
   "metadata": {},
   "outputs": [
    {
     "data": {
      "text/plain": [
       "artist    object\n",
       "song      object\n",
       "dtype: object"
      ]
     },
     "execution_count": 206,
     "metadata": {},
     "output_type": "execute_result"
    }
   ],
   "source": [
    "songs.dtypes"
   ]
  },
  {
   "cell_type": "code",
   "execution_count": 207,
   "id": "edfa211a",
   "metadata": {},
   "outputs": [
    {
     "data": {
      "text/plain": [
       "100"
      ]
     },
     "execution_count": 207,
     "metadata": {},
     "output_type": "execute_result"
    }
   ],
   "source": [
    "len(songs)"
   ]
  },
  {
   "cell_type": "code",
   "execution_count": 208,
   "id": "c0f99189",
   "metadata": {
    "scrolled": true
   },
   "outputs": [
    {
     "name": "stdout",
     "output_type": "stream",
     "text": [
      "Late Night Talking\n"
     ]
    }
   ],
   "source": [
    "secure_random = random.SystemRandom()\n",
    "print(secure_random.choice(songs['song']))"
   ]
  },
  {
   "cell_type": "code",
   "execution_count": 209,
   "id": "27e30725",
   "metadata": {},
   "outputs": [],
   "source": [
    "# print(songs['song'].sample())"
   ]
  },
  {
   "cell_type": "code",
   "execution_count": 210,
   "id": "4b2cf593",
   "metadata": {},
   "outputs": [
    {
     "name": "stdout",
     "output_type": "stream",
     "text": [
      "Please enter your song name: Eagle (feat. KB)\n"
     ]
    }
   ],
   "source": [
    "favorite_song = input('Please enter your song name: ')\n"
   ]
  },
  {
   "cell_type": "code",
   "execution_count": 211,
   "id": "8fd9a531",
   "metadata": {
    "scrolled": false
   },
   "outputs": [
    {
     "name": "stdout",
     "output_type": "stream",
     "text": [
      "Eagle (feat. KB)\n"
     ]
    }
   ],
   "source": [
    "print(favorite_song)"
   ]
  },
  {
   "cell_type": "code",
   "execution_count": 212,
   "id": "afd5fb7f",
   "metadata": {
    "scrolled": true
   },
   "outputs": [
    {
     "name": "stdout",
     "output_type": "stream",
     "text": [
      "Our song recommendation is:  TRUCK BED\n"
     ]
    }
   ],
   "source": [
    "# if favorite_song in songs['song']:\n",
    "if len(songs[(songs['song'].isin([favorite_song]))])>0:\n",
    "    print(\"Our song recommendation is: \", secure_random.choice(songs['song'])) \n",
    "else:\n",
    "    print(\"We are sorry that we do not have a song recommendation for you now.\")"
   ]
  },
  {
   "cell_type": "code",
   "execution_count": 213,
   "id": "ca4b64c8",
   "metadata": {},
   "outputs": [],
   "source": [
    "songs_2=songs"
   ]
  },
  {
   "cell_type": "code",
   "execution_count": null,
   "id": "cedd9113",
   "metadata": {},
   "outputs": [],
   "source": []
  },
  {
   "cell_type": "markdown",
   "id": "95d337fa",
   "metadata": {},
   "source": [
    "## Top-100-Songs 2016"
   ]
  },
  {
   "cell_type": "code",
   "execution_count": 214,
   "id": "1c7a7f90",
   "metadata": {
    "id": "Lp3LA78aHb0g"
   },
   "outputs": [],
   "source": [
    "# 2. find url and store it in a variable\n",
    "# top 100 songs - 2015\n",
    "url = \"https://playback.fm/charts/top-100-songs/2016\""
   ]
  },
  {
   "cell_type": "code",
   "execution_count": 215,
   "id": "f2385473",
   "metadata": {
    "colab": {
     "base_uri": "https://localhost:8080/"
    },
    "executionInfo": {
     "elapsed": 1255,
     "status": "ok",
     "timestamp": 1619377720353,
     "user": {
      "displayName": "David Henriques",
      "photoUrl": "",
      "userId": "14332050621134291491"
     },
     "user_tz": -60
    },
    "id": "T-EV-NNgHccg",
    "outputId": "f9b4bfcb-72e8-4e99-eb61-564f44ff4445"
   },
   "outputs": [],
   "source": [
    "# 3. download html with a get request\n",
    "response = requests.get(url)\n",
    "# response.status_code # 200 status code means OK!"
   ]
  },
  {
   "cell_type": "code",
   "execution_count": 216,
   "id": "d3286055",
   "metadata": {},
   "outputs": [
    {
     "data": {
      "text/plain": [
       "200"
      ]
     },
     "execution_count": 216,
     "metadata": {},
     "output_type": "execute_result"
    }
   ],
   "source": [
    "response.status_code # 200 status code means OK!"
   ]
  },
  {
   "cell_type": "code",
   "execution_count": 217,
   "id": "577b7f69",
   "metadata": {},
   "outputs": [],
   "source": [
    "# response.content"
   ]
  },
  {
   "cell_type": "code",
   "execution_count": 218,
   "id": "fa8fa10c",
   "metadata": {
    "id": "3Q5yRuGIHhVa"
   },
   "outputs": [],
   "source": [
    "# 4.1. parse html (create the 'soup')\n",
    "soup = BeautifulSoup(response.content, \"html.parser\")"
   ]
  },
  {
   "cell_type": "code",
   "execution_count": 219,
   "id": "0f1bb77c",
   "metadata": {
    "colab": {
     "base_uri": "https://localhost:8080/"
    },
    "executionInfo": {
     "elapsed": 2844,
     "status": "ok",
     "timestamp": 1619377727598,
     "user": {
      "displayName": "David Henriques",
      "photoUrl": "",
      "userId": "14332050621134291491"
     },
     "user_tz": -60
    },
    "id": "GZnNOYEuHlsa",
    "outputId": "82e15944-e955-4e14-efcd-f725efaf6297"
   },
   "outputs": [],
   "source": [
    "# 4.2. check that the html code looks like it should\n",
    "# soup"
   ]
  },
  {
   "cell_type": "code",
   "execution_count": 220,
   "id": "5e838ca0",
   "metadata": {
    "id": "oh9yO80_IDRo",
    "scrolled": true
   },
   "outputs": [],
   "source": [
    "# 5. retrieve/extract the desired info (here, you'll paste the \"Selector\" you copied before to get the element that belongs to the top movie)\n",
    "# soup.select(\"td:nth-child(2)\")\n",
    "\n"
   ]
  },
  {
   "cell_type": "code",
   "execution_count": 221,
   "id": "6743f9f6",
   "metadata": {},
   "outputs": [],
   "source": [
    "# print(soup.prettify())"
   ]
  },
  {
   "cell_type": "code",
   "execution_count": 222,
   "id": "b1781a9f",
   "metadata": {
    "colab": {
     "base_uri": "https://localhost:8080/"
    },
    "executionInfo": {
     "elapsed": 715,
     "status": "ok",
     "timestamp": 1619377815949,
     "user": {
      "displayName": "David Henriques",
      "photoUrl": "",
      "userId": "14332050621134291491"
     },
     "user_tz": -60
    },
    "id": "AlrhnybSIFmh",
    "outputId": "f4bb4b57-4783-448d-ca54-62fbe045b9fd"
   },
   "outputs": [
    {
     "data": {
      "text/plain": [
       "<a class=\"artist\" href=\"/artist/rihanna-top-songs\" itemprop=\"byArtist\">\n",
       "Rihanna\n",
       "</a>"
      ]
     },
     "execution_count": 222,
     "metadata": {},
     "output_type": "execute_result"
    }
   ],
   "source": [
    "soup.select(\"td:nth-child(2) > a\")[0]"
   ]
  },
  {
   "cell_type": "code",
   "execution_count": 223,
   "id": "43e8e296",
   "metadata": {},
   "outputs": [
    {
     "data": {
      "text/plain": [
       "'\\nNelly\\n'"
      ]
     },
     "execution_count": 223,
     "metadata": {},
     "output_type": "execute_result"
    }
   ],
   "source": [
    "soup.select(\"td:nth-child(2) > a\")[99].get_text() # artist"
   ]
  },
  {
   "cell_type": "code",
   "execution_count": 224,
   "id": "29db30fd",
   "metadata": {
    "scrolled": true
   },
   "outputs": [
    {
     "data": {
      "text/plain": [
       "<td>\n",
       "<span class=\"mobile-only song\">\n",
       "<a href=\"/charts/top-100-songs/video/2016/Rihanna-Work\" itemprop=\"name\">\n",
       "Work\n",
       "</a>\n",
       "</span>\n",
       "<a class=\"artist\" href=\"/artist/rihanna-top-songs\" itemprop=\"byArtist\">\n",
       "Rihanna\n",
       "</a>\n",
       "<meta content=\"/artist/rihanna-top-songs\" itemprop=\"url\">\n",
       "</meta></td>"
      ]
     },
     "execution_count": 224,
     "metadata": {},
     "output_type": "execute_result"
    }
   ],
   "source": [
    "soup.select(\"td:nth-child(2)\")[0]"
   ]
  },
  {
   "cell_type": "code",
   "execution_count": 225,
   "id": "4b782366",
   "metadata": {},
   "outputs": [
    {
     "data": {
      "text/plain": [
       "'Work'"
      ]
     },
     "execution_count": 225,
     "metadata": {},
     "output_type": "execute_result"
    }
   ],
   "source": [
    "soup.select(\"td.mobile-hide > a > span.song\")[0].get_text() #song"
   ]
  },
  {
   "cell_type": "code",
   "execution_count": 226,
   "id": "d332d3d7",
   "metadata": {
    "colab": {
     "base_uri": "https://localhost:8080/"
    },
    "executionInfo": {
     "elapsed": 9313,
     "status": "ok",
     "timestamp": 1619378299696,
     "user": {
      "displayName": "David Henriques",
      "photoUrl": "",
      "userId": "14332050621134291491"
     },
     "user_tz": -60
    },
    "id": "f3iTuAqCWOm0",
    "outputId": "2e65f639-a64d-4919-d307-ff9488ff752e"
   },
   "outputs": [
    {
     "name": "stdout",
     "output_type": "stream",
     "text": [
      "100\n",
      "['\\nRihanna\\n', '\\nZAYN\\n', '\\nJustin Bieber\\n', '\\nJustin Bieber\\n', '\\nG-Eazy\\n', '\\nTwenty One Pilots\\n', '\\nAlan Walker\\n', '\\nLukas Graham\\n', '\\nMike Posner\\n', '\\nThe Chainsmokers\\n', '\\nShawn Mendes\\n', '\\nMajor Lazer\\n', '\\nJonas Blue\\n', '\\nSelena Gomez\\n', '\\nAdele\\n', '\\nZara Larsson\\n', '\\nFlo Rida\\n', '\\nColdplay\\n', '\\nKygo\\n', '\\nDavid Guetta\\n', '\\nRobin Schulz\\n', '\\nDrake\\n', '\\nThe Weeknd\\n', '\\nMajor Lazer\\n', '\\nAdele\\n', '\\n Justin Bieber\\n', '\\nDNCE\\n', '\\nCharlie Puth\\n', '\\nZara Larsson\\n', '\\nShawn Mendes\\n', '\\nColdplay\\n', '\\nThe Weeknd\\n', '\\nSnakehips\\n', '\\nCalvin Harris\\n', '\\nRudimental\\n', '\\nEllie Goulding\\n', '\\nJack Ü\\n', '\\nThe Weeknd\\n', '\\nDaya\\n', '\\nDrake\\n', '\\nSia\\n', '\\nSelena Gomez\\n', '\\nTroye Sivan\\n', '\\nEd Sheeran\\n', '\\nDrake\\n', '\\nBryson Tiller\\n ', '\\nAlessia Cara\\n', '\\nEd Sheeran\\n', '\\nR. City\\n', '\\nDJ Snake\\n', '\\nOne Direction\\n', '\\nNicky Jam\\n', '\\nDiplo\\n', '\\nMark Ronson\\n', '\\nFetty Wap\\n', '\\nPost Malone\\n', '\\nJason Derulo\\n', '\\nHailee Steinfeld\\n', '\\nOne Direction\\n', '\\nOMI\\n', '\\nMatoma\\n', '\\nThe Chainsmokers\\n', '\\nJason Derulo\\n', '\\nElle King\\n', '\\nDawin\\n', '\\nSigala\\n', '\\nFuture\\n', '\\nFetty Wap\\n', '\\nMaroon 5\\n', '\\nWiz Khalifa\\n', '\\nJ. Cole\\n', '\\nX Ambassadors\\n', '\\nSia\\n', '\\nMeghan Trainor\\n', '\\nSigala\\n', '\\nKygo\\n', '\\nTravi$ Scott\\n', '\\nKygo\\n', '\\nSelena Gomez\\n', '\\nFelix Jaehn\\n', '\\nNicky Jam\\n', '\\nMaluma\\n', '\\nOne Direction\\n', '\\nJustin Bieber\\n', '\\nBryson Tiller\\n', '\\nLost Frequencies\\n', '\\nKiiara\\n', '\\nCharlie Puth\\n', '\\nEllie Goulding\\n', '\\nJustin Bieber\\n', '\\nEllie Goulding\\n', '\\nAriana Grande\\n', '\\nAvicii\\n', '\\nJames Bay\\n', '\\nCharlie Puth\\n', '\\nJ Balvin\\n', '\\nHozier\\n', '\\nJoey Montana\\n', '\\nYo Gotti\\n', '\\nNelly\\n']\n",
      "['Work', 'PILLOWTALK', 'Love Yourself', 'Sorry', 'Me, Myself & I', 'Stressed Out', 'Faded', '7 Years', 'I Took A Pill In Ibiza - Seeb Remix', 'Roses', 'Stitches', 'Light It Up (feat. Nyla & Fuse ODG) - Remix', 'Fast Car - Radio Edit', 'Hands To Myself', 'Hello', 'Lush Life', 'My House', 'Adventure Of A Lifetime', 'Stay', 'Bang my Head (feat. Sia & Fetty Wap)', 'Sugar (feat. Francesco Yates)', 'Hotline Bling', \"Can't Feel My Face\", 'Lean On (feat. MØ & DJ Snake)', 'When We Were Young', 'What Do You Mean?', 'Cake By The Ocean', 'One Call Away', 'Never Forget You', 'I Know What You Did Last Summer', 'Hymn For The Weekend', 'In The Night', 'All My Friends', 'How Deep Is Your Love', 'Lay It All On Me (feat. Ed Sheeran)', 'On My Mind', 'Where Are Ü Now (with Justin Bieber)', 'The Hills', 'Hide Away', 'Summer Sixteen', 'Cheap Thrills', 'Same Old Love', 'YOUTH', 'Photograph', 'Jumpman', \"Don't\", 'Here', 'Thinking Out Loud', 'Locked Away', 'Middle', 'Perfect', 'Hasta el Amanecer', 'Be Right There', 'Uptown Funk', 'Trap Queen', 'White Iverson', 'Get Ugly', 'Love Myself', 'History', 'Cheerleader - Felix Jaehn Remix Radio Edit', 'Running Out', \"Don't Let Me Down\", 'Want To Want Me', \"Ex's & Oh's\", 'Dessert', \"Sweet Lovin' - Radio Edit\", 'Low Life', '679 (feat. Remy Boyz)', 'Sugar', 'See You Again (feat. Charlie Puth)', 'No Role Modelz', 'Renegades', 'Chandelier', \"Like I'm Gonna Lose You\", 'Easy Love - Original Mix', 'Stole the Show', 'Antidote', 'Firestone', 'Good For You', \"Ain't Nobody (Loves Me Better)\", 'El Perdón', 'Borro Cassette', 'Drag Me Down', 'Sorry - Latino Remix', 'Exchange', 'Reality - Radio Edit', 'Gold', 'Marvin Gaye (feat. Meghan Trainor)', 'Love Me Like You Do', \"I'll Show You\", 'Something In The Way You Move', 'Focus', 'Waiting For Love', 'Let It Go', \"We Don't Talk Anymore (feat. Selena Gomez)\", 'Ginza', 'Take Me To Church', 'Picky', 'Down In the DM', 'The Fix']\n"
     ]
    }
   ],
   "source": [
    "#initialize empty lists\n",
    "artist = []\n",
    "song = []\n",
    "\n",
    "# define the number of iterations of our for loop\n",
    "# by checking how many elements are in the retrieved result set\n",
    "# (this is equivalent but more robust than just explicitly defining 250 iterations)\n",
    "num_iter = len(soup.select(\"td:nth-child(2) > a\"))\n",
    "\n",
    "tClist = soup.select(\"td:nth-child(2) > a\")\n",
    "spanlist = soup.select(\"td.mobile-hide > a > span.song\")\n",
    "# iterate through the result set and retrive all the data\n",
    "for i in range(num_iter):\n",
    "    artist.append(tClist[i].get_text())\n",
    "    song.append(spanlist[i].get_text())\n",
    "\n",
    "print(num_iter)\n",
    "print(artist)\n",
    "print(song)\n",
    "\n"
   ]
  },
  {
   "cell_type": "code",
   "execution_count": 227,
   "id": "a3882819",
   "metadata": {},
   "outputs": [],
   "source": [
    "# each list becomes a column\n",
    "songs = pd.DataFrame({\"artist\":artist,\n",
    "                       \"song\":song, \n",
    "                      })"
   ]
  },
  {
   "cell_type": "code",
   "execution_count": 228,
   "id": "555edb50",
   "metadata": {
    "scrolled": true
   },
   "outputs": [
    {
     "data": {
      "text/html": [
       "<div>\n",
       "<style scoped>\n",
       "    .dataframe tbody tr th:only-of-type {\n",
       "        vertical-align: middle;\n",
       "    }\n",
       "\n",
       "    .dataframe tbody tr th {\n",
       "        vertical-align: top;\n",
       "    }\n",
       "\n",
       "    .dataframe thead th {\n",
       "        text-align: right;\n",
       "    }\n",
       "</style>\n",
       "<table border=\"1\" class=\"dataframe\">\n",
       "  <thead>\n",
       "    <tr style=\"text-align: right;\">\n",
       "      <th></th>\n",
       "      <th>artist</th>\n",
       "      <th>song</th>\n",
       "    </tr>\n",
       "  </thead>\n",
       "  <tbody>\n",
       "    <tr>\n",
       "      <th>0</th>\n",
       "      <td>\\nRihanna\\n</td>\n",
       "      <td>Work</td>\n",
       "    </tr>\n",
       "    <tr>\n",
       "      <th>1</th>\n",
       "      <td>\\nZAYN\\n</td>\n",
       "      <td>PILLOWTALK</td>\n",
       "    </tr>\n",
       "    <tr>\n",
       "      <th>2</th>\n",
       "      <td>\\nJustin Bieber\\n</td>\n",
       "      <td>Love Yourself</td>\n",
       "    </tr>\n",
       "    <tr>\n",
       "      <th>3</th>\n",
       "      <td>\\nJustin Bieber\\n</td>\n",
       "      <td>Sorry</td>\n",
       "    </tr>\n",
       "    <tr>\n",
       "      <th>4</th>\n",
       "      <td>\\nG-Eazy\\n</td>\n",
       "      <td>Me, Myself &amp; I</td>\n",
       "    </tr>\n",
       "    <tr>\n",
       "      <th>5</th>\n",
       "      <td>\\nTwenty One Pilots\\n</td>\n",
       "      <td>Stressed Out</td>\n",
       "    </tr>\n",
       "    <tr>\n",
       "      <th>6</th>\n",
       "      <td>\\nAlan Walker\\n</td>\n",
       "      <td>Faded</td>\n",
       "    </tr>\n",
       "    <tr>\n",
       "      <th>7</th>\n",
       "      <td>\\nLukas Graham\\n</td>\n",
       "      <td>7 Years</td>\n",
       "    </tr>\n",
       "    <tr>\n",
       "      <th>8</th>\n",
       "      <td>\\nMike Posner\\n</td>\n",
       "      <td>I Took A Pill In Ibiza - Seeb Remix</td>\n",
       "    </tr>\n",
       "    <tr>\n",
       "      <th>9</th>\n",
       "      <td>\\nThe Chainsmokers\\n</td>\n",
       "      <td>Roses</td>\n",
       "    </tr>\n",
       "    <tr>\n",
       "      <th>10</th>\n",
       "      <td>\\nShawn Mendes\\n</td>\n",
       "      <td>Stitches</td>\n",
       "    </tr>\n",
       "    <tr>\n",
       "      <th>11</th>\n",
       "      <td>\\nMajor Lazer\\n</td>\n",
       "      <td>Light It Up (feat. Nyla &amp; Fuse ODG) - Remix</td>\n",
       "    </tr>\n",
       "    <tr>\n",
       "      <th>12</th>\n",
       "      <td>\\nJonas Blue\\n</td>\n",
       "      <td>Fast Car - Radio Edit</td>\n",
       "    </tr>\n",
       "    <tr>\n",
       "      <th>13</th>\n",
       "      <td>\\nSelena Gomez\\n</td>\n",
       "      <td>Hands To Myself</td>\n",
       "    </tr>\n",
       "    <tr>\n",
       "      <th>14</th>\n",
       "      <td>\\nAdele\\n</td>\n",
       "      <td>Hello</td>\n",
       "    </tr>\n",
       "    <tr>\n",
       "      <th>15</th>\n",
       "      <td>\\nZara Larsson\\n</td>\n",
       "      <td>Lush Life</td>\n",
       "    </tr>\n",
       "    <tr>\n",
       "      <th>16</th>\n",
       "      <td>\\nFlo Rida\\n</td>\n",
       "      <td>My House</td>\n",
       "    </tr>\n",
       "    <tr>\n",
       "      <th>17</th>\n",
       "      <td>\\nColdplay\\n</td>\n",
       "      <td>Adventure Of A Lifetime</td>\n",
       "    </tr>\n",
       "    <tr>\n",
       "      <th>18</th>\n",
       "      <td>\\nKygo\\n</td>\n",
       "      <td>Stay</td>\n",
       "    </tr>\n",
       "    <tr>\n",
       "      <th>19</th>\n",
       "      <td>\\nDavid Guetta\\n</td>\n",
       "      <td>Bang my Head (feat. Sia &amp; Fetty Wap)</td>\n",
       "    </tr>\n",
       "    <tr>\n",
       "      <th>20</th>\n",
       "      <td>\\nRobin Schulz\\n</td>\n",
       "      <td>Sugar (feat. Francesco Yates)</td>\n",
       "    </tr>\n",
       "    <tr>\n",
       "      <th>21</th>\n",
       "      <td>\\nDrake\\n</td>\n",
       "      <td>Hotline Bling</td>\n",
       "    </tr>\n",
       "    <tr>\n",
       "      <th>22</th>\n",
       "      <td>\\nThe Weeknd\\n</td>\n",
       "      <td>Can't Feel My Face</td>\n",
       "    </tr>\n",
       "    <tr>\n",
       "      <th>23</th>\n",
       "      <td>\\nMajor Lazer\\n</td>\n",
       "      <td>Lean On (feat. MØ &amp; DJ Snake)</td>\n",
       "    </tr>\n",
       "    <tr>\n",
       "      <th>24</th>\n",
       "      <td>\\nAdele\\n</td>\n",
       "      <td>When We Were Young</td>\n",
       "    </tr>\n",
       "    <tr>\n",
       "      <th>25</th>\n",
       "      <td>\\n Justin Bieber\\n</td>\n",
       "      <td>What Do You Mean?</td>\n",
       "    </tr>\n",
       "    <tr>\n",
       "      <th>26</th>\n",
       "      <td>\\nDNCE\\n</td>\n",
       "      <td>Cake By The Ocean</td>\n",
       "    </tr>\n",
       "    <tr>\n",
       "      <th>27</th>\n",
       "      <td>\\nCharlie Puth\\n</td>\n",
       "      <td>One Call Away</td>\n",
       "    </tr>\n",
       "    <tr>\n",
       "      <th>28</th>\n",
       "      <td>\\nZara Larsson\\n</td>\n",
       "      <td>Never Forget You</td>\n",
       "    </tr>\n",
       "    <tr>\n",
       "      <th>29</th>\n",
       "      <td>\\nShawn Mendes\\n</td>\n",
       "      <td>I Know What You Did Last Summer</td>\n",
       "    </tr>\n",
       "    <tr>\n",
       "      <th>30</th>\n",
       "      <td>\\nColdplay\\n</td>\n",
       "      <td>Hymn For The Weekend</td>\n",
       "    </tr>\n",
       "    <tr>\n",
       "      <th>31</th>\n",
       "      <td>\\nThe Weeknd\\n</td>\n",
       "      <td>In The Night</td>\n",
       "    </tr>\n",
       "    <tr>\n",
       "      <th>32</th>\n",
       "      <td>\\nSnakehips\\n</td>\n",
       "      <td>All My Friends</td>\n",
       "    </tr>\n",
       "    <tr>\n",
       "      <th>33</th>\n",
       "      <td>\\nCalvin Harris\\n</td>\n",
       "      <td>How Deep Is Your Love</td>\n",
       "    </tr>\n",
       "    <tr>\n",
       "      <th>34</th>\n",
       "      <td>\\nRudimental\\n</td>\n",
       "      <td>Lay It All On Me (feat. Ed Sheeran)</td>\n",
       "    </tr>\n",
       "    <tr>\n",
       "      <th>35</th>\n",
       "      <td>\\nEllie Goulding\\n</td>\n",
       "      <td>On My Mind</td>\n",
       "    </tr>\n",
       "    <tr>\n",
       "      <th>36</th>\n",
       "      <td>\\nJack Ü\\n</td>\n",
       "      <td>Where Are Ü Now (with Justin Bieber)</td>\n",
       "    </tr>\n",
       "    <tr>\n",
       "      <th>37</th>\n",
       "      <td>\\nThe Weeknd\\n</td>\n",
       "      <td>The Hills</td>\n",
       "    </tr>\n",
       "    <tr>\n",
       "      <th>38</th>\n",
       "      <td>\\nDaya\\n</td>\n",
       "      <td>Hide Away</td>\n",
       "    </tr>\n",
       "    <tr>\n",
       "      <th>39</th>\n",
       "      <td>\\nDrake\\n</td>\n",
       "      <td>Summer Sixteen</td>\n",
       "    </tr>\n",
       "    <tr>\n",
       "      <th>40</th>\n",
       "      <td>\\nSia\\n</td>\n",
       "      <td>Cheap Thrills</td>\n",
       "    </tr>\n",
       "    <tr>\n",
       "      <th>41</th>\n",
       "      <td>\\nSelena Gomez\\n</td>\n",
       "      <td>Same Old Love</td>\n",
       "    </tr>\n",
       "    <tr>\n",
       "      <th>42</th>\n",
       "      <td>\\nTroye Sivan\\n</td>\n",
       "      <td>YOUTH</td>\n",
       "    </tr>\n",
       "    <tr>\n",
       "      <th>43</th>\n",
       "      <td>\\nEd Sheeran\\n</td>\n",
       "      <td>Photograph</td>\n",
       "    </tr>\n",
       "    <tr>\n",
       "      <th>44</th>\n",
       "      <td>\\nDrake\\n</td>\n",
       "      <td>Jumpman</td>\n",
       "    </tr>\n",
       "    <tr>\n",
       "      <th>45</th>\n",
       "      <td>\\nBryson Tiller\\n</td>\n",
       "      <td>Don't</td>\n",
       "    </tr>\n",
       "    <tr>\n",
       "      <th>46</th>\n",
       "      <td>\\nAlessia Cara\\n</td>\n",
       "      <td>Here</td>\n",
       "    </tr>\n",
       "    <tr>\n",
       "      <th>47</th>\n",
       "      <td>\\nEd Sheeran\\n</td>\n",
       "      <td>Thinking Out Loud</td>\n",
       "    </tr>\n",
       "    <tr>\n",
       "      <th>48</th>\n",
       "      <td>\\nR. City\\n</td>\n",
       "      <td>Locked Away</td>\n",
       "    </tr>\n",
       "    <tr>\n",
       "      <th>49</th>\n",
       "      <td>\\nDJ Snake\\n</td>\n",
       "      <td>Middle</td>\n",
       "    </tr>\n",
       "    <tr>\n",
       "      <th>50</th>\n",
       "      <td>\\nOne Direction\\n</td>\n",
       "      <td>Perfect</td>\n",
       "    </tr>\n",
       "    <tr>\n",
       "      <th>51</th>\n",
       "      <td>\\nNicky Jam\\n</td>\n",
       "      <td>Hasta el Amanecer</td>\n",
       "    </tr>\n",
       "    <tr>\n",
       "      <th>52</th>\n",
       "      <td>\\nDiplo\\n</td>\n",
       "      <td>Be Right There</td>\n",
       "    </tr>\n",
       "    <tr>\n",
       "      <th>53</th>\n",
       "      <td>\\nMark Ronson\\n</td>\n",
       "      <td>Uptown Funk</td>\n",
       "    </tr>\n",
       "    <tr>\n",
       "      <th>54</th>\n",
       "      <td>\\nFetty Wap\\n</td>\n",
       "      <td>Trap Queen</td>\n",
       "    </tr>\n",
       "    <tr>\n",
       "      <th>55</th>\n",
       "      <td>\\nPost Malone\\n</td>\n",
       "      <td>White Iverson</td>\n",
       "    </tr>\n",
       "    <tr>\n",
       "      <th>56</th>\n",
       "      <td>\\nJason Derulo\\n</td>\n",
       "      <td>Get Ugly</td>\n",
       "    </tr>\n",
       "    <tr>\n",
       "      <th>57</th>\n",
       "      <td>\\nHailee Steinfeld\\n</td>\n",
       "      <td>Love Myself</td>\n",
       "    </tr>\n",
       "    <tr>\n",
       "      <th>58</th>\n",
       "      <td>\\nOne Direction\\n</td>\n",
       "      <td>History</td>\n",
       "    </tr>\n",
       "    <tr>\n",
       "      <th>59</th>\n",
       "      <td>\\nOMI\\n</td>\n",
       "      <td>Cheerleader - Felix Jaehn Remix Radio Edit</td>\n",
       "    </tr>\n",
       "    <tr>\n",
       "      <th>60</th>\n",
       "      <td>\\nMatoma\\n</td>\n",
       "      <td>Running Out</td>\n",
       "    </tr>\n",
       "    <tr>\n",
       "      <th>61</th>\n",
       "      <td>\\nThe Chainsmokers\\n</td>\n",
       "      <td>Don't Let Me Down</td>\n",
       "    </tr>\n",
       "    <tr>\n",
       "      <th>62</th>\n",
       "      <td>\\nJason Derulo\\n</td>\n",
       "      <td>Want To Want Me</td>\n",
       "    </tr>\n",
       "    <tr>\n",
       "      <th>63</th>\n",
       "      <td>\\nElle King\\n</td>\n",
       "      <td>Ex's &amp; Oh's</td>\n",
       "    </tr>\n",
       "    <tr>\n",
       "      <th>64</th>\n",
       "      <td>\\nDawin\\n</td>\n",
       "      <td>Dessert</td>\n",
       "    </tr>\n",
       "    <tr>\n",
       "      <th>65</th>\n",
       "      <td>\\nSigala\\n</td>\n",
       "      <td>Sweet Lovin' - Radio Edit</td>\n",
       "    </tr>\n",
       "    <tr>\n",
       "      <th>66</th>\n",
       "      <td>\\nFuture\\n</td>\n",
       "      <td>Low Life</td>\n",
       "    </tr>\n",
       "    <tr>\n",
       "      <th>67</th>\n",
       "      <td>\\nFetty Wap\\n</td>\n",
       "      <td>679 (feat. Remy Boyz)</td>\n",
       "    </tr>\n",
       "    <tr>\n",
       "      <th>68</th>\n",
       "      <td>\\nMaroon 5\\n</td>\n",
       "      <td>Sugar</td>\n",
       "    </tr>\n",
       "    <tr>\n",
       "      <th>69</th>\n",
       "      <td>\\nWiz Khalifa\\n</td>\n",
       "      <td>See You Again (feat. Charlie Puth)</td>\n",
       "    </tr>\n",
       "    <tr>\n",
       "      <th>70</th>\n",
       "      <td>\\nJ. Cole\\n</td>\n",
       "      <td>No Role Modelz</td>\n",
       "    </tr>\n",
       "    <tr>\n",
       "      <th>71</th>\n",
       "      <td>\\nX Ambassadors\\n</td>\n",
       "      <td>Renegades</td>\n",
       "    </tr>\n",
       "    <tr>\n",
       "      <th>72</th>\n",
       "      <td>\\nSia\\n</td>\n",
       "      <td>Chandelier</td>\n",
       "    </tr>\n",
       "    <tr>\n",
       "      <th>73</th>\n",
       "      <td>\\nMeghan Trainor\\n</td>\n",
       "      <td>Like I'm Gonna Lose You</td>\n",
       "    </tr>\n",
       "    <tr>\n",
       "      <th>74</th>\n",
       "      <td>\\nSigala\\n</td>\n",
       "      <td>Easy Love - Original Mix</td>\n",
       "    </tr>\n",
       "    <tr>\n",
       "      <th>75</th>\n",
       "      <td>\\nKygo\\n</td>\n",
       "      <td>Stole the Show</td>\n",
       "    </tr>\n",
       "    <tr>\n",
       "      <th>76</th>\n",
       "      <td>\\nTravi$ Scott\\n</td>\n",
       "      <td>Antidote</td>\n",
       "    </tr>\n",
       "    <tr>\n",
       "      <th>77</th>\n",
       "      <td>\\nKygo\\n</td>\n",
       "      <td>Firestone</td>\n",
       "    </tr>\n",
       "    <tr>\n",
       "      <th>78</th>\n",
       "      <td>\\nSelena Gomez\\n</td>\n",
       "      <td>Good For You</td>\n",
       "    </tr>\n",
       "    <tr>\n",
       "      <th>79</th>\n",
       "      <td>\\nFelix Jaehn\\n</td>\n",
       "      <td>Ain't Nobody (Loves Me Better)</td>\n",
       "    </tr>\n",
       "    <tr>\n",
       "      <th>80</th>\n",
       "      <td>\\nNicky Jam\\n</td>\n",
       "      <td>El Perdón</td>\n",
       "    </tr>\n",
       "    <tr>\n",
       "      <th>81</th>\n",
       "      <td>\\nMaluma\\n</td>\n",
       "      <td>Borro Cassette</td>\n",
       "    </tr>\n",
       "    <tr>\n",
       "      <th>82</th>\n",
       "      <td>\\nOne Direction\\n</td>\n",
       "      <td>Drag Me Down</td>\n",
       "    </tr>\n",
       "    <tr>\n",
       "      <th>83</th>\n",
       "      <td>\\nJustin Bieber\\n</td>\n",
       "      <td>Sorry - Latino Remix</td>\n",
       "    </tr>\n",
       "    <tr>\n",
       "      <th>84</th>\n",
       "      <td>\\nBryson Tiller\\n</td>\n",
       "      <td>Exchange</td>\n",
       "    </tr>\n",
       "    <tr>\n",
       "      <th>85</th>\n",
       "      <td>\\nLost Frequencies\\n</td>\n",
       "      <td>Reality - Radio Edit</td>\n",
       "    </tr>\n",
       "    <tr>\n",
       "      <th>86</th>\n",
       "      <td>\\nKiiara\\n</td>\n",
       "      <td>Gold</td>\n",
       "    </tr>\n",
       "    <tr>\n",
       "      <th>87</th>\n",
       "      <td>\\nCharlie Puth\\n</td>\n",
       "      <td>Marvin Gaye (feat. Meghan Trainor)</td>\n",
       "    </tr>\n",
       "    <tr>\n",
       "      <th>88</th>\n",
       "      <td>\\nEllie Goulding\\n</td>\n",
       "      <td>Love Me Like You Do</td>\n",
       "    </tr>\n",
       "    <tr>\n",
       "      <th>89</th>\n",
       "      <td>\\nJustin Bieber\\n</td>\n",
       "      <td>I'll Show You</td>\n",
       "    </tr>\n",
       "    <tr>\n",
       "      <th>90</th>\n",
       "      <td>\\nEllie Goulding\\n</td>\n",
       "      <td>Something In The Way You Move</td>\n",
       "    </tr>\n",
       "    <tr>\n",
       "      <th>91</th>\n",
       "      <td>\\nAriana Grande\\n</td>\n",
       "      <td>Focus</td>\n",
       "    </tr>\n",
       "    <tr>\n",
       "      <th>92</th>\n",
       "      <td>\\nAvicii\\n</td>\n",
       "      <td>Waiting For Love</td>\n",
       "    </tr>\n",
       "    <tr>\n",
       "      <th>93</th>\n",
       "      <td>\\nJames Bay\\n</td>\n",
       "      <td>Let It Go</td>\n",
       "    </tr>\n",
       "    <tr>\n",
       "      <th>94</th>\n",
       "      <td>\\nCharlie Puth\\n</td>\n",
       "      <td>We Don't Talk Anymore (feat. Selena Gomez)</td>\n",
       "    </tr>\n",
       "    <tr>\n",
       "      <th>95</th>\n",
       "      <td>\\nJ Balvin\\n</td>\n",
       "      <td>Ginza</td>\n",
       "    </tr>\n",
       "    <tr>\n",
       "      <th>96</th>\n",
       "      <td>\\nHozier\\n</td>\n",
       "      <td>Take Me To Church</td>\n",
       "    </tr>\n",
       "    <tr>\n",
       "      <th>97</th>\n",
       "      <td>\\nJoey Montana\\n</td>\n",
       "      <td>Picky</td>\n",
       "    </tr>\n",
       "    <tr>\n",
       "      <th>98</th>\n",
       "      <td>\\nYo Gotti\\n</td>\n",
       "      <td>Down In the DM</td>\n",
       "    </tr>\n",
       "    <tr>\n",
       "      <th>99</th>\n",
       "      <td>\\nNelly\\n</td>\n",
       "      <td>The Fix</td>\n",
       "    </tr>\n",
       "  </tbody>\n",
       "</table>\n",
       "</div>"
      ],
      "text/plain": [
       "                   artist                                         song\n",
       "0             \\nRihanna\\n                                         Work\n",
       "1                \\nZAYN\\n                                   PILLOWTALK\n",
       "2       \\nJustin Bieber\\n                                Love Yourself\n",
       "3       \\nJustin Bieber\\n                                        Sorry\n",
       "4              \\nG-Eazy\\n                               Me, Myself & I\n",
       "5   \\nTwenty One Pilots\\n                                 Stressed Out\n",
       "6         \\nAlan Walker\\n                                        Faded\n",
       "7        \\nLukas Graham\\n                                      7 Years\n",
       "8         \\nMike Posner\\n          I Took A Pill In Ibiza - Seeb Remix\n",
       "9    \\nThe Chainsmokers\\n                                        Roses\n",
       "10       \\nShawn Mendes\\n                                     Stitches\n",
       "11        \\nMajor Lazer\\n  Light It Up (feat. Nyla & Fuse ODG) - Remix\n",
       "12         \\nJonas Blue\\n                        Fast Car - Radio Edit\n",
       "13       \\nSelena Gomez\\n                              Hands To Myself\n",
       "14              \\nAdele\\n                                        Hello\n",
       "15       \\nZara Larsson\\n                                    Lush Life\n",
       "16           \\nFlo Rida\\n                                     My House\n",
       "17           \\nColdplay\\n                      Adventure Of A Lifetime\n",
       "18               \\nKygo\\n                                         Stay\n",
       "19       \\nDavid Guetta\\n         Bang my Head (feat. Sia & Fetty Wap)\n",
       "20       \\nRobin Schulz\\n                Sugar (feat. Francesco Yates)\n",
       "21              \\nDrake\\n                                Hotline Bling\n",
       "22         \\nThe Weeknd\\n                           Can't Feel My Face\n",
       "23        \\nMajor Lazer\\n                Lean On (feat. MØ & DJ Snake)\n",
       "24              \\nAdele\\n                           When We Were Young\n",
       "25     \\n Justin Bieber\\n                            What Do You Mean?\n",
       "26               \\nDNCE\\n                            Cake By The Ocean\n",
       "27       \\nCharlie Puth\\n                                One Call Away\n",
       "28       \\nZara Larsson\\n                             Never Forget You\n",
       "29       \\nShawn Mendes\\n              I Know What You Did Last Summer\n",
       "30           \\nColdplay\\n                         Hymn For The Weekend\n",
       "31         \\nThe Weeknd\\n                                 In The Night\n",
       "32          \\nSnakehips\\n                               All My Friends\n",
       "33      \\nCalvin Harris\\n                        How Deep Is Your Love\n",
       "34         \\nRudimental\\n          Lay It All On Me (feat. Ed Sheeran)\n",
       "35     \\nEllie Goulding\\n                                   On My Mind\n",
       "36             \\nJack Ü\\n         Where Are Ü Now (with Justin Bieber)\n",
       "37         \\nThe Weeknd\\n                                    The Hills\n",
       "38               \\nDaya\\n                                    Hide Away\n",
       "39              \\nDrake\\n                               Summer Sixteen\n",
       "40                \\nSia\\n                                Cheap Thrills\n",
       "41       \\nSelena Gomez\\n                                Same Old Love\n",
       "42        \\nTroye Sivan\\n                                        YOUTH\n",
       "43         \\nEd Sheeran\\n                                   Photograph\n",
       "44              \\nDrake\\n                                      Jumpman\n",
       "45     \\nBryson Tiller\\n                                         Don't\n",
       "46       \\nAlessia Cara\\n                                         Here\n",
       "47         \\nEd Sheeran\\n                            Thinking Out Loud\n",
       "48            \\nR. City\\n                                  Locked Away\n",
       "49           \\nDJ Snake\\n                                       Middle\n",
       "50      \\nOne Direction\\n                                      Perfect\n",
       "51          \\nNicky Jam\\n                            Hasta el Amanecer\n",
       "52              \\nDiplo\\n                               Be Right There\n",
       "53        \\nMark Ronson\\n                                  Uptown Funk\n",
       "54          \\nFetty Wap\\n                                   Trap Queen\n",
       "55        \\nPost Malone\\n                                White Iverson\n",
       "56       \\nJason Derulo\\n                                     Get Ugly\n",
       "57   \\nHailee Steinfeld\\n                                  Love Myself\n",
       "58      \\nOne Direction\\n                                      History\n",
       "59                \\nOMI\\n   Cheerleader - Felix Jaehn Remix Radio Edit\n",
       "60             \\nMatoma\\n                                  Running Out\n",
       "61   \\nThe Chainsmokers\\n                            Don't Let Me Down\n",
       "62       \\nJason Derulo\\n                              Want To Want Me\n",
       "63          \\nElle King\\n                                  Ex's & Oh's\n",
       "64              \\nDawin\\n                                      Dessert\n",
       "65             \\nSigala\\n                    Sweet Lovin' - Radio Edit\n",
       "66             \\nFuture\\n                                     Low Life\n",
       "67          \\nFetty Wap\\n                        679 (feat. Remy Boyz)\n",
       "68           \\nMaroon 5\\n                                        Sugar\n",
       "69        \\nWiz Khalifa\\n           See You Again (feat. Charlie Puth)\n",
       "70            \\nJ. Cole\\n                               No Role Modelz\n",
       "71      \\nX Ambassadors\\n                                    Renegades\n",
       "72                \\nSia\\n                                   Chandelier\n",
       "73     \\nMeghan Trainor\\n                      Like I'm Gonna Lose You\n",
       "74             \\nSigala\\n                     Easy Love - Original Mix\n",
       "75               \\nKygo\\n                               Stole the Show\n",
       "76       \\nTravi$ Scott\\n                                     Antidote\n",
       "77               \\nKygo\\n                                    Firestone\n",
       "78       \\nSelena Gomez\\n                                 Good For You\n",
       "79        \\nFelix Jaehn\\n               Ain't Nobody (Loves Me Better)\n",
       "80          \\nNicky Jam\\n                                    El Perdón\n",
       "81             \\nMaluma\\n                               Borro Cassette\n",
       "82      \\nOne Direction\\n                                 Drag Me Down\n",
       "83      \\nJustin Bieber\\n                         Sorry - Latino Remix\n",
       "84      \\nBryson Tiller\\n                                     Exchange\n",
       "85   \\nLost Frequencies\\n                         Reality - Radio Edit\n",
       "86             \\nKiiara\\n                                         Gold\n",
       "87       \\nCharlie Puth\\n           Marvin Gaye (feat. Meghan Trainor)\n",
       "88     \\nEllie Goulding\\n                          Love Me Like You Do\n",
       "89      \\nJustin Bieber\\n                                I'll Show You\n",
       "90     \\nEllie Goulding\\n                Something In The Way You Move\n",
       "91      \\nAriana Grande\\n                                        Focus\n",
       "92             \\nAvicii\\n                             Waiting For Love\n",
       "93          \\nJames Bay\\n                                    Let It Go\n",
       "94       \\nCharlie Puth\\n   We Don't Talk Anymore (feat. Selena Gomez)\n",
       "95           \\nJ Balvin\\n                                        Ginza\n",
       "96             \\nHozier\\n                            Take Me To Church\n",
       "97       \\nJoey Montana\\n                                        Picky\n",
       "98           \\nYo Gotti\\n                               Down In the DM\n",
       "99              \\nNelly\\n                                      The Fix"
      ]
     },
     "execution_count": 228,
     "metadata": {},
     "output_type": "execute_result"
    }
   ],
   "source": [
    "songs"
   ]
  },
  {
   "cell_type": "code",
   "execution_count": 229,
   "id": "b0051ce0",
   "metadata": {},
   "outputs": [],
   "source": [
    "songs['artist']=songs['artist'].str.replace('\\n', ' ')\n",
    "             "
   ]
  },
  {
   "cell_type": "code",
   "execution_count": 230,
   "id": "80e3fed6",
   "metadata": {
    "colab": {
     "base_uri": "https://localhost:8080/",
     "height": 204
    },
    "executionInfo": {
     "elapsed": 701,
     "status": "ok",
     "timestamp": 1619378305284,
     "user": {
      "displayName": "David Henriques",
      "photoUrl": "",
      "userId": "14332050621134291491"
     },
     "user_tz": -60
    },
    "id": "cFks_T4tWQ0F",
    "outputId": "062aba31-0609-4b42-f334-d039f937a895"
   },
   "outputs": [
    {
     "data": {
      "text/html": [
       "<div>\n",
       "<style scoped>\n",
       "    .dataframe tbody tr th:only-of-type {\n",
       "        vertical-align: middle;\n",
       "    }\n",
       "\n",
       "    .dataframe tbody tr th {\n",
       "        vertical-align: top;\n",
       "    }\n",
       "\n",
       "    .dataframe thead th {\n",
       "        text-align: right;\n",
       "    }\n",
       "</style>\n",
       "<table border=\"1\" class=\"dataframe\">\n",
       "  <thead>\n",
       "    <tr style=\"text-align: right;\">\n",
       "      <th></th>\n",
       "      <th>artist</th>\n",
       "      <th>song</th>\n",
       "    </tr>\n",
       "  </thead>\n",
       "  <tbody>\n",
       "    <tr>\n",
       "      <th>0</th>\n",
       "      <td>Rihanna</td>\n",
       "      <td>Work</td>\n",
       "    </tr>\n",
       "    <tr>\n",
       "      <th>1</th>\n",
       "      <td>ZAYN</td>\n",
       "      <td>PILLOWTALK</td>\n",
       "    </tr>\n",
       "    <tr>\n",
       "      <th>2</th>\n",
       "      <td>Justin Bieber</td>\n",
       "      <td>Love Yourself</td>\n",
       "    </tr>\n",
       "    <tr>\n",
       "      <th>3</th>\n",
       "      <td>Justin Bieber</td>\n",
       "      <td>Sorry</td>\n",
       "    </tr>\n",
       "    <tr>\n",
       "      <th>4</th>\n",
       "      <td>G-Eazy</td>\n",
       "      <td>Me, Myself &amp; I</td>\n",
       "    </tr>\n",
       "  </tbody>\n",
       "</table>\n",
       "</div>"
      ],
      "text/plain": [
       "            artist            song\n",
       "0         Rihanna             Work\n",
       "1            ZAYN       PILLOWTALK\n",
       "2   Justin Bieber    Love Yourself\n",
       "3   Justin Bieber            Sorry\n",
       "4          G-Eazy   Me, Myself & I"
      ]
     },
     "execution_count": 230,
     "metadata": {},
     "output_type": "execute_result"
    }
   ],
   "source": [
    "songs.head()"
   ]
  },
  {
   "cell_type": "code",
   "execution_count": null,
   "id": "ee35c1f9",
   "metadata": {},
   "outputs": [],
   "source": []
  },
  {
   "cell_type": "code",
   "execution_count": 231,
   "id": "b4bdfd97",
   "metadata": {},
   "outputs": [
    {
     "data": {
      "text/plain": [
       "100"
      ]
     },
     "execution_count": 231,
     "metadata": {},
     "output_type": "execute_result"
    }
   ],
   "source": [
    "len(songs)"
   ]
  },
  {
   "cell_type": "code",
   "execution_count": 232,
   "id": "cc41b63f",
   "metadata": {},
   "outputs": [
    {
     "name": "stdout",
     "output_type": "stream",
     "text": [
      "I Know What You Did Last Summer\n"
     ]
    }
   ],
   "source": [
    "import random\n",
    "\n",
    "\n",
    "secure_random = random.SystemRandom()\n",
    "print(secure_random.choice(song))"
   ]
  },
  {
   "cell_type": "code",
   "execution_count": 233,
   "id": "68af443c",
   "metadata": {},
   "outputs": [],
   "source": [
    "# print(songs['song'].sample())"
   ]
  },
  {
   "cell_type": "code",
   "execution_count": 234,
   "id": "864151d2",
   "metadata": {},
   "outputs": [
    {
     "name": "stdout",
     "output_type": "stream",
     "text": [
      "Please enter your song name: Work\n"
     ]
    }
   ],
   "source": [
    "favorite_song = input('Please enter your song name: ')\n"
   ]
  },
  {
   "cell_type": "code",
   "execution_count": 235,
   "id": "62f8fbd3",
   "metadata": {
    "scrolled": true
   },
   "outputs": [
    {
     "name": "stdout",
     "output_type": "stream",
     "text": [
      "Work\n"
     ]
    }
   ],
   "source": [
    "print(favorite_song)"
   ]
  },
  {
   "cell_type": "code",
   "execution_count": 236,
   "id": "4005b446",
   "metadata": {},
   "outputs": [
    {
     "name": "stdout",
     "output_type": "stream",
     "text": [
      "Our song recommendation is:  I'll Show You\n"
     ]
    }
   ],
   "source": [
    "# Recommend song\n",
    "\n",
    "if len(songs[(songs['song'].isin([favorite_song]))])>0:\n",
    "    print(\"Our song recommendation is: \", secure_random.choice(songs['song'])) \n",
    "else:\n",
    "    print(\"We are sorry that we do not have a song recommendation for you now.\")"
   ]
  },
  {
   "cell_type": "code",
   "execution_count": 237,
   "id": "5b8ecad8",
   "metadata": {},
   "outputs": [],
   "source": [
    "songs_3=songs"
   ]
  },
  {
   "cell_type": "markdown",
   "id": "129f6af1",
   "metadata": {},
   "source": [
    "# CONCAT Songs_1, Song_2, Songs_3"
   ]
  },
  {
   "cell_type": "code",
   "execution_count": 267,
   "id": "26243ba8",
   "metadata": {},
   "outputs": [
    {
     "data": {
      "text/html": [
       "<div>\n",
       "<style scoped>\n",
       "    .dataframe tbody tr th:only-of-type {\n",
       "        vertical-align: middle;\n",
       "    }\n",
       "\n",
       "    .dataframe tbody tr th {\n",
       "        vertical-align: top;\n",
       "    }\n",
       "\n",
       "    .dataframe thead th {\n",
       "        text-align: right;\n",
       "    }\n",
       "</style>\n",
       "<table border=\"1\" class=\"dataframe\">\n",
       "  <thead>\n",
       "    <tr style=\"text-align: right;\">\n",
       "      <th></th>\n",
       "      <th>artist</th>\n",
       "      <th>song</th>\n",
       "    </tr>\n",
       "  </thead>\n",
       "  <tbody>\n",
       "    <tr>\n",
       "      <th>0</th>\n",
       "      <td>Mark Ronson featuring Bruno Mars</td>\n",
       "      <td>Uptown Funk</td>\n",
       "    </tr>\n",
       "    <tr>\n",
       "      <th>1</th>\n",
       "      <td>Ed Sheeran</td>\n",
       "      <td>Thinking Out Loud</td>\n",
       "    </tr>\n",
       "    <tr>\n",
       "      <th>2</th>\n",
       "      <td>Wiz Khalifa featuring Charlie Puth</td>\n",
       "      <td>See You Again</td>\n",
       "    </tr>\n",
       "    <tr>\n",
       "      <th>3</th>\n",
       "      <td>Fetty Wap</td>\n",
       "      <td>Trap Queen</td>\n",
       "    </tr>\n",
       "    <tr>\n",
       "      <th>4</th>\n",
       "      <td>Maroon 5</td>\n",
       "      <td>Sugar</td>\n",
       "    </tr>\n",
       "    <tr>\n",
       "      <th>...</th>\n",
       "      <td>...</td>\n",
       "      <td>...</td>\n",
       "    </tr>\n",
       "    <tr>\n",
       "      <th>295</th>\n",
       "      <td>J Balvin</td>\n",
       "      <td>Ginza</td>\n",
       "    </tr>\n",
       "    <tr>\n",
       "      <th>296</th>\n",
       "      <td>Hozier</td>\n",
       "      <td>Take Me To Church</td>\n",
       "    </tr>\n",
       "    <tr>\n",
       "      <th>297</th>\n",
       "      <td>Joey Montana</td>\n",
       "      <td>Picky</td>\n",
       "    </tr>\n",
       "    <tr>\n",
       "      <th>298</th>\n",
       "      <td>Yo Gotti</td>\n",
       "      <td>Down In the DM</td>\n",
       "    </tr>\n",
       "    <tr>\n",
       "      <th>299</th>\n",
       "      <td>Nelly</td>\n",
       "      <td>The Fix</td>\n",
       "    </tr>\n",
       "  </tbody>\n",
       "</table>\n",
       "<p>300 rows × 2 columns</p>\n",
       "</div>"
      ],
      "text/plain": [
       "                                   artist               song\n",
       "0       Mark Ronson featuring Bruno Mars         Uptown Funk\n",
       "1                             Ed Sheeran   Thinking Out Loud\n",
       "2     Wiz Khalifa featuring Charlie Puth       See You Again\n",
       "3                              Fetty Wap          Trap Queen\n",
       "4                               Maroon 5               Sugar\n",
       "..                                    ...                ...\n",
       "295                             J Balvin               Ginza\n",
       "296                               Hozier   Take Me To Church\n",
       "297                         Joey Montana               Picky\n",
       "298                             Yo Gotti      Down In the DM\n",
       "299                                Nelly             The Fix\n",
       "\n",
       "[300 rows x 2 columns]"
      ]
     },
     "execution_count": 267,
     "metadata": {},
     "output_type": "execute_result"
    }
   ],
   "source": [
    "songs_df = pd.concat([songs_1, songs_2, songs_3], ignore_index = True)\n",
    "songs_df"
   ]
  },
  {
   "cell_type": "code",
   "execution_count": 268,
   "id": "b0d84369",
   "metadata": {},
   "outputs": [],
   "source": [
    "songs_df.to_csv('songs_df.csv')"
   ]
  },
  {
   "cell_type": "code",
   "execution_count": 14,
   "id": "75644518",
   "metadata": {},
   "outputs": [],
   "source": [
    "songs_df = pd.read_csv('songs_df.csv')"
   ]
  },
  {
   "cell_type": "code",
   "execution_count": 19,
   "id": "3a8882e1",
   "metadata": {},
   "outputs": [
    {
     "name": "stdout",
     "output_type": "stream",
     "text": [
      "Under the Influence\n"
     ]
    }
   ],
   "source": [
    "import random\n",
    "\n",
    "\n",
    "secure_random = random.SystemRandom()\n",
    "print(secure_random.choice(songs_df['song']))"
   ]
  },
  {
   "cell_type": "code",
   "execution_count": 24,
   "id": "4e67fd9f",
   "metadata": {},
   "outputs": [
    {
     "name": "stdout",
     "output_type": "stream",
     "text": [
      "Please enter your song name: Under the Influence\n"
     ]
    }
   ],
   "source": [
    "favorite_song = input('Please enter your song name: ')\n"
   ]
  },
  {
   "cell_type": "code",
   "execution_count": 25,
   "id": "01624b26",
   "metadata": {
    "scrolled": false
   },
   "outputs": [
    {
     "name": "stdout",
     "output_type": "stream",
     "text": [
      "Under the Influence\n"
     ]
    }
   ],
   "source": [
    "print(favorite_song)"
   ]
  },
  {
   "cell_type": "code",
   "execution_count": 26,
   "id": "53f226cc",
   "metadata": {
    "scrolled": true
   },
   "outputs": [
    {
     "name": "stdout",
     "output_type": "stream",
     "text": [
      "Our song recommendation is:  Blessings\n"
     ]
    }
   ],
   "source": [
    "# if favorite_song in songs['song']:\n",
    "if len(songs_df[(songs_df['song'].isin([favorite_song]))])>0:\n",
    "    print(\"Our song recommendation is: \", secure_random.choice(songs_df['song'])) \n",
    "else:\n",
    "    print(\"We are sorry that we do not have a song recommendation for you now.\")"
   ]
  }
 ],
 "metadata": {
  "kernelspec": {
   "display_name": "Python 3 (ipykernel)",
   "language": "python",
   "name": "python3"
  },
  "language_info": {
   "codemirror_mode": {
    "name": "ipython",
    "version": 3
   },
   "file_extension": ".py",
   "mimetype": "text/x-python",
   "name": "python",
   "nbconvert_exporter": "python",
   "pygments_lexer": "ipython3",
   "version": "3.9.12"
  },
  "toc": {
   "base_numbering": 1,
   "nav_menu": {},
   "number_sections": true,
   "sideBar": true,
   "skip_h1_title": false,
   "title_cell": "Table of Contents",
   "title_sidebar": "Contents",
   "toc_cell": false,
   "toc_position": {
    "height": "calc(100% - 180px)",
    "left": "10px",
    "top": "150px",
    "width": "256px"
   },
   "toc_section_display": true,
   "toc_window_display": true
  }
 },
 "nbformat": 4,
 "nbformat_minor": 5
}
