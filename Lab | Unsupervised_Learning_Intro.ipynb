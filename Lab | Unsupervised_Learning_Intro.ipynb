{
 "cells": [
  {
   "cell_type": "markdown",
   "id": "42dc4e21",
   "metadata": {},
   "source": [
    "# Lab | Unsupervised learning intro"
   ]
  },
  {
   "cell_type": "markdown",
   "id": "399a541d",
   "metadata": {},
   "source": [
    "It's the moment to perform clustering on the songs you collected. Remember that the ultimate goal of this little project is to improve the recommendations of artists. Clustering the songs will allow the recommendation system to limit the scope of the recommendations to only songs that belong to the same cluster - songs with similar audio features.\n",
    "\n",
    "The experiments you did with the Spotify API and the Billboard web scraping will allow you to create a pipeline such that when the user enters a song, you:\n",
    "\n",
    "Check whether or not the song is in the Billboard Hot 200.\n",
    "Collect the audio features from the Spotify API.\n",
    "After that, you want to send the Spotify audio features of the submitted song to the clustering model, which should return a cluster number.\n",
    "\n",
    "We want to have as many songs as possible to create the clustering model, so we will add the songs you collected to a bigger dataset available on Kaggle containing 160 thousand songs."
   ]
  },
  {
   "cell_type": "code",
   "execution_count": null,
   "id": "ddd5af52",
   "metadata": {},
   "outputs": [],
   "source": [
    "import pandas as pd\n",
    "import numpy as np\n",
    "\n",
    "import matplotlib.pyplot as plt\n",
    "\n",
    "from sklearn import cluster, datasets\n",
    "from sklearn.preprocessing import StandardScaler\n",
    "\n",
    "from matplotlib.lines import Line2D\n",
    "import matplotlib.pyplot as plt\n",
    "\n",
    "from bs4 import BeautifulSoup\n",
    "\n",
    "import requests\n",
    "\n",
    "import spotipy\n",
    "from spotipy.oauth2 import SpotifyClientCredentials\n",
    "\n",
    "from random import randint\n",
    "\n",
    "from sklearn.cluster import KMeans\n",
    "\n",
    "import random\n",
    "\n",
    "pd.set_option('display.max_columns', 165)\n",
    "pd.set_option('display.max_rows', 165)"
   ]
  },
  {
   "cell_type": "code",
   "execution_count": null,
   "id": "0f0dc3d6",
   "metadata": {
    "id": "P6Z1QB7eeJeq"
   },
   "outputs": [],
   "source": [
    "secrets_file = open(\"secrets.txt\",\"r\")"
   ]
  },
  {
   "cell_type": "code",
   "execution_count": null,
   "id": "753da44f",
   "metadata": {
    "id": "O_zvc84bnbh2"
   },
   "outputs": [],
   "source": [
    "string = secrets_file.read()"
   ]
  },
  {
   "cell_type": "code",
   "execution_count": null,
   "id": "b7fc024a",
   "metadata": {
    "id": "qE_-56J0ak4B",
    "scrolled": true
   },
   "outputs": [],
   "source": [
    "string"
   ]
  },
  {
   "cell_type": "code",
   "execution_count": null,
   "id": "8a0eef6e",
   "metadata": {
    "id": "kXwHdEdLndJZ",
    "scrolled": true
   },
   "outputs": [],
   "source": [
    "string.split('\\n')"
   ]
  },
  {
   "cell_type": "code",
   "execution_count": null,
   "id": "c933112e",
   "metadata": {
    "id": "gZmYnRSNngr7"
   },
   "outputs": [],
   "source": [
    "secrets_dict={}\n",
    "for line in string.split('\\n'):\n",
    "    if len(line) > 0:\n",
    "        print(line.split(': '))\n",
    "        secrets_dict[line.split(':')[0]]=line.split(':')[1].strip()"
   ]
  },
  {
   "cell_type": "code",
   "execution_count": null,
   "id": "bc4e37a0",
   "metadata": {
    "id": "5iV66R_RnhXR",
    "scrolled": true
   },
   "outputs": [],
   "source": [
    "secrets_dict"
   ]
  },
  {
   "cell_type": "code",
   "execution_count": null,
   "id": "9d08f853",
   "metadata": {
    "id": "HkTY3iTCnYdC"
   },
   "outputs": [],
   "source": [
    "import spotipy\n",
    "from spotipy.oauth2 import SpotifyClientCredentials\n",
    "\n",
    "#Initialize SpotiPy with user credentials\n",
    "sp = spotipy.Spotify(auth_manager=SpotifyClientCredentials(client_id=secrets_dict['cid'],\n",
    "                                                           client_secret=secrets_dict['csecret']))"
   ]
  },
  {
   "cell_type": "markdown",
   "id": "c95f6cbe",
   "metadata": {},
   "source": [
    "songs_df and multiple_playlist_df were previously created in API Wrappers Lab. Then, csv files were produced. In this lab, the csv files are read."
   ]
  },
  {
   "cell_type": "code",
   "execution_count": null,
   "id": "5d13d392",
   "metadata": {
    "scrolled": true
   },
   "outputs": [],
   "source": [
    "songs_df = pd.read_csv('songs_df.csv')\n",
    "songs_df"
   ]
  },
  {
   "cell_type": "code",
   "execution_count": null,
   "id": "f7bf6118",
   "metadata": {
    "scrolled": true
   },
   "outputs": [],
   "source": [
    "songs_df = songs_df.drop(['Unnamed: 0'], axis=1)\n",
    "songs_df"
   ]
  },
  {
   "cell_type": "code",
   "execution_count": null,
   "id": "81f123bc",
   "metadata": {},
   "outputs": [],
   "source": [
    "multiple_playlist_df = pd.read_csv('multiple_playlist_df.csv')\n",
    "multiple_playlist_df"
   ]
  },
  {
   "cell_type": "code",
   "execution_count": null,
   "id": "a9da3bc3",
   "metadata": {
    "scrolled": true
   },
   "outputs": [],
   "source": [
    "multiple_playlist_df = multiple_playlist_df.drop(['Unnamed: 0'], axis=1)\n",
    "multiple_playlist_df"
   ]
  },
  {
   "cell_type": "code",
   "execution_count": null,
   "id": "24662c7e",
   "metadata": {
    "scrolled": false
   },
   "outputs": [],
   "source": [
    "multiple_playlist_df.columns"
   ]
  },
  {
   "cell_type": "code",
   "execution_count": null,
   "id": "db928ed3",
   "metadata": {},
   "outputs": [],
   "source": [
    "multiple_playlist_df.shape"
   ]
  },
  {
   "cell_type": "code",
   "execution_count": null,
   "id": "01a102a1",
   "metadata": {},
   "outputs": [],
   "source": [
    "multiple_playlist_df.info()"
   ]
  },
  {
   "cell_type": "code",
   "execution_count": null,
   "id": "f77aa65b",
   "metadata": {},
   "outputs": [],
   "source": [
    "# statistical distribution of the data\n",
    "multiple_playlist_df.describe()"
   ]
  },
  {
   "cell_type": "code",
   "execution_count": null,
   "id": "8f233bdb",
   "metadata": {},
   "outputs": [],
   "source": [
    "X = multiple_playlist_df[['danceability', 'energy',\n",
    "       'key', 'loudness', 'mode', 'speechiness', 'acousticness',\n",
    "       'instrumentalness', 'liveness', 'valence', 'tempo','duration_ms', 'time_signature']]"
   ]
  },
  {
   "cell_type": "code",
   "execution_count": null,
   "id": "a700c0a1",
   "metadata": {},
   "outputs": [],
   "source": [
    "print(X.shape)\n",
    "X.head()\n"
   ]
  },
  {
   "cell_type": "code",
   "execution_count": null,
   "id": "53305365",
   "metadata": {},
   "outputs": [],
   "source": [
    "X.dtypes"
   ]
  },
  {
   "cell_type": "code",
   "execution_count": null,
   "id": "9c5f55a1",
   "metadata": {},
   "outputs": [],
   "source": [
    "transformer = StandardScaler().fit(X)\n",
    "X_normalized = transformer.transform(X)\n",
    "X_norm = pd.DataFrame(X_normalized, columns=X.columns)\n",
    "X_norm.head()"
   ]
  },
  {
   "cell_type": "code",
   "execution_count": null,
   "id": "8ac08dd4",
   "metadata": {
    "scrolled": true
   },
   "outputs": [],
   "source": [
    "K = range(2, 20) # up to 19 clusters\n",
    "inertia = []\n",
    "\n",
    "for k in K:\n",
    "    kmeans = KMeans(n_clusters=k,\n",
    "                    random_state=1234) # build model with k as my number of clusters.\n",
    "    kmeans.fit(X_norm) # fit model with data X_norm. # group data based on similarity of features\n",
    "    inertia.append(kmeans.inertia_) # evaluate the clusters after clustering is the way to evaluate clustering strategy.\n",
    "\n",
    "import matplotlib.pyplot as plt\n",
    "%matplotlib inline\n",
    "\n",
    "plt.figure(figsize=(16,8))\n",
    "plt.plot(K, inertia, 'bx-')\n",
    "plt.xlabel('k')\n",
    "plt.ylabel('inertia')\n",
    "plt.xticks(np.arange(min(K), max(K)+1, 1.0))\n",
    "plt.title('Elbow Method showing the optimal k')"
   ]
  },
  {
   "cell_type": "code",
   "execution_count": null,
   "id": "4bbee8e1",
   "metadata": {
    "scrolled": true
   },
   "outputs": [],
   "source": [
    "from sklearn.metrics import silhouette_score\n",
    "K = range(2, 20)\n",
    "silhouette = []\n",
    "\n",
    "for k in K:\n",
    "    kmeans = KMeans(n_clusters=k,\n",
    "                    random_state=1234)\n",
    "    kmeans.fit(X_norm)\n",
    "    silhouette.append(silhouette_score(X_norm, kmeans.predict(X_norm)))\n",
    "\n",
    "\n",
    "plt.figure(figsize=(16,8))\n",
    "plt.plot(K, silhouette, 'bx-')\n",
    "plt.xlabel('k')\n",
    "plt.ylabel('silhouette score')\n",
    "plt.xticks(np.arange(min(K), max(K)+1, 1.0))\n",
    "plt.title('Slhouette score showing the optimal k')\n",
    "\n",
    "# highest value of silhouette score is optimum number of clusters."
   ]
  },
  {
   "cell_type": "code",
   "execution_count": null,
   "id": "f6aaf38a",
   "metadata": {},
   "outputs": [],
   "source": [
    "kmeans = KMeans(n_clusters=8, random_state=1234) # define kmeans model. there are 8 clusters.\n",
    "kmeans.fit(X_norm)"
   ]
  },
  {
   "cell_type": "code",
   "execution_count": null,
   "id": "744b6d48",
   "metadata": {},
   "outputs": [],
   "source": [
    "# Predicting / assigning the clusters:\n",
    "clusters = kmeans.predict(X_norm) # predict the clusters\n",
    "\n",
    "# Check the size of the clusters\n",
    "pd.Series(clusters).value_counts().sort_index()"
   ]
  },
  {
   "cell_type": "code",
   "execution_count": null,
   "id": "522b0638",
   "metadata": {},
   "outputs": [],
   "source": [
    "clusters"
   ]
  },
  {
   "cell_type": "code",
   "execution_count": null,
   "id": "f1449441",
   "metadata": {
    "scrolled": true
   },
   "outputs": [],
   "source": [
    "kmeans.inertia_ # inertia of that model"
   ]
  },
  {
   "cell_type": "code",
   "execution_count": null,
   "id": "6e74d205",
   "metadata": {},
   "outputs": [],
   "source": [
    "# converting predictions into a df\n",
    "cluster_no = pd.DataFrame(data=clusters, dtype=int)\n",
    "cluster_no.columns = ['k_cluster']\n",
    "\n",
    "# predictions as a df\n",
    "print(cluster_no.shape)\n",
    "cluster_no.head()"
   ]
  },
  {
   "cell_type": "code",
   "execution_count": null,
   "id": "5e43f676",
   "metadata": {},
   "outputs": [],
   "source": [
    "# concatenating the cluster column to the dataframe\n",
    "multiple_playlist_df = pd.concat([multiple_playlist_df, cluster_no], axis=1)\n",
    "\n",
    "# checking the dataframe\n",
    "print(multiple_playlist_df.shape)\n",
    "multiple_playlist_df.head()"
   ]
  },
  {
   "cell_type": "code",
   "execution_count": null,
   "id": "f3504cee",
   "metadata": {},
   "outputs": [],
   "source": [
    "# checking for null\n",
    "multiple_playlist_df.isnull().sum().sum()"
   ]
  },
  {
   "cell_type": "code",
   "execution_count": null,
   "id": "6a5f62d0",
   "metadata": {
    "scrolled": true
   },
   "outputs": [],
   "source": [
    "# checking number of songs in each cluster\n",
    "multiple_playlist_df['k_cluster'].value_counts()"
   ]
  },
  {
   "cell_type": "code",
   "execution_count": null,
   "id": "cc4aa759",
   "metadata": {
    "scrolled": true
   },
   "outputs": [],
   "source": [
    "# checking the songs in the cluster\n",
    "multiple_playlist_df.loc[multiple_playlist_df['k_cluster'] == 4][:5]"
   ]
  },
  {
   "cell_type": "code",
   "execution_count": null,
   "id": "024a2251",
   "metadata": {},
   "outputs": [],
   "source": [
    "favorite_song = input('Please enter your favorite song: ')"
   ]
  },
  {
   "cell_type": "code",
   "execution_count": null,
   "id": "aa3ac02a",
   "metadata": {},
   "outputs": [],
   "source": [
    "# Function to obtain an uri from a song name\n",
    "def song_uri(favorite_song):\n",
    "    try:\n",
    "        # Creating the spotipy element for the playlist URI\n",
    "        querry = 'track:'+str(favorite_song)\n",
    "        track = sp.search(q=favorite_song, limit=1)\n",
    "        return track['tracks']['items'][0]['uri'].split('spotify:track:')[1]                 \n",
    "    except:\n",
    "        return 'Null'"
   ]
  },
  {
   "cell_type": "code",
   "execution_count": null,
   "id": "dd75711e",
   "metadata": {},
   "outputs": [],
   "source": [
    "song_uri(favorite_song)"
   ]
  },
  {
   "cell_type": "code",
   "execution_count": null,
   "id": "d66bf976",
   "metadata": {},
   "outputs": [],
   "source": [
    "def collect_song_features(uri):\n",
    "    \n",
    "    # Create empty dataframe\n",
    "    playlist_features_list = [\"danceability\",\"energy\",\"key\",\"loudness\",\"mode\", \"speechiness\",\"acousticness\",\n",
    "                              \"instrumentalness\",\"liveness\",\"valence\",\"tempo\",\"duration_ms\",\"time_signature\"]\n",
    "\n",
    "    playlist_df = pd.DataFrame(columns = playlist_features_list)\n",
    "        \n",
    "    # Get audio features\n",
    "    audio_features = sp.audio_features(uri)[0]\n",
    "    playlist_df.loc[len(playlist_df)] = [audio_features[feature] for feature in playlist_features_list]\n",
    "        \n",
    "    return playlist_df"
   ]
  },
  {
   "cell_type": "code",
   "execution_count": null,
   "id": "953a1eb9",
   "metadata": {},
   "outputs": [],
   "source": [
    "collect_song_features('32OlwWuMpZ6b0aN2RZOeMS')"
   ]
  },
  {
   "cell_type": "code",
   "execution_count": null,
   "id": "eb756e99",
   "metadata": {
    "scrolled": true
   },
   "outputs": [],
   "source": [
    "collect_song_features(song_uri(favorite_song))"
   ]
  },
  {
   "cell_type": "code",
   "execution_count": null,
   "id": "f0c494b7",
   "metadata": {},
   "outputs": [],
   "source": [
    "secure_random = random.SystemRandom()\n",
    "print(secure_random.choice(songs_df['song']))"
   ]
  },
  {
   "cell_type": "code",
   "execution_count": null,
   "id": "5e236345",
   "metadata": {},
   "outputs": [],
   "source": [
    "def song_recommender():\n",
    "    favorite_song = input('Please enter your favorite song: ')\n",
    "    if len(songs_df[(songs_df['song'].isin([favorite_song]))])>0:\n",
    "        random_song = secure_random.choice(songs_df['song'])\n",
    "        artist = songs_df.loc[songs_df['song'] == random_song, 'artist'].item()\n",
    "        print(\"Our song recommendation is: \", random_song,'by', artist)\n",
    "    else:\n",
    "        df = collect_song_features(song_uri(favorite_song))\n",
    "        cluster = kmeans.predict(pd.DataFrame(transformer.transform(df), columns=df.columns))\n",
    "        element = multiple_playlist_df[multiple_playlist_df['k_cluster'] == cluster[0]]\n",
    "        random_song = element['track_name'].sample().item()\n",
    "        artist = element.loc[element['track_name'] == random_song, 'artist'].item()\n",
    "        print(\"Our song recommendation is: \", random_song, 'by', artist)"
   ]
  },
  {
   "cell_type": "code",
   "execution_count": null,
   "id": "b499583f",
   "metadata": {
    "scrolled": true
   },
   "outputs": [],
   "source": [
    "song_recommender()"
   ]
  }
 ],
 "metadata": {
  "kernelspec": {
   "display_name": "Python 3 (ipykernel)",
   "language": "python",
   "name": "python3"
  },
  "language_info": {
   "codemirror_mode": {
    "name": "ipython",
    "version": 3
   },
   "file_extension": ".py",
   "mimetype": "text/x-python",
   "name": "python",
   "nbconvert_exporter": "python",
   "pygments_lexer": "ipython3",
   "version": "3.9.12"
  },
  "toc": {
   "base_numbering": 1,
   "nav_menu": {},
   "number_sections": true,
   "sideBar": true,
   "skip_h1_title": false,
   "title_cell": "Table of Contents",
   "title_sidebar": "Contents",
   "toc_cell": false,
   "toc_position": {},
   "toc_section_display": true,
   "toc_window_display": false
  }
 },
 "nbformat": 4,
 "nbformat_minor": 5
}
