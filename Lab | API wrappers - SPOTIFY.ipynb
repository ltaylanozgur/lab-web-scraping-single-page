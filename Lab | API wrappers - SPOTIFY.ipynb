{
 "cells": [
  {
   "cell_type": "markdown",
   "id": "226205e6",
   "metadata": {},
   "source": [
    "# Lab | API wrappers - SPOTIFY "
   ]
  },
  {
   "cell_type": "code",
   "execution_count": null,
   "id": "64f4e3a8",
   "metadata": {},
   "outputs": [],
   "source": [
    "import pandas as pd\n",
    "\n",
    "from bs4 import BeautifulSoup\n",
    "\n",
    "# access information on any webpage...\n",
    "\n",
    "from bs4 import BeautifulSoup\n",
    "import requests"
   ]
  },
  {
   "cell_type": "markdown",
   "id": "4103e263",
   "metadata": {
    "id": "OhLA0o_5eJep"
   },
   "source": [
    "## Authentification"
   ]
  },
  {
   "cell_type": "code",
   "execution_count": null,
   "id": "d4fb7eb2",
   "metadata": {
    "id": "JuPP1QvSaGdp"
   },
   "outputs": [],
   "source": [
    "import spotipy\n",
    "from spotipy.oauth2 import SpotifyClientCredentials # to create a connection to spotify\n",
    "\n",
    "#Initialize SpotiPy with user credentials\n",
    "#sp = spotipy.Spotify(auth_manager=SpotifyClientCredentials(client_id='<your client id here>',\n",
    "#                                                           client_secret='<your client secret here>'))"
   ]
  },
  {
   "cell_type": "markdown",
   "id": "add3c5d1",
   "metadata": {
    "id": "4iW0BQKonLZq"
   },
   "source": [
    "## Storing secrets"
   ]
  },
  {
   "cell_type": "code",
   "execution_count": null,
   "id": "0f0dc3d6",
   "metadata": {
    "id": "P6Z1QB7eeJeq"
   },
   "outputs": [],
   "source": [
    "secrets_file = open(\"secrets.txt\",\"r\")"
   ]
  },
  {
   "cell_type": "code",
   "execution_count": null,
   "id": "753da44f",
   "metadata": {
    "id": "O_zvc84bnbh2"
   },
   "outputs": [],
   "source": [
    "string = secrets_file.read()"
   ]
  },
  {
   "cell_type": "code",
   "execution_count": null,
   "id": "b7fc024a",
   "metadata": {
    "id": "qE_-56J0ak4B",
    "scrolled": true
   },
   "outputs": [],
   "source": [
    "string"
   ]
  },
  {
   "cell_type": "code",
   "execution_count": null,
   "id": "8a0eef6e",
   "metadata": {
    "id": "kXwHdEdLndJZ",
    "scrolled": true
   },
   "outputs": [],
   "source": [
    "string.split('\\n')"
   ]
  },
  {
   "cell_type": "code",
   "execution_count": null,
   "id": "c933112e",
   "metadata": {
    "id": "gZmYnRSNngr7"
   },
   "outputs": [],
   "source": [
    "secrets_dict={}\n",
    "for line in string.split('\\n'):\n",
    "    if len(line) > 0:\n",
    "        print(line.split(': '))\n",
    "        secrets_dict[line.split(':')[0]]=line.split(':')[1].strip()"
   ]
  },
  {
   "cell_type": "code",
   "execution_count": null,
   "id": "bc4e37a0",
   "metadata": {
    "id": "5iV66R_RnhXR",
    "scrolled": true
   },
   "outputs": [],
   "source": [
    "secrets_dict"
   ]
  },
  {
   "cell_type": "markdown",
   "id": "23c392fc",
   "metadata": {
    "id": "oAQak0FunTy8"
   },
   "source": [
    "## Authentication with secrets"
   ]
  },
  {
   "cell_type": "code",
   "execution_count": null,
   "id": "9d08f853",
   "metadata": {
    "id": "HkTY3iTCnYdC"
   },
   "outputs": [],
   "source": [
    "import spotipy\n",
    "from spotipy.oauth2 import SpotifyClientCredentials\n",
    "\n",
    "#Initialize SpotiPy with user credentials\n",
    "sp = spotipy.Spotify(auth_manager=SpotifyClientCredentials(client_id=secrets_dict['cid'],\n",
    "                                                           client_secret=secrets_dict['csecret']))"
   ]
  },
  {
   "cell_type": "markdown",
   "id": "a0c6f2d5",
   "metadata": {},
   "source": [
    "## Web scraping - Spotify"
   ]
  },
  {
   "cell_type": "code",
   "execution_count": null,
   "id": "cd9b899d",
   "metadata": {},
   "outputs": [],
   "source": [
    "from random import randint\n",
    "from time import sleep\n",
    "\n",
    "def get_playlist_tracks(playlist_id):\n",
    "    results = sp.user_playlist_tracks(\"spotify\",playlist_id) # read first page\n",
    "    tracks = results['items'] # assign items to a list called tracks\n",
    "    while results['next']!=None: \n",
    "        results = sp.next(results) # read the next page\n",
    "        tracks = tracks + results['items']\n",
    "        sleep(randint(1,3000)/1000) # unit is second\n",
    "    return tracks\n",
    "\n",
    "# concat all items list on each page"
   ]
  },
  {
   "cell_type": "code",
   "execution_count": null,
   "id": "b48e8acb",
   "metadata": {},
   "outputs": [],
   "source": [
    "# this will take at least around num_songs_in_playlist * (avg_sleep_time + processing_time) = 53 * (2+0.1) = 110 seconds\n",
    "\n",
    "all_tracks_1 = get_playlist_tracks(\"4pbDDX7np7Q1H0ghL7U9o7\")\n",
    "len(all_tracks_1)"
   ]
  },
  {
   "cell_type": "code",
   "execution_count": null,
   "id": "c27f52fb",
   "metadata": {
    "scrolled": true
   },
   "outputs": [],
   "source": [
    "all_tracks_2 = get_playlist_tracks(\"532F1h299qKD894BlPfJJF\")\n",
    "len(all_tracks_2)"
   ]
  },
  {
   "cell_type": "code",
   "execution_count": null,
   "id": "719f116f",
   "metadata": {},
   "outputs": [],
   "source": [
    "def playlist_df_creator(owner, playlist_id):\n",
    "    \n",
    "    # Create empty dataframe\n",
    "    playlist_features_list = [\"artist\",\"album\",\"track_name\", \"track_id\",\"danceability\",\"energy\",\"key\",\"loudness\",\"mode\", \"speechiness\",\"acousticness\",\"instrumentalness\",\"liveness\",\"valence\",\"tempo\",\"type\",\"id\",\"uri\",\"track_href\",\"analysis_url\", \"duration_ms\",\"time_signature\"]\n",
    "    \n",
    "    playlist_df = pd.DataFrame(columns = playlist_features_list)\n",
    "    \n",
    "    all_tracks = get_playlist_tracks(playlist_id)\n",
    "    # Explore every track in the playlist, extract features and append the features to the playlist_df\n",
    "#     playlist = sp.user_playlist_tracks(owner, playlist_id)\n",
    "#     tracks = playlist['items']\n",
    "    \n",
    "    for track in all_tracks:\n",
    "        \n",
    "        # Create empty dictionary\n",
    "        playlist_features = {}\n",
    "        \n",
    "        # Get metadata\n",
    "        playlist_features[\"artist\"] = track[\"track\"][\"album\"][\"artists\"][0][\"name\"]\n",
    "        playlist_features[\"album\"] = track[\"track\"][\"album\"][\"name\"]\n",
    "        playlist_features[\"track_name\"] = track[\"track\"][\"name\"]\n",
    "        playlist_features[\"track_id\"] = track[\"track\"][\"id\"]\n",
    "        \n",
    "        # Get audio features\n",
    "        audio_features = sp.audio_features(playlist_features[\"track_id\"])[0]\n",
    "        for feature in playlist_features_list[4:]:\n",
    "            playlist_features[feature] = audio_features[feature]\n",
    "        \n",
    "        # Concat the dfs\n",
    "        track_df = pd.DataFrame(playlist_features, index = [0])\n",
    "        playlist_df = pd.concat([playlist_df, track_df], ignore_index = True)\n",
    "        \n",
    "    return playlist_df"
   ]
  },
  {
   "cell_type": "code",
   "execution_count": null,
   "id": "68f58e3f",
   "metadata": {},
   "outputs": [],
   "source": [
    "playlist_df_1 = playlist_df_creator(\"spotify\", \"4pbDDX7np7Q1H0ghL7U9o7\")"
   ]
  },
  {
   "cell_type": "code",
   "execution_count": null,
   "id": "64e38325",
   "metadata": {},
   "outputs": [],
   "source": [
    "playlist_df_2 = playlist_df_creator(\"spotify\", \"532F1h299qKD894BlPfJJF\")"
   ]
  },
  {
   "cell_type": "code",
   "execution_count": null,
   "id": "aa52dbd7",
   "metadata": {},
   "outputs": [],
   "source": [
    "playlist_df_all = pd.concat([playlist_df_1, playlist_df_2], ignore_index = True)"
   ]
  },
  {
   "cell_type": "code",
   "execution_count": null,
   "id": "fc39f2e8",
   "metadata": {},
   "outputs": [],
   "source": [
    "playlist_df_all"
   ]
  },
  {
   "cell_type": "code",
   "execution_count": null,
   "id": "4a5b8825",
   "metadata": {},
   "outputs": [],
   "source": [
    "playlist_df_all.shape"
   ]
  },
  {
   "cell_type": "code",
   "execution_count": null,
   "id": "c1910f36",
   "metadata": {},
   "outputs": [],
   "source": [
    "playlist_df_all.to_csv('playlist_df_all.csv')"
   ]
  },
  {
   "cell_type": "code",
   "execution_count": null,
   "id": "48beb26d",
   "metadata": {},
   "outputs": [],
   "source": [
    "import random\n",
    "\n",
    "secure_random = random.SystemRandom()\n",
    "print(secure_random.choice(playlist_df_all['track_name']))"
   ]
  },
  {
   "cell_type": "code",
   "execution_count": null,
   "id": "b8159e30",
   "metadata": {},
   "outputs": [],
   "source": [
    "favorite_song = input('Please enter your song name: ')\n"
   ]
  },
  {
   "cell_type": "code",
   "execution_count": null,
   "id": "8368a353",
   "metadata": {
    "scrolled": false
   },
   "outputs": [],
   "source": [
    "print(favorite_song)"
   ]
  },
  {
   "cell_type": "code",
   "execution_count": null,
   "id": "b8152883",
   "metadata": {
    "scrolled": true
   },
   "outputs": [],
   "source": [
    "# if favorite_song in songs['song']:\n",
    "if len(playlist_df_all[(playlist_df_all['track_name'].isin([favorite_song]))])>0:\n",
    "    print(\"Our song recommendation is: \", secure_random.choice(playlist_df_all['track_name'])) \n",
    "else:\n",
    "    print(\"We are sorry that we do not have a song recommendation for you now.\")"
   ]
  },
  {
   "cell_type": "code",
   "execution_count": null,
   "id": "8c429f92",
   "metadata": {},
   "outputs": [],
   "source": [
    "import random\n",
    "\n",
    "\n",
    "secure_random = random.SystemRandom()\n",
    "print(secure_random.choice(playlist_df_all['track_name']))"
   ]
  }
 ],
 "metadata": {
  "kernelspec": {
   "display_name": "Python 3 (ipykernel)",
   "language": "python",
   "name": "python3"
  },
  "language_info": {
   "codemirror_mode": {
    "name": "ipython",
    "version": 3
   },
   "file_extension": ".py",
   "mimetype": "text/x-python",
   "name": "python",
   "nbconvert_exporter": "python",
   "pygments_lexer": "ipython3",
   "version": "3.9.12"
  },
  "toc": {
   "base_numbering": 1,
   "nav_menu": {},
   "number_sections": true,
   "sideBar": true,
   "skip_h1_title": false,
   "title_cell": "Table of Contents",
   "title_sidebar": "Contents",
   "toc_cell": false,
   "toc_position": {
    "height": "calc(100% - 180px)",
    "left": "10px",
    "top": "150px",
    "width": "256px"
   },
   "toc_section_display": true,
   "toc_window_display": true
  }
 },
 "nbformat": 4,
 "nbformat_minor": 5
}
